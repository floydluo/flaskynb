{
 "cells": [
  {
   "cell_type": "markdown",
   "metadata": {},
   "source": [
    "# a. SQL Databases"
   ]
  },
  {
   "cell_type": "markdown",
   "metadata": {},
   "source": [
    "# b. NoSQL Databases"
   ]
  },
  {
   "cell_type": "markdown",
   "metadata": {},
   "source": [
    "# c. SQL or NoSQL"
   ]
  },
  {
   "cell_type": "markdown",
   "metadata": {},
   "source": [
    "# d. Python Database Frameworks"
   ]
  },
  {
   "cell_type": "markdown",
   "metadata": {},
   "source": [
    "# e. Database Management with Flask-SQLAlchemy\n",
    "\n",
    "```shell\n",
    "pip install flask-sqlalchemy\n",
    "```"
   ]
  },
  {
   "cell_type": "code",
   "execution_count": 1,
   "metadata": {
    "collapsed": true
   },
   "outputs": [],
   "source": [
    "import os\n",
    "from flask import Flask, render_template, session, redirect, url_for\n",
    "from flask_bootstrap import Bootstrap\n",
    "from flask_moment import Moment\n",
    "from flask_wtf import FlaskForm\n",
    "from wtforms import StringField, SubmitField\n",
    "from wtforms.validators import DataRequired\n",
    "\n",
    "# NEW\n",
    "from flask_sqlalchemy import SQLAlchemy"
   ]
  },
  {
   "cell_type": "code",
   "execution_count": 2,
   "metadata": {},
   "outputs": [
    {
     "name": "stdout",
     "output_type": "stream",
     "text": [
      "sqlite:///data.sqlite\n"
     ]
    }
   ],
   "source": [
    "app = Flask(__name__)\n",
    "app.config['SECRET_KEY'] = 'hard to guess string'\n",
    "app.config['SERVER_NAME'] = 'floydjjluo.me'\n",
    "#app.config['SERVER_NAME'] = ''\n",
    "app.config['WTF_CSRF_ENABLED'] = False\n",
    "\n",
    "\n",
    "# basedir = os.path.abspath(os.path.dirname(__file__)); print(basedir)\n",
    "basedir = ''\n",
    "DB_URI  = 'sqlite:///' + os.path.join(basedir, 'data.sqlite');print(DB_URI)\n",
    "app.config['SQLALCHEMY_DATABASE_URI'] = DB_URI\n",
    "app.config['SQLALCHEMY_TRACK_MODIFICATIONS'] = False\n"
   ]
  },
  {
   "cell_type": "code",
   "execution_count": 3,
   "metadata": {
    "collapsed": true
   },
   "outputs": [],
   "source": [
    "bootstrap = Bootstrap(app)\n",
    "moment = Moment(app)\n",
    "\n",
    "# new\n",
    "db = SQLAlchemy(app)\n"
   ]
  },
  {
   "cell_type": "markdown",
   "metadata": {},
   "source": [
    "# f. Model Definition"
   ]
  },
  {
   "cell_type": "code",
   "execution_count": 4,
   "metadata": {
    "collapsed": true
   },
   "outputs": [],
   "source": [
    "# basic the same as sqlalchemy\n",
    "\n",
    "class Role(db.Model):\n",
    "    __tablename__ = 'roles'\n",
    "    id = db.Column(db.Integer, primary_key=True)\n",
    "    name = db.Column(db.String(64), unique=True)\n",
    "\n",
    "    def __repr__(self):\n",
    "        return '<Role %r>' % self.name\n",
    "\n",
    "\n",
    "class User(db.Model):\n",
    "    __tablename__ = 'users'\n",
    "    id = db.Column(db.Integer, primary_key=True)\n",
    "    username = db.Column(db.String(64), unique=True, index=True)\n",
    "    role_id = db.Column(db.Integer, db.ForeignKey('roles.id'))\n",
    "\n",
    "    def __repr__(self):\n",
    "        return '<User %r>' % self.username\n"
   ]
  },
  {
   "cell_type": "markdown",
   "metadata": {},
   "source": [
    "# g. Relationships"
   ]
  },
  {
   "cell_type": "code",
   "execution_count": 1,
   "metadata": {},
   "outputs": [
    {
     "name": "stdout",
     "output_type": "stream",
     "text": [
      "sqlite:///data.sqlite\n"
     ]
    }
   ],
   "source": [
    "import os\n",
    "from flask import Flask, render_template, session, redirect, url_for\n",
    "from flask_bootstrap import Bootstrap\n",
    "from flask_moment import Moment\n",
    "from flask_wtf import FlaskForm\n",
    "from wtforms import StringField, SubmitField\n",
    "from wtforms.validators import DataRequired\n",
    "\n",
    "# NEW\n",
    "from flask_sqlalchemy import SQLAlchemy\n",
    "\n",
    "app = Flask(__name__)\n",
    "app.config['SECRET_KEY'] = 'hard to guess string'\n",
    "app.config['SERVER_NAME'] = 'floydjjluo.me'\n",
    "#app.config['SERVER_NAME'] = ''\n",
    "app.config['WTF_CSRF_ENABLED'] = False\n",
    "\n",
    "\n",
    "# basedir = os.path.abspath(os.path.dirname(__file__)); print(basedir)\n",
    "basedir = ''\n",
    "DB_URI  = 'sqlite:///' + os.path.join(basedir, 'data.sqlite');print(DB_URI)\n",
    "app.config['SQLALCHEMY_DATABASE_URI'] = DB_URI\n",
    "app.config['SQLALCHEMY_TRACK_MODIFICATIONS'] = False\n",
    "\n",
    "bootstrap = Bootstrap(app)\n",
    "moment = Moment(app)\n",
    "db = SQLAlchemy(app)"
   ]
  },
  {
   "cell_type": "code",
   "execution_count": 2,
   "metadata": {
    "collapsed": true
   },
   "outputs": [],
   "source": [
    "# basic the same as sqlalchemy\n",
    "\n",
    "class Role(db.Model):\n",
    "    __tablename__ = 'roles'\n",
    "    id = db.Column(db.Integer, primary_key=True)\n",
    "    name = db.Column(db.String(64), unique=True)\n",
    "    \n",
    "    users = db.relationship('User', backref = 'role') # new \n",
    "\n",
    "    def __repr__(self):\n",
    "        return '<Role %r>' % self.name\n",
    "\n",
    "\n",
    "class User(db.Model):\n",
    "    __tablename__ = 'users'\n",
    "    id = db.Column(db.Integer, primary_key=True)\n",
    "    username = db.Column(db.String(64), unique=True, index=True)\n",
    "    \n",
    "    role_id = db.Column(db.Integer, db.ForeignKey('roles.id')) # new\n",
    "\n",
    "    def __repr__(self):\n",
    "        return '<User %r>' % self.username\n"
   ]
  },
  {
   "cell_type": "markdown",
   "metadata": {},
   "source": [
    "# h. Database Operations"
   ]
  },
  {
   "cell_type": "markdown",
   "metadata": {},
   "source": [
    "### 8.1 Creating the Tables"
   ]
  },
  {
   "cell_type": "code",
   "execution_count": 5,
   "metadata": {
    "collapsed": true
   },
   "outputs": [],
   "source": [
    "# from hello import db\n",
    "db.create_all()"
   ]
  },
  {
   "cell_type": "code",
   "execution_count": 6,
   "metadata": {
    "collapsed": true
   },
   "outputs": [],
   "source": [
    "db.drop_all()\n",
    "db.create_all()"
   ]
  },
  {
   "cell_type": "markdown",
   "metadata": {},
   "source": [
    "### 8.2 Inserting Rows"
   ]
  },
  {
   "cell_type": "code",
   "execution_count": 7,
   "metadata": {
    "collapsed": true
   },
   "outputs": [],
   "source": [
    "admin_role = Role(name = 'Admin')\n",
    "mod_role = Role(name = 'Moderator')\n",
    "user_role = Role(name = 'User')"
   ]
  },
  {
   "cell_type": "code",
   "execution_count": 9,
   "metadata": {
    "collapsed": true
   },
   "outputs": [],
   "source": [
    "Floyd = User(username = 'Floyd', role = admin_role)\n",
    "\n",
    "Susan = User(username = 'Susan', role = user_role)\n",
    "David = User(username = 'David', role = user_role)"
   ]
  },
  {
   "cell_type": "code",
   "execution_count": 11,
   "metadata": {},
   "outputs": [
    {
     "name": "stdout",
     "output_type": "stream",
     "text": [
      "None\n"
     ]
    }
   ],
   "source": [
    "print(admin_role.id)"
   ]
  },
  {
   "cell_type": "code",
   "execution_count": 12,
   "metadata": {
    "collapsed": true
   },
   "outputs": [],
   "source": [
    "db.session.add(admin_role)\n",
    "db.session.add(mod_role)\n",
    "\n",
    "db.session.add(user_role)\n",
    "\n",
    "db.session.add(Floyd)\n",
    "\n",
    "db.session.add(Susan)\n",
    "\n",
    "\n",
    "db.session.add(David)"
   ]
  },
  {
   "cell_type": "code",
   "execution_count": 13,
   "metadata": {
    "collapsed": true
   },
   "outputs": [],
   "source": [
    "db.session.commit()"
   ]
  },
  {
   "cell_type": "code",
   "execution_count": 14,
   "metadata": {},
   "outputs": [
    {
     "data": {
      "text/plain": [
       "1"
      ]
     },
     "execution_count": 14,
     "metadata": {},
     "output_type": "execute_result"
    }
   ],
   "source": [
    "admin_role.id"
   ]
  },
  {
   "cell_type": "code",
   "execution_count": 15,
   "metadata": {},
   "outputs": [
    {
     "data": {
      "text/plain": [
       "3"
      ]
     },
     "execution_count": 15,
     "metadata": {},
     "output_type": "execute_result"
    }
   ],
   "source": [
    "user_role.id"
   ]
  },
  {
   "cell_type": "code",
   "execution_count": 16,
   "metadata": {},
   "outputs": [
    {
     "data": {
      "text/html": [
       "<div>\n",
       "<style scoped>\n",
       "    .dataframe tbody tr th:only-of-type {\n",
       "        vertical-align: middle;\n",
       "    }\n",
       "\n",
       "    .dataframe tbody tr th {\n",
       "        vertical-align: top;\n",
       "    }\n",
       "\n",
       "    .dataframe thead th {\n",
       "        text-align: right;\n",
       "    }\n",
       "</style>\n",
       "<table border=\"1\" class=\"dataframe\">\n",
       "  <thead>\n",
       "    <tr style=\"text-align: right;\">\n",
       "      <th></th>\n",
       "      <th>id</th>\n",
       "      <th>username</th>\n",
       "      <th>role_id</th>\n",
       "    </tr>\n",
       "  </thead>\n",
       "  <tbody>\n",
       "    <tr>\n",
       "      <th>0</th>\n",
       "      <td>1</td>\n",
       "      <td>Floyd</td>\n",
       "      <td>1</td>\n",
       "    </tr>\n",
       "    <tr>\n",
       "      <th>1</th>\n",
       "      <td>2</td>\n",
       "      <td>Susan</td>\n",
       "      <td>3</td>\n",
       "    </tr>\n",
       "    <tr>\n",
       "      <th>2</th>\n",
       "      <td>3</td>\n",
       "      <td>David</td>\n",
       "      <td>3</td>\n",
       "    </tr>\n",
       "  </tbody>\n",
       "</table>\n",
       "</div>"
      ],
      "text/plain": [
       "   id username  role_id\n",
       "0   1    Floyd        1\n",
       "1   2    Susan        3\n",
       "2   3    David        3"
      ]
     },
     "execution_count": 16,
     "metadata": {},
     "output_type": "execute_result"
    }
   ],
   "source": [
    "import sqlite3\n",
    "import pandas as pd\n",
    "conn = sqlite3.connect('data.sqlite')\n",
    "\n",
    "pd.read_sql(\"SELECT * FROM Users\", conn)"
   ]
  },
  {
   "cell_type": "code",
   "execution_count": 17,
   "metadata": {},
   "outputs": [
    {
     "data": {
      "text/html": [
       "<div>\n",
       "<style scoped>\n",
       "    .dataframe tbody tr th:only-of-type {\n",
       "        vertical-align: middle;\n",
       "    }\n",
       "\n",
       "    .dataframe tbody tr th {\n",
       "        vertical-align: top;\n",
       "    }\n",
       "\n",
       "    .dataframe thead th {\n",
       "        text-align: right;\n",
       "    }\n",
       "</style>\n",
       "<table border=\"1\" class=\"dataframe\">\n",
       "  <thead>\n",
       "    <tr style=\"text-align: right;\">\n",
       "      <th></th>\n",
       "      <th>id</th>\n",
       "      <th>name</th>\n",
       "    </tr>\n",
       "  </thead>\n",
       "  <tbody>\n",
       "    <tr>\n",
       "      <th>0</th>\n",
       "      <td>1</td>\n",
       "      <td>Admin</td>\n",
       "    </tr>\n",
       "    <tr>\n",
       "      <th>1</th>\n",
       "      <td>2</td>\n",
       "      <td>Moderator</td>\n",
       "    </tr>\n",
       "    <tr>\n",
       "      <th>2</th>\n",
       "      <td>3</td>\n",
       "      <td>User</td>\n",
       "    </tr>\n",
       "  </tbody>\n",
       "</table>\n",
       "</div>"
      ],
      "text/plain": [
       "   id       name\n",
       "0   1      Admin\n",
       "1   2  Moderator\n",
       "2   3       User"
      ]
     },
     "execution_count": 17,
     "metadata": {},
     "output_type": "execute_result"
    }
   ],
   "source": [
    "pd.read_sql(\"SELECT * FROM Roles\", conn)"
   ]
  },
  {
   "cell_type": "markdown",
   "metadata": {},
   "source": [
    "### 8.3 Modifying Rows"
   ]
  },
  {
   "cell_type": "code",
   "execution_count": 18,
   "metadata": {},
   "outputs": [
    {
     "data": {
      "text/plain": [
       "'Admin'"
      ]
     },
     "execution_count": 18,
     "metadata": {},
     "output_type": "execute_result"
    }
   ],
   "source": [
    "admin_role.name"
   ]
  },
  {
   "cell_type": "code",
   "execution_count": 19,
   "metadata": {
    "collapsed": true
   },
   "outputs": [],
   "source": [
    "admin_role.name = 'Administrator'"
   ]
  },
  {
   "cell_type": "code",
   "execution_count": 20,
   "metadata": {
    "collapsed": true
   },
   "outputs": [],
   "source": [
    "db.session.add(admin_role)\n",
    "db.session.commit()"
   ]
  },
  {
   "cell_type": "code",
   "execution_count": 21,
   "metadata": {},
   "outputs": [
    {
     "data": {
      "text/html": [
       "<div>\n",
       "<style scoped>\n",
       "    .dataframe tbody tr th:only-of-type {\n",
       "        vertical-align: middle;\n",
       "    }\n",
       "\n",
       "    .dataframe tbody tr th {\n",
       "        vertical-align: top;\n",
       "    }\n",
       "\n",
       "    .dataframe thead th {\n",
       "        text-align: right;\n",
       "    }\n",
       "</style>\n",
       "<table border=\"1\" class=\"dataframe\">\n",
       "  <thead>\n",
       "    <tr style=\"text-align: right;\">\n",
       "      <th></th>\n",
       "      <th>id</th>\n",
       "      <th>name</th>\n",
       "    </tr>\n",
       "  </thead>\n",
       "  <tbody>\n",
       "    <tr>\n",
       "      <th>0</th>\n",
       "      <td>1</td>\n",
       "      <td>Administrator</td>\n",
       "    </tr>\n",
       "    <tr>\n",
       "      <th>1</th>\n",
       "      <td>2</td>\n",
       "      <td>Moderator</td>\n",
       "    </tr>\n",
       "    <tr>\n",
       "      <th>2</th>\n",
       "      <td>3</td>\n",
       "      <td>User</td>\n",
       "    </tr>\n",
       "  </tbody>\n",
       "</table>\n",
       "</div>"
      ],
      "text/plain": [
       "   id           name\n",
       "0   1  Administrator\n",
       "1   2      Moderator\n",
       "2   3           User"
      ]
     },
     "execution_count": 21,
     "metadata": {},
     "output_type": "execute_result"
    }
   ],
   "source": [
    "pd.read_sql(\"SELECT * FROM Roles\", conn)"
   ]
  },
  {
   "cell_type": "markdown",
   "metadata": {},
   "source": [
    "### 8.4 Deleting Rows"
   ]
  },
  {
   "cell_type": "code",
   "execution_count": 22,
   "metadata": {
    "collapsed": true
   },
   "outputs": [],
   "source": [
    "db.session.delete(mod_role)\n",
    "db.session.commit()"
   ]
  },
  {
   "cell_type": "code",
   "execution_count": 23,
   "metadata": {},
   "outputs": [
    {
     "data": {
      "text/html": [
       "<div>\n",
       "<style scoped>\n",
       "    .dataframe tbody tr th:only-of-type {\n",
       "        vertical-align: middle;\n",
       "    }\n",
       "\n",
       "    .dataframe tbody tr th {\n",
       "        vertical-align: top;\n",
       "    }\n",
       "\n",
       "    .dataframe thead th {\n",
       "        text-align: right;\n",
       "    }\n",
       "</style>\n",
       "<table border=\"1\" class=\"dataframe\">\n",
       "  <thead>\n",
       "    <tr style=\"text-align: right;\">\n",
       "      <th></th>\n",
       "      <th>id</th>\n",
       "      <th>name</th>\n",
       "    </tr>\n",
       "  </thead>\n",
       "  <tbody>\n",
       "    <tr>\n",
       "      <th>0</th>\n",
       "      <td>1</td>\n",
       "      <td>Administrator</td>\n",
       "    </tr>\n",
       "    <tr>\n",
       "      <th>1</th>\n",
       "      <td>3</td>\n",
       "      <td>User</td>\n",
       "    </tr>\n",
       "  </tbody>\n",
       "</table>\n",
       "</div>"
      ],
      "text/plain": [
       "   id           name\n",
       "0   1  Administrator\n",
       "1   3           User"
      ]
     },
     "execution_count": 23,
     "metadata": {},
     "output_type": "execute_result"
    }
   ],
   "source": [
    "pd.read_sql(\"SELECT * FROM Roles\", conn)"
   ]
  },
  {
   "cell_type": "markdown",
   "metadata": {},
   "source": [
    "### 8.5 Querying Rows"
   ]
  },
  {
   "cell_type": "code",
   "execution_count": 24,
   "metadata": {},
   "outputs": [
    {
     "data": {
      "text/plain": [
       "[<Role 'Administrator'>, <Role 'User'>]"
      ]
     },
     "execution_count": 24,
     "metadata": {},
     "output_type": "execute_result"
    }
   ],
   "source": [
    "Role.query.all()"
   ]
  },
  {
   "cell_type": "code",
   "execution_count": 25,
   "metadata": {},
   "outputs": [
    {
     "data": {
      "text/plain": [
       "[<User 'Floyd'>, <User 'Susan'>, <User 'David'>]"
      ]
     },
     "execution_count": 25,
     "metadata": {},
     "output_type": "execute_result"
    }
   ],
   "source": [
    "User.query.all()"
   ]
  },
  {
   "cell_type": "code",
   "execution_count": 27,
   "metadata": {},
   "outputs": [
    {
     "data": {
      "text/plain": [
       "[<User 'Susan'>, <User 'David'>]"
      ]
     },
     "execution_count": 27,
     "metadata": {},
     "output_type": "execute_result"
    }
   ],
   "source": [
    "User.query.filter_by(role = user_role).all()"
   ]
  },
  {
   "cell_type": "code",
   "execution_count": 30,
   "metadata": {},
   "outputs": [
    {
     "name": "stdout",
     "output_type": "stream",
     "text": [
      "SELECT users.id AS users_id, users.username AS users_username, users.role_id AS users_role_id \n",
      "FROM users \n",
      "WHERE ? = users.role_id\n"
     ]
    }
   ],
   "source": [
    "print(str(User.query.filter_by(role = user_role)))"
   ]
  },
  {
   "cell_type": "code",
   "execution_count": 31,
   "metadata": {},
   "outputs": [
    {
     "data": {
      "text/plain": [
       "<User 'Susan'>"
      ]
     },
     "execution_count": 31,
     "metadata": {},
     "output_type": "execute_result"
    }
   ],
   "source": [
    "User.query.filter_by(role = user_role).first()"
   ]
  },
  {
   "cell_type": "code",
   "execution_count": 33,
   "metadata": {},
   "outputs": [
    {
     "data": {
      "text/plain": [
       "[<User 'Susan'>, <User 'David'>]"
      ]
     },
     "execution_count": 33,
     "metadata": {},
     "output_type": "execute_result"
    }
   ],
   "source": [
    "users = user_role.users\n",
    "users"
   ]
  },
  {
   "cell_type": "code",
   "execution_count": 34,
   "metadata": {},
   "outputs": [
    {
     "data": {
      "text/plain": [
       "<Role 'User'>"
      ]
     },
     "execution_count": 34,
     "metadata": {},
     "output_type": "execute_result"
    }
   ],
   "source": [
    "Susan = users[0]\n",
    "Susan.role"
   ]
  },
  {
   "cell_type": "markdown",
   "metadata": {},
   "source": [
    "**Change the lazy to dynamic**"
   ]
  },
  {
   "cell_type": "code",
   "execution_count": 1,
   "metadata": {},
   "outputs": [
    {
     "name": "stdout",
     "output_type": "stream",
     "text": [
      "sqlite:///data.sqlite\n"
     ]
    }
   ],
   "source": [
    "import os\n",
    "from flask import Flask, render_template, session, redirect, url_for\n",
    "from flask_bootstrap import Bootstrap\n",
    "from flask_moment import Moment\n",
    "from flask_wtf import FlaskForm\n",
    "from wtforms import StringField, SubmitField\n",
    "from wtforms.validators import DataRequired\n",
    "\n",
    "# NEW\n",
    "from flask_sqlalchemy import SQLAlchemy\n",
    "import sqlite3\n",
    "import pandas as pd\n",
    "\n",
    "\n",
    "app = Flask(__name__)\n",
    "app.config['SECRET_KEY'] = 'hard to guess string'\n",
    "app.config['SERVER_NAME'] = 'floydjjluo.me'\n",
    "#app.config['SERVER_NAME'] = ''\n",
    "app.config['WTF_CSRF_ENABLED'] = False\n",
    "\n",
    "\n",
    "# basedir = os.path.abspath(os.path.dirname(__file__)); print(basedir)\n",
    "basedir = ''\n",
    "DB_URI  = 'sqlite:///' + os.path.join(basedir, 'data.sqlite');print(DB_URI)\n",
    "app.config['SQLALCHEMY_DATABASE_URI'] = DB_URI\n",
    "app.config['SQLALCHEMY_TRACK_MODIFICATIONS'] = False\n",
    "\n",
    "bootstrap = Bootstrap(app)\n",
    "moment = Moment(app)\n",
    "db = SQLAlchemy(app)"
   ]
  },
  {
   "cell_type": "code",
   "execution_count": 2,
   "metadata": {
    "collapsed": true
   },
   "outputs": [],
   "source": [
    "# basic the same as sqlalchemy\n",
    "\n",
    "class Role(db.Model):\n",
    "    __tablename__ = 'roles'\n",
    "    id = db.Column(db.Integer, primary_key=True)\n",
    "    name = db.Column(db.String(64), unique=True)\n",
    "    \n",
    "    users = db.relationship('User', backref = 'role', lazy = 'dynamic') # new \n",
    "\n",
    "    def __repr__(self):\n",
    "        return '<Role %r>' % self.name\n",
    "\n",
    "\n",
    "class User(db.Model):\n",
    "    __tablename__ = 'users'\n",
    "    id = db.Column(db.Integer, primary_key=True)\n",
    "    username = db.Column(db.String(64), unique=True, index=True)\n",
    "    \n",
    "    role_id = db.Column(db.Integer, db.ForeignKey('roles.id')) \n",
    "\n",
    "    def __repr__(self):\n",
    "        return '<User %r>' % self.username\n",
    "\n"
   ]
  },
  {
   "cell_type": "code",
   "execution_count": 3,
   "metadata": {
    "collapsed": true
   },
   "outputs": [],
   "source": [
    "db.create_all()\n",
    "admin_role = Role(name = 'Admin')\n",
    "mod_role = Role(name = 'Moderator')\n",
    "user_role = Role(name = 'User')\n",
    "Floyd = User(username = 'Floyd', role = admin_role)\n",
    "\n",
    "Susan = User(username = 'Susan', role = user_role)\n",
    "David = User(username = 'David', role = user_role)\n",
    "\n",
    "\n",
    "db.session.add(admin_role)\n",
    "db.session.add(mod_role)\n",
    "db.session.add(user_role)\n",
    "db.session.add(Floyd)\n",
    "db.session.add(Susan)\n",
    "db.session.add(David)\n",
    "db.session.commit()"
   ]
  },
  {
   "cell_type": "code",
   "execution_count": 4,
   "metadata": {},
   "outputs": [
    {
     "data": {
      "text/html": [
       "<div>\n",
       "<style scoped>\n",
       "    .dataframe tbody tr th:only-of-type {\n",
       "        vertical-align: middle;\n",
       "    }\n",
       "\n",
       "    .dataframe tbody tr th {\n",
       "        vertical-align: top;\n",
       "    }\n",
       "\n",
       "    .dataframe thead th {\n",
       "        text-align: right;\n",
       "    }\n",
       "</style>\n",
       "<table border=\"1\" class=\"dataframe\">\n",
       "  <thead>\n",
       "    <tr style=\"text-align: right;\">\n",
       "      <th></th>\n",
       "      <th>id</th>\n",
       "      <th>username</th>\n",
       "      <th>role_id</th>\n",
       "    </tr>\n",
       "  </thead>\n",
       "  <tbody>\n",
       "    <tr>\n",
       "      <th>0</th>\n",
       "      <td>1</td>\n",
       "      <td>Floyd</td>\n",
       "      <td>1</td>\n",
       "    </tr>\n",
       "    <tr>\n",
       "      <th>1</th>\n",
       "      <td>2</td>\n",
       "      <td>Susan</td>\n",
       "      <td>3</td>\n",
       "    </tr>\n",
       "    <tr>\n",
       "      <th>2</th>\n",
       "      <td>3</td>\n",
       "      <td>David</td>\n",
       "      <td>3</td>\n",
       "    </tr>\n",
       "  </tbody>\n",
       "</table>\n",
       "</div>"
      ],
      "text/plain": [
       "   id username  role_id\n",
       "0   1    Floyd        1\n",
       "1   2    Susan        3\n",
       "2   3    David        3"
      ]
     },
     "execution_count": 4,
     "metadata": {},
     "output_type": "execute_result"
    }
   ],
   "source": [
    "conn = sqlite3.connect('data.sqlite')\n",
    "\n",
    "pd.read_sql(\"SELECT * FROM Users\", conn)"
   ]
  },
  {
   "cell_type": "code",
   "execution_count": 5,
   "metadata": {},
   "outputs": [
    {
     "data": {
      "text/html": [
       "<div>\n",
       "<style scoped>\n",
       "    .dataframe tbody tr th:only-of-type {\n",
       "        vertical-align: middle;\n",
       "    }\n",
       "\n",
       "    .dataframe tbody tr th {\n",
       "        vertical-align: top;\n",
       "    }\n",
       "\n",
       "    .dataframe thead th {\n",
       "        text-align: right;\n",
       "    }\n",
       "</style>\n",
       "<table border=\"1\" class=\"dataframe\">\n",
       "  <thead>\n",
       "    <tr style=\"text-align: right;\">\n",
       "      <th></th>\n",
       "      <th>id</th>\n",
       "      <th>name</th>\n",
       "    </tr>\n",
       "  </thead>\n",
       "  <tbody>\n",
       "    <tr>\n",
       "      <th>0</th>\n",
       "      <td>1</td>\n",
       "      <td>Admin</td>\n",
       "    </tr>\n",
       "    <tr>\n",
       "      <th>1</th>\n",
       "      <td>2</td>\n",
       "      <td>Moderator</td>\n",
       "    </tr>\n",
       "    <tr>\n",
       "      <th>2</th>\n",
       "      <td>3</td>\n",
       "      <td>User</td>\n",
       "    </tr>\n",
       "  </tbody>\n",
       "</table>\n",
       "</div>"
      ],
      "text/plain": [
       "   id       name\n",
       "0   1      Admin\n",
       "1   2  Moderator\n",
       "2   3       User"
      ]
     },
     "execution_count": 5,
     "metadata": {},
     "output_type": "execute_result"
    }
   ],
   "source": [
    "pd.read_sql(\"SELECT * FROM Roles\", conn)"
   ]
  },
  {
   "cell_type": "code",
   "execution_count": 6,
   "metadata": {},
   "outputs": [
    {
     "data": {
      "text/plain": [
       "<sqlalchemy.orm.dynamic.AppenderBaseQuery at 0x10db0ba20>"
      ]
     },
     "execution_count": 6,
     "metadata": {},
     "output_type": "execute_result"
    }
   ],
   "source": [
    "user_role.users # this is different from last section"
   ]
  },
  {
   "cell_type": "code",
   "execution_count": 7,
   "metadata": {},
   "outputs": [
    {
     "data": {
      "text/plain": [
       "2"
      ]
     },
     "execution_count": 7,
     "metadata": {},
     "output_type": "execute_result"
    }
   ],
   "source": [
    "user_role.users.count()"
   ]
  },
  {
   "cell_type": "code",
   "execution_count": 8,
   "metadata": {},
   "outputs": [
    {
     "data": {
      "text/plain": [
       "[<User 'David'>, <User 'Susan'>]"
      ]
     },
     "execution_count": 8,
     "metadata": {},
     "output_type": "execute_result"
    }
   ],
   "source": [
    "user_role.users.order_by(User.username).all()"
   ]
  },
  {
   "cell_type": "markdown",
   "metadata": {},
   "source": [
    "# i. Database Use in View Function"
   ]
  },
  {
   "cell_type": "code",
   "execution_count": 9,
   "metadata": {
    "collapsed": true
   },
   "outputs": [],
   "source": [
    "from IPython.core.display import display, HTML\n",
    "\n",
    "def show(string):\n",
    "    display(HTML(string))"
   ]
  },
  {
   "cell_type": "code",
   "execution_count": 10,
   "metadata": {
    "collapsed": true
   },
   "outputs": [],
   "source": [
    "class NameForm(FlaskForm):\n",
    "    name = StringField('What is your name?', validators=[DataRequired()])\n",
    "    submit = SubmitField('Submit')"
   ]
  },
  {
   "cell_type": "code",
   "execution_count": 11,
   "metadata": {},
   "outputs": [
    {
     "name": "stdout",
     "output_type": "stream",
     "text": [
      "Overwriting templates/i_index.html\n"
     ]
    }
   ],
   "source": [
    "%%writefile templates/i_index.html\n",
    "{% extends \"base.html\" %}\n",
    "{% import \"bootstrap/wtf.html\" as wtf %}\n",
    "\n",
    "{% block title %}Flasky{% endblock %}\n",
    "\n",
    "{% block page_content %}\n",
    "<div class=\"page-header\">\n",
    "    <h1>Hello, {% if name %}{{ name }}{% else %}Stranger{% endif %}!</h1>\n",
    "    {% if not known %}\n",
    "    <p>Pleased to meet you!</p>\n",
    "    {% else %}\n",
    "    <p>Happy to see you again!</p>\n",
    "    {% endif %}\n",
    "</div>\n",
    "{{ wtf.quick_form(form) }}\n",
    "{% endblock %}"
   ]
  },
  {
   "cell_type": "code",
   "execution_count": 12,
   "metadata": {
    "collapsed": true
   },
   "outputs": [],
   "source": [
    "app_ctx = app.app_context()\n",
    "app_ctx.push()\n",
    "client = app.test_client(use_cookies=True)"
   ]
  },
  {
   "cell_type": "code",
   "execution_count": 13,
   "metadata": {
    "collapsed": true
   },
   "outputs": [],
   "source": [
    "@app.route('/i_index', methods=['GET', 'POST'])\n",
    "def i_index():\n",
    "    form = NameForm()\n",
    "    \n",
    "    if form.validate_on_submit():\n",
    "        user = User.query.filter_by(username=form.name.data).first()\n",
    "        if user is None:\n",
    "            user = User(username=form.name.data)\n",
    "            db.session.add(user)\n",
    "            db.session.commit()\n",
    "            session['known'] = False\n",
    "        else:\n",
    "            session['known'] = True\n",
    "        session['name'] = form.name.data\n",
    "        \n",
    "        # return redirect(url_for('index'))\n",
    "        return client.get('/i_index')\n",
    "    \n",
    "    o = render_template('i_index.html', \n",
    "                        form=form, \n",
    "                        name=session.get('name'),\n",
    "                        known=session.get('known', False)); show(o)\n",
    "    return o"
   ]
  },
  {
   "cell_type": "code",
   "execution_count": 14,
   "metadata": {},
   "outputs": [
    {
     "data": {
      "text/html": [
       "<!DOCTYPE html>\n",
       "<html>\n",
       "  <head>\n",
       "\n",
       "    <title>Flasky</title>\n",
       "    <meta name=\"viewport\" content=\"width=device-width, initial-scale=1.0\">\n",
       "    <!-- Bootstrap -->\n",
       "    <link href=\"//cdnjs.cloudflare.com/ajax/libs/twitter-bootstrap/3.3.7/css/bootstrap.min.css\" rel=\"stylesheet\">\n",
       "<link rel=\"shortcut icon\" href=\"/static/favicon.ico\" type=\"image/x-icon\">\n",
       "<link rel=\"icon\" href=\"/static/favicon.ico\" type=\"image/x-icon\">\n",
       "\n",
       "  </head>\n",
       "  <body>\n",
       "    \n",
       "<div class=\"navbar navbar-inverse\" role=\"navigation\">\n",
       "    <div class=\"container\">\n",
       "        <div class=\"navbar-header\">\n",
       "            <button type=\"button\" class=\"navbar-toggle\" data-toggle=\"collapse\" data-target=\".navbar-collapse\">\n",
       "                <span class=\"sr-only\">Toggle navigation</span>\n",
       "                <span class=\"icon-bar\"></span>\n",
       "                <span class=\"icon-bar\"></span>\n",
       "                <span class=\"icon-bar\"></span>\n",
       "            </button>\n",
       "            <a class=\"navbar-brand\" href=\"/\">Flasky</a>\n",
       "        </div>\n",
       "        <div class=\"navbar-collapse collapse\">\n",
       "            <ul class=\"nav navbar-nav\">\n",
       "                <li><a href=\"/\">Home</a></li>\n",
       "            </ul>\n",
       "        </div>\n",
       "    </div>\n",
       "</div>\n",
       "\n",
       "    \n",
       "<div class=\"container\">\n",
       "    \n",
       "\n",
       "    \n",
       "<div class=\"page-header\">\n",
       "    <h1>Hello, Stranger!</h1>\n",
       "    \n",
       "    <p>Pleased to meet you!</p>\n",
       "    \n",
       "</div>\n",
       "\n",
       "<form action=\"\" method=\"post\"\n",
       "  class=\"form\" role=\"form\">\n",
       "  \n",
       "  \n",
       "    \n",
       "\n",
       "\n",
       "\n",
       "\n",
       "\n",
       "\n",
       "<div class=\"form-group  required\"><label class=\"control-label\" for=\"name\">What is your name?</label>\n",
       "        \n",
       "          <input class=\"form-control\" id=\"name\" name=\"name\" required type=\"text\" value=\"\">\n",
       "        \n",
       "  </div>\n",
       "\n",
       "\n",
       "    \n",
       "\n",
       "\n",
       "\n",
       "\n",
       "\n",
       "  \n",
       "\n",
       "  \n",
       "  \n",
       "\n",
       "\n",
       "    <input class=\"btn btn-default\" id=\"submit\" name=\"submit\" type=\"submit\" value=\"Submit\">\n",
       "  \n",
       "\n",
       "\n",
       "\n",
       "\n",
       "\n",
       "</form>\n",
       "\n",
       "</div>\n",
       "\n",
       "\n",
       "    \n",
       "\n",
       "    <script src=\"//cdnjs.cloudflare.com/ajax/libs/jquery/1.12.4/jquery.min.js\"></script>\n",
       "    <script src=\"//cdnjs.cloudflare.com/ajax/libs/twitter-bootstrap/3.3.7/js/bootstrap.min.js\"></script>\n",
       "<script src=\"//cdnjs.cloudflare.com/ajax/libs/moment.js/2.18.1/moment-with-locales.min.js\"></script>\n",
       "<script>\n",
       "moment.locale(\"en\");\n",
       "function flask_moment_render(elem) {\n",
       "    $(elem).text(eval('moment(\"' + $(elem).data('timestamp') + '\").' + $(elem).data('format') + ';'));\n",
       "    $(elem).removeClass('flask-moment').show();\n",
       "}\n",
       "function flask_moment_render_all() {\n",
       "    $('.flask-moment').each(function() {\n",
       "        flask_moment_render(this);\n",
       "        if ($(this).data('refresh')) {\n",
       "            (function(elem, interval) { setInterval(function() { flask_moment_render(elem) }, interval); })(this, $(this).data('refresh'));\n",
       "        }\n",
       "    })\n",
       "}\n",
       "$(document).ready(function() {\n",
       "    flask_moment_render_all();\n",
       "});\n",
       "</script>\n",
       "\n",
       "  </body>\n",
       "</html>\n"
      ],
      "text/plain": [
       "<IPython.core.display.HTML object>"
      ]
     },
     "metadata": {},
     "output_type": "display_data"
    },
    {
     "data": {
      "text/plain": [
       "<Response streamed [200 OK]>"
      ]
     },
     "execution_count": 14,
     "metadata": {},
     "output_type": "execute_result"
    }
   ],
   "source": [
    "client.get('/i_index')"
   ]
  },
  {
   "cell_type": "code",
   "execution_count": 15,
   "metadata": {},
   "outputs": [
    {
     "data": {
      "text/html": [
       "<!DOCTYPE html>\n",
       "<html>\n",
       "  <head>\n",
       "\n",
       "    <title>Flasky</title>\n",
       "    <meta name=\"viewport\" content=\"width=device-width, initial-scale=1.0\">\n",
       "    <!-- Bootstrap -->\n",
       "    <link href=\"//cdnjs.cloudflare.com/ajax/libs/twitter-bootstrap/3.3.7/css/bootstrap.min.css\" rel=\"stylesheet\">\n",
       "<link rel=\"shortcut icon\" href=\"/static/favicon.ico\" type=\"image/x-icon\">\n",
       "<link rel=\"icon\" href=\"/static/favicon.ico\" type=\"image/x-icon\">\n",
       "\n",
       "  </head>\n",
       "  <body>\n",
       "    \n",
       "<div class=\"navbar navbar-inverse\" role=\"navigation\">\n",
       "    <div class=\"container\">\n",
       "        <div class=\"navbar-header\">\n",
       "            <button type=\"button\" class=\"navbar-toggle\" data-toggle=\"collapse\" data-target=\".navbar-collapse\">\n",
       "                <span class=\"sr-only\">Toggle navigation</span>\n",
       "                <span class=\"icon-bar\"></span>\n",
       "                <span class=\"icon-bar\"></span>\n",
       "                <span class=\"icon-bar\"></span>\n",
       "            </button>\n",
       "            <a class=\"navbar-brand\" href=\"/\">Flasky</a>\n",
       "        </div>\n",
       "        <div class=\"navbar-collapse collapse\">\n",
       "            <ul class=\"nav navbar-nav\">\n",
       "                <li><a href=\"/\">Home</a></li>\n",
       "            </ul>\n",
       "        </div>\n",
       "    </div>\n",
       "</div>\n",
       "\n",
       "    \n",
       "<div class=\"container\">\n",
       "    \n",
       "\n",
       "    \n",
       "<div class=\"page-header\">\n",
       "    <h1>Hello, Stranger!</h1>\n",
       "    \n",
       "    <p>Pleased to meet you!</p>\n",
       "    \n",
       "</div>\n",
       "\n",
       "<form action=\"\" method=\"post\"\n",
       "  class=\"form\" role=\"form\">\n",
       "  \n",
       "  \n",
       "    \n",
       "\n",
       "\n",
       "\n",
       "\n",
       "\n",
       "\n",
       "<div class=\"form-group  has-error required\"><label class=\"control-label\" for=\"name\">What is your name?</label>\n",
       "        \n",
       "          <input class=\"form-control\" id=\"name\" name=\"name\" required type=\"text\" value=\"\">\n",
       "        \n",
       "            <p class=\"help-block\">This field is required.</p>\n",
       "  </div>\n",
       "\n",
       "\n",
       "    \n",
       "\n",
       "\n",
       "\n",
       "\n",
       "\n",
       "  \n",
       "\n",
       "  \n",
       "  \n",
       "\n",
       "\n",
       "    <input class=\"btn btn-default\" id=\"submit\" name=\"submit\" type=\"submit\" value=\"Submit\">\n",
       "  \n",
       "\n",
       "\n",
       "\n",
       "\n",
       "\n",
       "</form>\n",
       "\n",
       "</div>\n",
       "\n",
       "\n",
       "    \n",
       "\n",
       "    <script src=\"//cdnjs.cloudflare.com/ajax/libs/jquery/1.12.4/jquery.min.js\"></script>\n",
       "    <script src=\"//cdnjs.cloudflare.com/ajax/libs/twitter-bootstrap/3.3.7/js/bootstrap.min.js\"></script>\n",
       "<script src=\"//cdnjs.cloudflare.com/ajax/libs/moment.js/2.18.1/moment-with-locales.min.js\"></script>\n",
       "<script>\n",
       "moment.locale(\"en\");\n",
       "function flask_moment_render(elem) {\n",
       "    $(elem).text(eval('moment(\"' + $(elem).data('timestamp') + '\").' + $(elem).data('format') + ';'));\n",
       "    $(elem).removeClass('flask-moment').show();\n",
       "}\n",
       "function flask_moment_render_all() {\n",
       "    $('.flask-moment').each(function() {\n",
       "        flask_moment_render(this);\n",
       "        if ($(this).data('refresh')) {\n",
       "            (function(elem, interval) { setInterval(function() { flask_moment_render(elem) }, interval); })(this, $(this).data('refresh'));\n",
       "        }\n",
       "    })\n",
       "}\n",
       "$(document).ready(function() {\n",
       "    flask_moment_render_all();\n",
       "});\n",
       "</script>\n",
       "\n",
       "  </body>\n",
       "</html>\n"
      ],
      "text/plain": [
       "<IPython.core.display.HTML object>"
      ]
     },
     "metadata": {},
     "output_type": "display_data"
    },
    {
     "data": {
      "text/plain": [
       "<Response streamed [200 OK]>"
      ]
     },
     "execution_count": 15,
     "metadata": {},
     "output_type": "execute_result"
    }
   ],
   "source": [
    "client.post('/i_index')"
   ]
  },
  {
   "cell_type": "code",
   "execution_count": 16,
   "metadata": {},
   "outputs": [
    {
     "data": {
      "text/html": [
       "<!DOCTYPE html>\n",
       "<html>\n",
       "  <head>\n",
       "\n",
       "    <title>Flasky</title>\n",
       "    <meta name=\"viewport\" content=\"width=device-width, initial-scale=1.0\">\n",
       "    <!-- Bootstrap -->\n",
       "    <link href=\"//cdnjs.cloudflare.com/ajax/libs/twitter-bootstrap/3.3.7/css/bootstrap.min.css\" rel=\"stylesheet\">\n",
       "<link rel=\"shortcut icon\" href=\"/static/favicon.ico\" type=\"image/x-icon\">\n",
       "<link rel=\"icon\" href=\"/static/favicon.ico\" type=\"image/x-icon\">\n",
       "\n",
       "  </head>\n",
       "  <body>\n",
       "    \n",
       "<div class=\"navbar navbar-inverse\" role=\"navigation\">\n",
       "    <div class=\"container\">\n",
       "        <div class=\"navbar-header\">\n",
       "            <button type=\"button\" class=\"navbar-toggle\" data-toggle=\"collapse\" data-target=\".navbar-collapse\">\n",
       "                <span class=\"sr-only\">Toggle navigation</span>\n",
       "                <span class=\"icon-bar\"></span>\n",
       "                <span class=\"icon-bar\"></span>\n",
       "                <span class=\"icon-bar\"></span>\n",
       "            </button>\n",
       "            <a class=\"navbar-brand\" href=\"/\">Flasky</a>\n",
       "        </div>\n",
       "        <div class=\"navbar-collapse collapse\">\n",
       "            <ul class=\"nav navbar-nav\">\n",
       "                <li><a href=\"/\">Home</a></li>\n",
       "            </ul>\n",
       "        </div>\n",
       "    </div>\n",
       "</div>\n",
       "\n",
       "    \n",
       "<div class=\"container\">\n",
       "    \n",
       "\n",
       "    \n",
       "<div class=\"page-header\">\n",
       "    <h1>Hello, Stranger!</h1>\n",
       "    \n",
       "    <p>Pleased to meet you!</p>\n",
       "    \n",
       "</div>\n",
       "\n",
       "<form action=\"\" method=\"post\"\n",
       "  class=\"form\" role=\"form\">\n",
       "  \n",
       "  \n",
       "    \n",
       "\n",
       "\n",
       "\n",
       "\n",
       "\n",
       "\n",
       "<div class=\"form-group  required\"><label class=\"control-label\" for=\"name\">What is your name?</label>\n",
       "        \n",
       "          <input class=\"form-control\" id=\"name\" name=\"name\" required type=\"text\" value=\"\">\n",
       "        \n",
       "  </div>\n",
       "\n",
       "\n",
       "    \n",
       "\n",
       "\n",
       "\n",
       "\n",
       "\n",
       "  \n",
       "\n",
       "  \n",
       "  \n",
       "\n",
       "\n",
       "    <input class=\"btn btn-default\" id=\"submit\" name=\"submit\" type=\"submit\" value=\"Submit\">\n",
       "  \n",
       "\n",
       "\n",
       "\n",
       "\n",
       "\n",
       "</form>\n",
       "\n",
       "</div>\n",
       "\n",
       "\n",
       "    \n",
       "\n",
       "    <script src=\"//cdnjs.cloudflare.com/ajax/libs/jquery/1.12.4/jquery.min.js\"></script>\n",
       "    <script src=\"//cdnjs.cloudflare.com/ajax/libs/twitter-bootstrap/3.3.7/js/bootstrap.min.js\"></script>\n",
       "<script src=\"//cdnjs.cloudflare.com/ajax/libs/moment.js/2.18.1/moment-with-locales.min.js\"></script>\n",
       "<script>\n",
       "moment.locale(\"en\");\n",
       "function flask_moment_render(elem) {\n",
       "    $(elem).text(eval('moment(\"' + $(elem).data('timestamp') + '\").' + $(elem).data('format') + ';'));\n",
       "    $(elem).removeClass('flask-moment').show();\n",
       "}\n",
       "function flask_moment_render_all() {\n",
       "    $('.flask-moment').each(function() {\n",
       "        flask_moment_render(this);\n",
       "        if ($(this).data('refresh')) {\n",
       "            (function(elem, interval) { setInterval(function() { flask_moment_render(elem) }, interval); })(this, $(this).data('refresh'));\n",
       "        }\n",
       "    })\n",
       "}\n",
       "$(document).ready(function() {\n",
       "    flask_moment_render_all();\n",
       "});\n",
       "</script>\n",
       "\n",
       "  </body>\n",
       "</html>\n"
      ],
      "text/plain": [
       "<IPython.core.display.HTML object>"
      ]
     },
     "metadata": {},
     "output_type": "display_data"
    },
    {
     "data": {
      "text/plain": [
       "<Response streamed [200 OK]>"
      ]
     },
     "execution_count": 16,
     "metadata": {},
     "output_type": "execute_result"
    }
   ],
   "source": [
    "client.post('/i_index', data = {'name': 'Lloyd'})"
   ]
  },
  {
   "cell_type": "code",
   "execution_count": 17,
   "metadata": {},
   "outputs": [
    {
     "data": {
      "text/html": [
       "<div>\n",
       "<style scoped>\n",
       "    .dataframe tbody tr th:only-of-type {\n",
       "        vertical-align: middle;\n",
       "    }\n",
       "\n",
       "    .dataframe tbody tr th {\n",
       "        vertical-align: top;\n",
       "    }\n",
       "\n",
       "    .dataframe thead th {\n",
       "        text-align: right;\n",
       "    }\n",
       "</style>\n",
       "<table border=\"1\" class=\"dataframe\">\n",
       "  <thead>\n",
       "    <tr style=\"text-align: right;\">\n",
       "      <th></th>\n",
       "      <th>id</th>\n",
       "      <th>username</th>\n",
       "      <th>role_id</th>\n",
       "    </tr>\n",
       "  </thead>\n",
       "  <tbody>\n",
       "    <tr>\n",
       "      <th>0</th>\n",
       "      <td>1</td>\n",
       "      <td>Floyd</td>\n",
       "      <td>1.0</td>\n",
       "    </tr>\n",
       "    <tr>\n",
       "      <th>1</th>\n",
       "      <td>2</td>\n",
       "      <td>Susan</td>\n",
       "      <td>3.0</td>\n",
       "    </tr>\n",
       "    <tr>\n",
       "      <th>2</th>\n",
       "      <td>3</td>\n",
       "      <td>David</td>\n",
       "      <td>3.0</td>\n",
       "    </tr>\n",
       "    <tr>\n",
       "      <th>3</th>\n",
       "      <td>4</td>\n",
       "      <td>Lloyd</td>\n",
       "      <td>NaN</td>\n",
       "    </tr>\n",
       "  </tbody>\n",
       "</table>\n",
       "</div>"
      ],
      "text/plain": [
       "   id username  role_id\n",
       "0   1    Floyd      1.0\n",
       "1   2    Susan      3.0\n",
       "2   3    David      3.0\n",
       "3   4    Lloyd      NaN"
      ]
     },
     "execution_count": 17,
     "metadata": {},
     "output_type": "execute_result"
    }
   ],
   "source": [
    "pd.read_sql(\"SELECT * FROM Users\", conn)"
   ]
  },
  {
   "cell_type": "code",
   "execution_count": 18,
   "metadata": {},
   "outputs": [
    {
     "data": {
      "text/html": [
       "<!DOCTYPE html>\n",
       "<html>\n",
       "  <head>\n",
       "\n",
       "    <title>Flasky</title>\n",
       "    <meta name=\"viewport\" content=\"width=device-width, initial-scale=1.0\">\n",
       "    <!-- Bootstrap -->\n",
       "    <link href=\"//cdnjs.cloudflare.com/ajax/libs/twitter-bootstrap/3.3.7/css/bootstrap.min.css\" rel=\"stylesheet\">\n",
       "<link rel=\"shortcut icon\" href=\"/static/favicon.ico\" type=\"image/x-icon\">\n",
       "<link rel=\"icon\" href=\"/static/favicon.ico\" type=\"image/x-icon\">\n",
       "\n",
       "  </head>\n",
       "  <body>\n",
       "    \n",
       "<div class=\"navbar navbar-inverse\" role=\"navigation\">\n",
       "    <div class=\"container\">\n",
       "        <div class=\"navbar-header\">\n",
       "            <button type=\"button\" class=\"navbar-toggle\" data-toggle=\"collapse\" data-target=\".navbar-collapse\">\n",
       "                <span class=\"sr-only\">Toggle navigation</span>\n",
       "                <span class=\"icon-bar\"></span>\n",
       "                <span class=\"icon-bar\"></span>\n",
       "                <span class=\"icon-bar\"></span>\n",
       "            </button>\n",
       "            <a class=\"navbar-brand\" href=\"/\">Flasky</a>\n",
       "        </div>\n",
       "        <div class=\"navbar-collapse collapse\">\n",
       "            <ul class=\"nav navbar-nav\">\n",
       "                <li><a href=\"/\">Home</a></li>\n",
       "            </ul>\n",
       "        </div>\n",
       "    </div>\n",
       "</div>\n",
       "\n",
       "    \n",
       "<div class=\"container\">\n",
       "    \n",
       "\n",
       "    \n",
       "<div class=\"page-header\">\n",
       "    <h1>Hello, Lloyd!</h1>\n",
       "    \n",
       "    <p>Pleased to meet you!</p>\n",
       "    \n",
       "</div>\n",
       "\n",
       "<form action=\"\" method=\"post\"\n",
       "  class=\"form\" role=\"form\">\n",
       "  \n",
       "  \n",
       "    \n",
       "\n",
       "\n",
       "\n",
       "\n",
       "\n",
       "\n",
       "<div class=\"form-group  required\"><label class=\"control-label\" for=\"name\">What is your name?</label>\n",
       "        \n",
       "          <input class=\"form-control\" id=\"name\" name=\"name\" required type=\"text\" value=\"\">\n",
       "        \n",
       "  </div>\n",
       "\n",
       "\n",
       "    \n",
       "\n",
       "\n",
       "\n",
       "\n",
       "\n",
       "  \n",
       "\n",
       "  \n",
       "  \n",
       "\n",
       "\n",
       "    <input class=\"btn btn-default\" id=\"submit\" name=\"submit\" type=\"submit\" value=\"Submit\">\n",
       "  \n",
       "\n",
       "\n",
       "\n",
       "\n",
       "\n",
       "</form>\n",
       "\n",
       "</div>\n",
       "\n",
       "\n",
       "    \n",
       "\n",
       "    <script src=\"//cdnjs.cloudflare.com/ajax/libs/jquery/1.12.4/jquery.min.js\"></script>\n",
       "    <script src=\"//cdnjs.cloudflare.com/ajax/libs/twitter-bootstrap/3.3.7/js/bootstrap.min.js\"></script>\n",
       "<script src=\"//cdnjs.cloudflare.com/ajax/libs/moment.js/2.18.1/moment-with-locales.min.js\"></script>\n",
       "<script>\n",
       "moment.locale(\"en\");\n",
       "function flask_moment_render(elem) {\n",
       "    $(elem).text(eval('moment(\"' + $(elem).data('timestamp') + '\").' + $(elem).data('format') + ';'));\n",
       "    $(elem).removeClass('flask-moment').show();\n",
       "}\n",
       "function flask_moment_render_all() {\n",
       "    $('.flask-moment').each(function() {\n",
       "        flask_moment_render(this);\n",
       "        if ($(this).data('refresh')) {\n",
       "            (function(elem, interval) { setInterval(function() { flask_moment_render(elem) }, interval); })(this, $(this).data('refresh'));\n",
       "        }\n",
       "    })\n",
       "}\n",
       "$(document).ready(function() {\n",
       "    flask_moment_render_all();\n",
       "});\n",
       "</script>\n",
       "\n",
       "  </body>\n",
       "</html>\n"
      ],
      "text/plain": [
       "<IPython.core.display.HTML object>"
      ]
     },
     "metadata": {},
     "output_type": "display_data"
    },
    {
     "data": {
      "text/plain": [
       "<Response streamed [200 OK]>"
      ]
     },
     "execution_count": 18,
     "metadata": {},
     "output_type": "execute_result"
    }
   ],
   "source": [
    "client.get('/i_index')"
   ]
  },
  {
   "cell_type": "code",
   "execution_count": 19,
   "metadata": {},
   "outputs": [
    {
     "data": {
      "text/html": [
       "<!DOCTYPE html>\n",
       "<html>\n",
       "  <head>\n",
       "\n",
       "    <title>Flasky</title>\n",
       "    <meta name=\"viewport\" content=\"width=device-width, initial-scale=1.0\">\n",
       "    <!-- Bootstrap -->\n",
       "    <link href=\"//cdnjs.cloudflare.com/ajax/libs/twitter-bootstrap/3.3.7/css/bootstrap.min.css\" rel=\"stylesheet\">\n",
       "<link rel=\"shortcut icon\" href=\"/static/favicon.ico\" type=\"image/x-icon\">\n",
       "<link rel=\"icon\" href=\"/static/favicon.ico\" type=\"image/x-icon\">\n",
       "\n",
       "  </head>\n",
       "  <body>\n",
       "    \n",
       "<div class=\"navbar navbar-inverse\" role=\"navigation\">\n",
       "    <div class=\"container\">\n",
       "        <div class=\"navbar-header\">\n",
       "            <button type=\"button\" class=\"navbar-toggle\" data-toggle=\"collapse\" data-target=\".navbar-collapse\">\n",
       "                <span class=\"sr-only\">Toggle navigation</span>\n",
       "                <span class=\"icon-bar\"></span>\n",
       "                <span class=\"icon-bar\"></span>\n",
       "                <span class=\"icon-bar\"></span>\n",
       "            </button>\n",
       "            <a class=\"navbar-brand\" href=\"/\">Flasky</a>\n",
       "        </div>\n",
       "        <div class=\"navbar-collapse collapse\">\n",
       "            <ul class=\"nav navbar-nav\">\n",
       "                <li><a href=\"/\">Home</a></li>\n",
       "            </ul>\n",
       "        </div>\n",
       "    </div>\n",
       "</div>\n",
       "\n",
       "    \n",
       "<div class=\"container\">\n",
       "    \n",
       "\n",
       "    \n",
       "<div class=\"page-header\">\n",
       "    <h1>Hello, Lloyd!</h1>\n",
       "    \n",
       "    <p>Pleased to meet you!</p>\n",
       "    \n",
       "</div>\n",
       "\n",
       "<form action=\"\" method=\"post\"\n",
       "  class=\"form\" role=\"form\">\n",
       "  \n",
       "  \n",
       "    \n",
       "\n",
       "\n",
       "\n",
       "\n",
       "\n",
       "\n",
       "<div class=\"form-group  required\"><label class=\"control-label\" for=\"name\">What is your name?</label>\n",
       "        \n",
       "          <input class=\"form-control\" id=\"name\" name=\"name\" required type=\"text\" value=\"\">\n",
       "        \n",
       "  </div>\n",
       "\n",
       "\n",
       "    \n",
       "\n",
       "\n",
       "\n",
       "\n",
       "\n",
       "  \n",
       "\n",
       "  \n",
       "  \n",
       "\n",
       "\n",
       "    <input class=\"btn btn-default\" id=\"submit\" name=\"submit\" type=\"submit\" value=\"Submit\">\n",
       "  \n",
       "\n",
       "\n",
       "\n",
       "\n",
       "\n",
       "</form>\n",
       "\n",
       "</div>\n",
       "\n",
       "\n",
       "    \n",
       "\n",
       "    <script src=\"//cdnjs.cloudflare.com/ajax/libs/jquery/1.12.4/jquery.min.js\"></script>\n",
       "    <script src=\"//cdnjs.cloudflare.com/ajax/libs/twitter-bootstrap/3.3.7/js/bootstrap.min.js\"></script>\n",
       "<script src=\"//cdnjs.cloudflare.com/ajax/libs/moment.js/2.18.1/moment-with-locales.min.js\"></script>\n",
       "<script>\n",
       "moment.locale(\"en\");\n",
       "function flask_moment_render(elem) {\n",
       "    $(elem).text(eval('moment(\"' + $(elem).data('timestamp') + '\").' + $(elem).data('format') + ';'));\n",
       "    $(elem).removeClass('flask-moment').show();\n",
       "}\n",
       "function flask_moment_render_all() {\n",
       "    $('.flask-moment').each(function() {\n",
       "        flask_moment_render(this);\n",
       "        if ($(this).data('refresh')) {\n",
       "            (function(elem, interval) { setInterval(function() { flask_moment_render(elem) }, interval); })(this, $(this).data('refresh'));\n",
       "        }\n",
       "    })\n",
       "}\n",
       "$(document).ready(function() {\n",
       "    flask_moment_render_all();\n",
       "});\n",
       "</script>\n",
       "\n",
       "  </body>\n",
       "</html>\n"
      ],
      "text/plain": [
       "<IPython.core.display.HTML object>"
      ]
     },
     "metadata": {},
     "output_type": "display_data"
    },
    {
     "data": {
      "text/plain": [
       "<Response streamed [200 OK]>"
      ]
     },
     "execution_count": 19,
     "metadata": {},
     "output_type": "execute_result"
    }
   ],
   "source": [
    "client.post('/i_index', data = {'name': 'Lloyd'})"
   ]
  },
  {
   "cell_type": "code",
   "execution_count": 20,
   "metadata": {},
   "outputs": [
    {
     "data": {
      "text/html": [
       "<!DOCTYPE html>\n",
       "<html>\n",
       "  <head>\n",
       "\n",
       "    <title>Flasky</title>\n",
       "    <meta name=\"viewport\" content=\"width=device-width, initial-scale=1.0\">\n",
       "    <!-- Bootstrap -->\n",
       "    <link href=\"//cdnjs.cloudflare.com/ajax/libs/twitter-bootstrap/3.3.7/css/bootstrap.min.css\" rel=\"stylesheet\">\n",
       "<link rel=\"shortcut icon\" href=\"/static/favicon.ico\" type=\"image/x-icon\">\n",
       "<link rel=\"icon\" href=\"/static/favicon.ico\" type=\"image/x-icon\">\n",
       "\n",
       "  </head>\n",
       "  <body>\n",
       "    \n",
       "<div class=\"navbar navbar-inverse\" role=\"navigation\">\n",
       "    <div class=\"container\">\n",
       "        <div class=\"navbar-header\">\n",
       "            <button type=\"button\" class=\"navbar-toggle\" data-toggle=\"collapse\" data-target=\".navbar-collapse\">\n",
       "                <span class=\"sr-only\">Toggle navigation</span>\n",
       "                <span class=\"icon-bar\"></span>\n",
       "                <span class=\"icon-bar\"></span>\n",
       "                <span class=\"icon-bar\"></span>\n",
       "            </button>\n",
       "            <a class=\"navbar-brand\" href=\"/\">Flasky</a>\n",
       "        </div>\n",
       "        <div class=\"navbar-collapse collapse\">\n",
       "            <ul class=\"nav navbar-nav\">\n",
       "                <li><a href=\"/\">Home</a></li>\n",
       "            </ul>\n",
       "        </div>\n",
       "    </div>\n",
       "</div>\n",
       "\n",
       "    \n",
       "<div class=\"container\">\n",
       "    \n",
       "\n",
       "    \n",
       "<div class=\"page-header\">\n",
       "    <h1>Hello, Lloyd!</h1>\n",
       "    \n",
       "    <p>Happy to see you again!</p>\n",
       "    \n",
       "</div>\n",
       "\n",
       "<form action=\"\" method=\"post\"\n",
       "  class=\"form\" role=\"form\">\n",
       "  \n",
       "  \n",
       "    \n",
       "\n",
       "\n",
       "\n",
       "\n",
       "\n",
       "\n",
       "<div class=\"form-group  required\"><label class=\"control-label\" for=\"name\">What is your name?</label>\n",
       "        \n",
       "          <input class=\"form-control\" id=\"name\" name=\"name\" required type=\"text\" value=\"\">\n",
       "        \n",
       "  </div>\n",
       "\n",
       "\n",
       "    \n",
       "\n",
       "\n",
       "\n",
       "\n",
       "\n",
       "  \n",
       "\n",
       "  \n",
       "  \n",
       "\n",
       "\n",
       "    <input class=\"btn btn-default\" id=\"submit\" name=\"submit\" type=\"submit\" value=\"Submit\">\n",
       "  \n",
       "\n",
       "\n",
       "\n",
       "\n",
       "\n",
       "</form>\n",
       "\n",
       "</div>\n",
       "\n",
       "\n",
       "    \n",
       "\n",
       "    <script src=\"//cdnjs.cloudflare.com/ajax/libs/jquery/1.12.4/jquery.min.js\"></script>\n",
       "    <script src=\"//cdnjs.cloudflare.com/ajax/libs/twitter-bootstrap/3.3.7/js/bootstrap.min.js\"></script>\n",
       "<script src=\"//cdnjs.cloudflare.com/ajax/libs/moment.js/2.18.1/moment-with-locales.min.js\"></script>\n",
       "<script>\n",
       "moment.locale(\"en\");\n",
       "function flask_moment_render(elem) {\n",
       "    $(elem).text(eval('moment(\"' + $(elem).data('timestamp') + '\").' + $(elem).data('format') + ';'));\n",
       "    $(elem).removeClass('flask-moment').show();\n",
       "}\n",
       "function flask_moment_render_all() {\n",
       "    $('.flask-moment').each(function() {\n",
       "        flask_moment_render(this);\n",
       "        if ($(this).data('refresh')) {\n",
       "            (function(elem, interval) { setInterval(function() { flask_moment_render(elem) }, interval); })(this, $(this).data('refresh'));\n",
       "        }\n",
       "    })\n",
       "}\n",
       "$(document).ready(function() {\n",
       "    flask_moment_render_all();\n",
       "});\n",
       "</script>\n",
       "\n",
       "  </body>\n",
       "</html>\n"
      ],
      "text/plain": [
       "<IPython.core.display.HTML object>"
      ]
     },
     "metadata": {},
     "output_type": "display_data"
    },
    {
     "data": {
      "text/plain": [
       "<Response streamed [200 OK]>"
      ]
     },
     "execution_count": 20,
     "metadata": {},
     "output_type": "execute_result"
    }
   ],
   "source": [
    "client.get('/i_index')"
   ]
  },
  {
   "cell_type": "code",
   "execution_count": 21,
   "metadata": {},
   "outputs": [
    {
     "data": {
      "text/html": [
       "<!DOCTYPE html>\n",
       "<html>\n",
       "  <head>\n",
       "\n",
       "    <title>Flasky</title>\n",
       "    <meta name=\"viewport\" content=\"width=device-width, initial-scale=1.0\">\n",
       "    <!-- Bootstrap -->\n",
       "    <link href=\"//cdnjs.cloudflare.com/ajax/libs/twitter-bootstrap/3.3.7/css/bootstrap.min.css\" rel=\"stylesheet\">\n",
       "<link rel=\"shortcut icon\" href=\"/static/favicon.ico\" type=\"image/x-icon\">\n",
       "<link rel=\"icon\" href=\"/static/favicon.ico\" type=\"image/x-icon\">\n",
       "\n",
       "  </head>\n",
       "  <body>\n",
       "    \n",
       "<div class=\"navbar navbar-inverse\" role=\"navigation\">\n",
       "    <div class=\"container\">\n",
       "        <div class=\"navbar-header\">\n",
       "            <button type=\"button\" class=\"navbar-toggle\" data-toggle=\"collapse\" data-target=\".navbar-collapse\">\n",
       "                <span class=\"sr-only\">Toggle navigation</span>\n",
       "                <span class=\"icon-bar\"></span>\n",
       "                <span class=\"icon-bar\"></span>\n",
       "                <span class=\"icon-bar\"></span>\n",
       "            </button>\n",
       "            <a class=\"navbar-brand\" href=\"/\">Flasky</a>\n",
       "        </div>\n",
       "        <div class=\"navbar-collapse collapse\">\n",
       "            <ul class=\"nav navbar-nav\">\n",
       "                <li><a href=\"/\">Home</a></li>\n",
       "            </ul>\n",
       "        </div>\n",
       "    </div>\n",
       "</div>\n",
       "\n",
       "    \n",
       "<div class=\"container\">\n",
       "    \n",
       "\n",
       "    \n",
       "<div class=\"page-header\">\n",
       "    <h1>Hello, Lloyd!</h1>\n",
       "    \n",
       "    <p>Happy to see you again!</p>\n",
       "    \n",
       "</div>\n",
       "\n",
       "<form action=\"\" method=\"post\"\n",
       "  class=\"form\" role=\"form\">\n",
       "  \n",
       "  \n",
       "    \n",
       "\n",
       "\n",
       "\n",
       "\n",
       "\n",
       "\n",
       "<div class=\"form-group  required\"><label class=\"control-label\" for=\"name\">What is your name?</label>\n",
       "        \n",
       "          <input class=\"form-control\" id=\"name\" name=\"name\" required type=\"text\" value=\"\">\n",
       "        \n",
       "  </div>\n",
       "\n",
       "\n",
       "    \n",
       "\n",
       "\n",
       "\n",
       "\n",
       "\n",
       "  \n",
       "\n",
       "  \n",
       "  \n",
       "\n",
       "\n",
       "    <input class=\"btn btn-default\" id=\"submit\" name=\"submit\" type=\"submit\" value=\"Submit\">\n",
       "  \n",
       "\n",
       "\n",
       "\n",
       "\n",
       "\n",
       "</form>\n",
       "\n",
       "</div>\n",
       "\n",
       "\n",
       "    \n",
       "\n",
       "    <script src=\"//cdnjs.cloudflare.com/ajax/libs/jquery/1.12.4/jquery.min.js\"></script>\n",
       "    <script src=\"//cdnjs.cloudflare.com/ajax/libs/twitter-bootstrap/3.3.7/js/bootstrap.min.js\"></script>\n",
       "<script src=\"//cdnjs.cloudflare.com/ajax/libs/moment.js/2.18.1/moment-with-locales.min.js\"></script>\n",
       "<script>\n",
       "moment.locale(\"en\");\n",
       "function flask_moment_render(elem) {\n",
       "    $(elem).text(eval('moment(\"' + $(elem).data('timestamp') + '\").' + $(elem).data('format') + ';'));\n",
       "    $(elem).removeClass('flask-moment').show();\n",
       "}\n",
       "function flask_moment_render_all() {\n",
       "    $('.flask-moment').each(function() {\n",
       "        flask_moment_render(this);\n",
       "        if ($(this).data('refresh')) {\n",
       "            (function(elem, interval) { setInterval(function() { flask_moment_render(elem) }, interval); })(this, $(this).data('refresh'));\n",
       "        }\n",
       "    })\n",
       "}\n",
       "$(document).ready(function() {\n",
       "    flask_moment_render_all();\n",
       "});\n",
       "</script>\n",
       "\n",
       "  </body>\n",
       "</html>\n"
      ],
      "text/plain": [
       "<IPython.core.display.HTML object>"
      ]
     },
     "metadata": {},
     "output_type": "display_data"
    },
    {
     "data": {
      "text/plain": [
       "<Response streamed [200 OK]>"
      ]
     },
     "execution_count": 21,
     "metadata": {},
     "output_type": "execute_result"
    }
   ],
   "source": [
    "client.post('/i_index', data = {'name': 'Floyd'})"
   ]
  },
  {
   "cell_type": "code",
   "execution_count": 22,
   "metadata": {},
   "outputs": [
    {
     "data": {
      "text/html": [
       "<!DOCTYPE html>\n",
       "<html>\n",
       "  <head>\n",
       "\n",
       "    <title>Flasky</title>\n",
       "    <meta name=\"viewport\" content=\"width=device-width, initial-scale=1.0\">\n",
       "    <!-- Bootstrap -->\n",
       "    <link href=\"//cdnjs.cloudflare.com/ajax/libs/twitter-bootstrap/3.3.7/css/bootstrap.min.css\" rel=\"stylesheet\">\n",
       "<link rel=\"shortcut icon\" href=\"/static/favicon.ico\" type=\"image/x-icon\">\n",
       "<link rel=\"icon\" href=\"/static/favicon.ico\" type=\"image/x-icon\">\n",
       "\n",
       "  </head>\n",
       "  <body>\n",
       "    \n",
       "<div class=\"navbar navbar-inverse\" role=\"navigation\">\n",
       "    <div class=\"container\">\n",
       "        <div class=\"navbar-header\">\n",
       "            <button type=\"button\" class=\"navbar-toggle\" data-toggle=\"collapse\" data-target=\".navbar-collapse\">\n",
       "                <span class=\"sr-only\">Toggle navigation</span>\n",
       "                <span class=\"icon-bar\"></span>\n",
       "                <span class=\"icon-bar\"></span>\n",
       "                <span class=\"icon-bar\"></span>\n",
       "            </button>\n",
       "            <a class=\"navbar-brand\" href=\"/\">Flasky</a>\n",
       "        </div>\n",
       "        <div class=\"navbar-collapse collapse\">\n",
       "            <ul class=\"nav navbar-nav\">\n",
       "                <li><a href=\"/\">Home</a></li>\n",
       "            </ul>\n",
       "        </div>\n",
       "    </div>\n",
       "</div>\n",
       "\n",
       "    \n",
       "<div class=\"container\">\n",
       "    \n",
       "\n",
       "    \n",
       "<div class=\"page-header\">\n",
       "    <h1>Hello, Floyd!</h1>\n",
       "    \n",
       "    <p>Happy to see you again!</p>\n",
       "    \n",
       "</div>\n",
       "\n",
       "<form action=\"\" method=\"post\"\n",
       "  class=\"form\" role=\"form\">\n",
       "  \n",
       "  \n",
       "    \n",
       "\n",
       "\n",
       "\n",
       "\n",
       "\n",
       "\n",
       "<div class=\"form-group  required\"><label class=\"control-label\" for=\"name\">What is your name?</label>\n",
       "        \n",
       "          <input class=\"form-control\" id=\"name\" name=\"name\" required type=\"text\" value=\"\">\n",
       "        \n",
       "  </div>\n",
       "\n",
       "\n",
       "    \n",
       "\n",
       "\n",
       "\n",
       "\n",
       "\n",
       "  \n",
       "\n",
       "  \n",
       "  \n",
       "\n",
       "\n",
       "    <input class=\"btn btn-default\" id=\"submit\" name=\"submit\" type=\"submit\" value=\"Submit\">\n",
       "  \n",
       "\n",
       "\n",
       "\n",
       "\n",
       "\n",
       "</form>\n",
       "\n",
       "</div>\n",
       "\n",
       "\n",
       "    \n",
       "\n",
       "    <script src=\"//cdnjs.cloudflare.com/ajax/libs/jquery/1.12.4/jquery.min.js\"></script>\n",
       "    <script src=\"//cdnjs.cloudflare.com/ajax/libs/twitter-bootstrap/3.3.7/js/bootstrap.min.js\"></script>\n",
       "<script src=\"//cdnjs.cloudflare.com/ajax/libs/moment.js/2.18.1/moment-with-locales.min.js\"></script>\n",
       "<script>\n",
       "moment.locale(\"en\");\n",
       "function flask_moment_render(elem) {\n",
       "    $(elem).text(eval('moment(\"' + $(elem).data('timestamp') + '\").' + $(elem).data('format') + ';'));\n",
       "    $(elem).removeClass('flask-moment').show();\n",
       "}\n",
       "function flask_moment_render_all() {\n",
       "    $('.flask-moment').each(function() {\n",
       "        flask_moment_render(this);\n",
       "        if ($(this).data('refresh')) {\n",
       "            (function(elem, interval) { setInterval(function() { flask_moment_render(elem) }, interval); })(this, $(this).data('refresh'));\n",
       "        }\n",
       "    })\n",
       "}\n",
       "$(document).ready(function() {\n",
       "    flask_moment_render_all();\n",
       "});\n",
       "</script>\n",
       "\n",
       "  </body>\n",
       "</html>\n"
      ],
      "text/plain": [
       "<IPython.core.display.HTML object>"
      ]
     },
     "metadata": {},
     "output_type": "display_data"
    },
    {
     "data": {
      "text/plain": [
       "<Response streamed [200 OK]>"
      ]
     },
     "execution_count": 22,
     "metadata": {},
     "output_type": "execute_result"
    }
   ],
   "source": [
    "client.get('/i_index')"
   ]
  },
  {
   "cell_type": "markdown",
   "metadata": {},
   "source": [
    "# j. Database Migrations with Flask-Migrate"
   ]
  },
  {
   "cell_type": "markdown",
   "metadata": {},
   "source": [
    "### 10. 1 Creating a Migration Repository"
   ]
  },
  {
   "cell_type": "code",
   "execution_count": 23,
   "metadata": {},
   "outputs": [
    {
     "name": "stdout",
     "output_type": "stream",
     "text": [
      "sqlite:///data.sqlite\n"
     ]
    }
   ],
   "source": [
    "import os\n",
    "from flask import Flask, render_template, session, redirect, url_for\n",
    "from flask_bootstrap import Bootstrap\n",
    "from flask_moment import Moment\n",
    "from flask_wtf import FlaskForm\n",
    "from wtforms import StringField, SubmitField\n",
    "from wtforms.validators import DataRequired\n",
    "\n",
    "\n",
    "from flask_sqlalchemy import SQLAlchemy\n",
    "\n",
    "\n",
    "from flask_migrate import Migrate # NEW\n",
    "\n",
    "import sqlite3\n",
    "import pandas as pd\n",
    "\n",
    "\n",
    "app = Flask(__name__)\n",
    "app.config['SECRET_KEY'] = 'hard to guess string'\n",
    "app.config['SERVER_NAME'] = 'floydjjluo.me'\n",
    "#app.config['SERVER_NAME'] = ''\n",
    "app.config['WTF_CSRF_ENABLED'] = False\n",
    "\n",
    "\n",
    "# basedir = os.path.abspath(os.path.dirname(__file__)); print(basedir)\n",
    "basedir = ''\n",
    "DB_URI  = 'sqlite:///' + os.path.join(basedir, 'data.sqlite');print(DB_URI)\n",
    "app.config['SQLALCHEMY_DATABASE_URI'] = DB_URI\n",
    "app.config['SQLALCHEMY_TRACK_MODIFICATIONS'] = False\n",
    "\n",
    "bootstrap = Bootstrap(app)\n",
    "moment = Moment(app)\n",
    "db = SQLAlchemy(app)\n",
    "migrate = Migrate(app, db)"
   ]
  },
  {
   "cell_type": "markdown",
   "metadata": {},
   "source": [
    "```shell\n",
    "flask db init\n",
    "```"
   ]
  },
  {
   "cell_type": "markdown",
   "metadata": {},
   "source": [
    "### 10. 2 Creating a Migration Script"
   ]
  },
  {
   "cell_type": "markdown",
   "metadata": {},
   "source": [
    "```shell\n",
    "flask db migrate -m 'initial migration'\n",
    "```"
   ]
  },
  {
   "cell_type": "markdown",
   "metadata": {},
   "source": [
    "### 10.3 Upgrading the Database"
   ]
  },
  {
   "cell_type": "markdown",
   "metadata": {},
   "source": [
    "```shell\n",
    "flask db upgrade\n",
    "```"
   ]
  }
 ],
 "metadata": {
  "kernelspec": {
   "display_name": "Flasky",
   "language": "python",
   "name": "flasky"
  },
  "language_info": {
   "codemirror_mode": {
    "name": "ipython",
    "version": 3
   },
   "file_extension": ".py",
   "mimetype": "text/x-python",
   "name": "python",
   "nbconvert_exporter": "python",
   "pygments_lexer": "ipython3",
   "version": "3.6.5"
  }
 },
 "nbformat": 4,
 "nbformat_minor": 2
}
