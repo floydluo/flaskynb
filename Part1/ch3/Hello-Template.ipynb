{
 "cells": [
  {
   "cell_type": "code",
   "execution_count": 1,
   "metadata": {
    "collapsed": true
   },
   "outputs": [],
   "source": [
    "from IPython.core.display import display, HTML\n",
    "\n",
    "def show(string):\n",
    "    display(HTML(string))"
   ]
  },
  {
   "cell_type": "markdown",
   "metadata": {},
   "source": [
    "# a. The Jinjia2 Template Engine"
   ]
  },
  {
   "cell_type": "markdown",
   "metadata": {},
   "source": [
    "## 1.1 Rendering Templates"
   ]
  },
  {
   "cell_type": "code",
   "execution_count": 2,
   "metadata": {},
   "outputs": [
    {
     "name": "stdout",
     "output_type": "stream",
     "text": [
      "Overwriting templates/a_index.html\n"
     ]
    }
   ],
   "source": [
    "%%writefile templates/a_index.html\n",
    "<h1>Hello World!<h1>"
   ]
  },
  {
   "cell_type": "code",
   "execution_count": 3,
   "metadata": {
    "collapsed": true
   },
   "outputs": [],
   "source": [
    "from flask import Flask, render_template\n",
    "\n",
    "\n",
    "app = Flask(__name__)\n",
    "\n",
    "@app.route('/')\n",
    "def a_index():\n",
    "    o = render_template('a_index.html'); show(o)\n",
    "    return o"
   ]
  },
  {
   "cell_type": "code",
   "execution_count": 4,
   "metadata": {},
   "outputs": [
    {
     "data": {
      "text/html": [
       "<h1>Hello World!<h1>"
      ],
      "text/plain": [
       "<IPython.core.display.HTML object>"
      ]
     },
     "metadata": {},
     "output_type": "display_data"
    },
    {
     "data": {
      "text/plain": [
       "'<h1>Hello World!<h1>'"
      ]
     },
     "execution_count": 4,
     "metadata": {},
     "output_type": "execute_result"
    }
   ],
   "source": [
    "app_ctx = app.app_context()\n",
    "app_ctx.push()\n",
    "\n",
    "a_index()"
   ]
  },
  {
   "cell_type": "code",
   "execution_count": 5,
   "metadata": {},
   "outputs": [
    {
     "name": "stdout",
     "output_type": "stream",
     "text": [
      "Overwriting templates/a_user.html\n"
     ]
    }
   ],
   "source": [
    "%%writefile templates/a_user.html\n",
    "<h1>Hello, {{name}}!<h1>"
   ]
  },
  {
   "cell_type": "code",
   "execution_count": 6,
   "metadata": {},
   "outputs": [],
   "source": [
    "@app.route('/a_user/<name>')\n",
    "def a_user(name):\n",
    "    o = render_template('a_user.html', name = name); show(o)\n",
    "    return o"
   ]
  },
  {
   "cell_type": "code",
   "execution_count": 7,
   "metadata": {},
   "outputs": [
    {
     "data": {
      "text/html": [
       "<h1>Hello, Floyd!<h1>"
      ],
      "text/plain": [
       "<IPython.core.display.HTML object>"
      ]
     },
     "metadata": {},
     "output_type": "display_data"
    },
    {
     "data": {
      "text/plain": [
       "'<h1>Hello, Floyd!<h1>'"
      ]
     },
     "execution_count": 7,
     "metadata": {},
     "output_type": "execute_result"
    }
   ],
   "source": [
    "a_user('Floyd')"
   ]
  },
  {
   "cell_type": "markdown",
   "metadata": {},
   "source": [
    "## 1.2 Variables"
   ]
  },
  {
   "cell_type": "code",
   "execution_count": 8,
   "metadata": {},
   "outputs": [
    {
     "name": "stdout",
     "output_type": "stream",
     "text": [
      "Overwriting templates/a_variables.html\n"
     ]
    }
   ],
   "source": [
    "%%writefile templates/a_variables.html\n",
    "<p>A value from a dictionary: {{ mydict['key'] }}.</p>\n",
    "<p>A value from a list: {{ mylist[3] }}.</p>\n",
    "<p>A value from a list, with a variable index: {{ mylist[myintvar] }}.</p>\n",
    "<p>A value from an object's method: {{ myobj.__len__() }}.</p>\n",
    "<h3>Hello, {{name | capitalize}}!</h3>"
   ]
  },
  {
   "cell_type": "code",
   "execution_count": 9,
   "metadata": {},
   "outputs": [
    {
     "data": {
      "text/plain": [
       "4"
      ]
     },
     "execution_count": 9,
     "metadata": {},
     "output_type": "execute_result"
    }
   ],
   "source": [
    "mydict ={}\n",
    "mydict['key'] = 'a-value'\n",
    "mylist = ['a', 'b', 'c', 'd']\n",
    "myintvar = 3\n",
    "myobj = mylist\n",
    "myobj.__len__()"
   ]
  },
  {
   "cell_type": "code",
   "execution_count": 10,
   "metadata": {},
   "outputs": [],
   "source": [
    "@app.route('/a_variables')\n",
    "def a_variables(mydict, mylist, myintvar,myobj, name ):\n",
    "    o = render_template('a_variables.html', \n",
    "                        mydict = mydict,\n",
    "                        mylist = mylist,\n",
    "                        myintvar=myintvar,\n",
    "                        myobj  = myobj,\n",
    "                        name = name); show(o)\n",
    "    return o"
   ]
  },
  {
   "cell_type": "code",
   "execution_count": 11,
   "metadata": {},
   "outputs": [
    {
     "data": {
      "text/html": [
       "<p>A value from a dictionary: a-value.</p>\n",
       "<p>A value from a list: d.</p>\n",
       "<p>A value from a list, with a variable index: d.</p>\n",
       "<p>A value from an object's method: 4.</p>\n",
       "<h3>Hello, Floyd!</h3>"
      ],
      "text/plain": [
       "<IPython.core.display.HTML object>"
      ]
     },
     "metadata": {},
     "output_type": "display_data"
    },
    {
     "data": {
      "text/plain": [
       "\"<p>A value from a dictionary: a-value.</p>\\n<p>A value from a list: d.</p>\\n<p>A value from a list, with a variable index: d.</p>\\n<p>A value from an object's method: 4.</p>\\n<h3>Hello, Floyd!</h3>\""
      ]
     },
     "execution_count": 11,
     "metadata": {},
     "output_type": "execute_result"
    }
   ],
   "source": [
    "app_ctx = app.app_context()\n",
    "app_ctx.push()\n",
    "\n",
    "a_variables(mydict, mylist, myintvar,myobj , name = 'floyd')"
   ]
  },
  {
   "cell_type": "markdown",
   "metadata": {},
   "source": [
    "## 1.3 Control Structure"
   ]
  },
  {
   "cell_type": "markdown",
   "metadata": {},
   "source": [
    "** 1. CONTROL **"
   ]
  },
  {
   "cell_type": "code",
   "execution_count": 12,
   "metadata": {},
   "outputs": [
    {
     "name": "stdout",
     "output_type": "stream",
     "text": [
      "Overwriting templates/a_control.html\n"
     ]
    }
   ],
   "source": [
    "%%writefile templates/a_control.html\n",
    "\n",
    "{% if user %}\n",
    "    <p>Hello, {{ user }}!</p>\n",
    "{% else %}\n",
    "    <p>Hello, Stranger!</p>\n",
    "{% endif %}\n",
    "\n",
    "<br>\n",
    "\n",
    "<ul>\n",
    "    {% for comment in comments %}\n",
    "        <li>{{ comment }}</li>\n",
    "    {% endfor %}\n",
    "</ul>\n",
    "\n",
    "<br>\n",
    "\n",
    "<!- macro, just as define a function ->\n",
    "{% macro render_comment(comment) %}\n",
    "    <li>{{ comment }}</li>\n",
    "{% endmacro %}\n",
    "\n",
    "<ul>\n",
    "    {% for comment in comments %}\n",
    "        {{ render_comment(comment) }}\n",
    "    {% endfor %}\n",
    "</ul>"
   ]
  },
  {
   "cell_type": "code",
   "execution_count": 13,
   "metadata": {},
   "outputs": [],
   "source": [
    "@app.route('/a_control')\n",
    "def a_control(comments, user = None ):\n",
    "    o = render_template('a_control.html', \n",
    "                         comments = comments,\n",
    "                         user = user); show(o)\n",
    "    return o"
   ]
  },
  {
   "cell_type": "code",
   "execution_count": 14,
   "metadata": {},
   "outputs": [
    {
     "data": {
      "text/html": [
       "\n",
       "\n",
       "    <p>Hello, Stranger!</p>\n",
       "\n",
       "\n",
       "<br>\n",
       "\n",
       "<ul>\n",
       "    \n",
       "        <li>comment1</li>\n",
       "    \n",
       "        <li>jie2</li>\n",
       "    \n",
       "        <li>jiejiejie3</li>\n",
       "    \n",
       "</ul>\n",
       "\n",
       "<br>\n",
       "\n",
       "<!- macro, just as define a function ->\n",
       "\n",
       "\n",
       "<ul>\n",
       "    \n",
       "        \n",
       "    <li>comment1</li>\n",
       "\n",
       "    \n",
       "        \n",
       "    <li>jie2</li>\n",
       "\n",
       "    \n",
       "        \n",
       "    <li>jiejiejie3</li>\n",
       "\n",
       "    \n",
       "</ul>"
      ],
      "text/plain": [
       "<IPython.core.display.HTML object>"
      ]
     },
     "metadata": {},
     "output_type": "display_data"
    },
    {
     "data": {
      "text/plain": [
       "'\\n\\n    <p>Hello, Stranger!</p>\\n\\n\\n<br>\\n\\n<ul>\\n    \\n        <li>comment1</li>\\n    \\n        <li>jie2</li>\\n    \\n        <li>jiejiejie3</li>\\n    \\n</ul>\\n\\n<br>\\n\\n<!- macro, just as define a function ->\\n\\n\\n<ul>\\n    \\n        \\n    <li>comment1</li>\\n\\n    \\n        \\n    <li>jie2</li>\\n\\n    \\n        \\n    <li>jiejiejie3</li>\\n\\n    \\n</ul>'"
      ]
     },
     "execution_count": 14,
     "metadata": {},
     "output_type": "execute_result"
    }
   ],
   "source": [
    "comments = ['comment1', 'jie2', 'jiejiejie3']\n",
    "a_control(comments)"
   ]
  },
  {
   "cell_type": "markdown",
   "metadata": {},
   "source": [
    "** 2. MACRO **"
   ]
  },
  {
   "cell_type": "code",
   "execution_count": 15,
   "metadata": {},
   "outputs": [
    {
     "name": "stdout",
     "output_type": "stream",
     "text": [
      "Overwriting templates/a_macros.html\n"
     ]
    }
   ],
   "source": [
    "%%writefile templates/a_macros.html\n",
    "\n",
    "<!- macro, just as define a function ->\n",
    "{% macro render_comment(comment) %}\n",
    "    <li>{{ comment }}</li>\n",
    "{% endmacro %}\n"
   ]
  },
  {
   "cell_type": "code",
   "execution_count": 16,
   "metadata": {},
   "outputs": [
    {
     "name": "stdout",
     "output_type": "stream",
     "text": [
      "Overwriting templates/a_macros_import.html\n"
     ]
    }
   ],
   "source": [
    "%%writefile templates/a_macros_import.html\n",
    "\n",
    "{% import 'a_macros.html' as macros %}\n",
    "<ul>\n",
    "    {% for comment in comments %}\n",
    "        {{ macros.render_comment(comment) }}\n",
    "    {% endfor %}\n",
    "</ul>\n"
   ]
  },
  {
   "cell_type": "code",
   "execution_count": 17,
   "metadata": {},
   "outputs": [],
   "source": [
    "@app.route('/a_macros_import')\n",
    "def a_macros_import(comments):\n",
    "    o = render_template('a_macros_import.html', \n",
    "                         comments = comments); show(o)\n",
    "    return o"
   ]
  },
  {
   "cell_type": "code",
   "execution_count": 18,
   "metadata": {},
   "outputs": [
    {
     "data": {
      "text/html": [
       "\n",
       "\n",
       "<ul>\n",
       "    \n",
       "        \n",
       "    <li>comment1</li>\n",
       "\n",
       "    \n",
       "        \n",
       "    <li>jie2</li>\n",
       "\n",
       "    \n",
       "        \n",
       "    <li>jiejiejie3</li>\n",
       "\n",
       "    \n",
       "</ul>"
      ],
      "text/plain": [
       "<IPython.core.display.HTML object>"
      ]
     },
     "metadata": {},
     "output_type": "display_data"
    },
    {
     "data": {
      "text/plain": [
       "'\\n\\n<ul>\\n    \\n        \\n    <li>comment1</li>\\n\\n    \\n        \\n    <li>jie2</li>\\n\\n    \\n        \\n    <li>jiejiejie3</li>\\n\\n    \\n</ul>'"
      ]
     },
     "execution_count": 18,
     "metadata": {},
     "output_type": "execute_result"
    }
   ],
   "source": [
    "comments = ['comment1', 'jie2', 'jiejiejie3']\n",
    "a_macros_import(comments)"
   ]
  },
  {
   "cell_type": "markdown",
   "metadata": {},
   "source": [
    "** 3. INCLUDE common HTML **"
   ]
  },
  {
   "cell_type": "code",
   "execution_count": 19,
   "metadata": {},
   "outputs": [
    {
     "name": "stdout",
     "output_type": "stream",
     "text": [
      "Overwriting templates/a_common.html\n"
     ]
    }
   ],
   "source": [
    "%%writefile templates/a_common.html\n",
    "<p>This is a common HTML, and we need to repeat it many times!</p>"
   ]
  },
  {
   "cell_type": "code",
   "execution_count": 20,
   "metadata": {},
   "outputs": [
    {
     "name": "stdout",
     "output_type": "stream",
     "text": [
      "Overwriting templates/a_common_include.html\n"
     ]
    }
   ],
   "source": [
    "%%writefile templates/a_common_include.html\n",
    "<h3>First</h3>\n",
    "{% include 'a_common.html' %}\n",
    "<br>\n",
    "\n",
    "<h3>Second</h3>\n",
    "{% include 'a_common.html' %}\n",
    "<br>\n",
    "\n",
    "<h3>Third</h3>\n",
    "\n",
    "{% include 'a_common.html' %}\n",
    "<br>"
   ]
  },
  {
   "cell_type": "code",
   "execution_count": 21,
   "metadata": {
    "collapsed": true
   },
   "outputs": [],
   "source": [
    "@app.route('/a_common_include')\n",
    "def a_common_include():\n",
    "    o = render_template('a_common_include.html'); show(o)\n",
    "    return o"
   ]
  },
  {
   "cell_type": "code",
   "execution_count": 22,
   "metadata": {},
   "outputs": [
    {
     "data": {
      "text/html": [
       "<h3>First</h3>\n",
       "<p>This is a common HTML, and we need to repeat it many times!</p>\n",
       "<br>\n",
       "\n",
       "<h3>Second</h3>\n",
       "<p>This is a common HTML, and we need to repeat it many times!</p>\n",
       "<br>\n",
       "\n",
       "<h3>Third</h3>\n",
       "\n",
       "<p>This is a common HTML, and we need to repeat it many times!</p>\n",
       "<br>"
      ],
      "text/plain": [
       "<IPython.core.display.HTML object>"
      ]
     },
     "metadata": {},
     "output_type": "display_data"
    },
    {
     "data": {
      "text/plain": [
       "'<h3>First</h3>\\n<p>This is a common HTML, and we need to repeat it many times!</p>\\n<br>\\n\\n<h3>Second</h3>\\n<p>This is a common HTML, and we need to repeat it many times!</p>\\n<br>\\n\\n<h3>Third</h3>\\n\\n<p>This is a common HTML, and we need to repeat it many times!</p>\\n<br>'"
      ]
     },
     "execution_count": 22,
     "metadata": {},
     "output_type": "execute_result"
    }
   ],
   "source": [
    "a_common_include()"
   ]
  },
  {
   "cell_type": "markdown",
   "metadata": {},
   "source": [
    "** 4. EXTEND base HTML **"
   ]
  },
  {
   "cell_type": "code",
   "execution_count": 23,
   "metadata": {},
   "outputs": [
    {
     "name": "stdout",
     "output_type": "stream",
     "text": [
      "Overwriting templates/a_base.html\n"
     ]
    }
   ],
   "source": [
    "%%writefile templates/a_base.html\n",
    "\n",
    "<html>\n",
    "<head>\n",
    "    {% block head %}\n",
    "    <title>{% block title %} {% endblock %} - My Application</title>\n",
    "    {% endblock %}\n",
    "</head>\n",
    "<body>\n",
    "    {% block body %}\n",
    "    {% endblock %}\n",
    "</body>\n",
    "</html>"
   ]
  },
  {
   "cell_type": "code",
   "execution_count": 24,
   "metadata": {},
   "outputs": [
    {
     "name": "stdout",
     "output_type": "stream",
     "text": [
      "Overwriting templates/a_base_extend.html\n"
     ]
    }
   ],
   "source": [
    "%%writefile templates/a_base_extend.html\n",
    "{% extends \"a_base.html\" %}\n",
    "\n",
    "<! -1- >\n",
    "{% block title %}Index{% endblock %}\n",
    "\n",
    "<! -2- >\n",
    "{% block head %}\n",
    "    {{ super() }}\n",
    "    <style>\n",
    "    </style>\n",
    "{% endblock %}\n",
    "\n",
    "<! -3- >\n",
    "{% block body %}\n",
    "<h1>Hello, World!</h1>\n",
    "{% endblock %}"
   ]
  },
  {
   "cell_type": "code",
   "execution_count": 25,
   "metadata": {},
   "outputs": [],
   "source": [
    "@app.route('/a_base_extend')\n",
    "def a_base_extend():\n",
    "    o = render_template('a_base_extend.html'); show(o)\n",
    "    return o"
   ]
  },
  {
   "cell_type": "code",
   "execution_count": 26,
   "metadata": {},
   "outputs": [
    {
     "data": {
      "text/html": [
       "\n",
       "<html>\n",
       "<head>\n",
       "    \n",
       "    \n",
       "    <title>Index - My Application</title>\n",
       "    \n",
       "    <style>\n",
       "    </style>\n",
       "\n",
       "</head>\n",
       "<body>\n",
       "    \n",
       "<h1>Hello, World!</h1>\n",
       "\n",
       "</body>\n",
       "</html>"
      ],
      "text/plain": [
       "<IPython.core.display.HTML object>"
      ]
     },
     "metadata": {},
     "output_type": "display_data"
    },
    {
     "data": {
      "text/plain": [
       "'\\n<html>\\n<head>\\n    \\n    \\n    <title>Index - My Application</title>\\n    \\n    <style>\\n    </style>\\n\\n</head>\\n<body>\\n    \\n<h1>Hello, World!</h1>\\n\\n</body>\\n</html>'"
      ]
     },
     "execution_count": 26,
     "metadata": {},
     "output_type": "execute_result"
    }
   ],
   "source": [
    "a_base_extend()"
   ]
  },
  {
   "cell_type": "markdown",
   "metadata": {},
   "source": [
    "# b. Bootstrap Integration with Flask-Bootstrap\n",
    "\n",
    "```shell\n",
    "pip install flask-bootstrap\n",
    "```"
   ]
  },
  {
   "cell_type": "code",
   "execution_count": 27,
   "metadata": {
    "collapsed": true
   },
   "outputs": [],
   "source": [
    "from IPython.core.display import display, HTML\n",
    "\n",
    "def show(string):\n",
    "    display(HTML(string))"
   ]
  },
  {
   "cell_type": "code",
   "execution_count": 28,
   "metadata": {
    "collapsed": true
   },
   "outputs": [],
   "source": [
    "from flask import Flask, render_template\n",
    "from flask_bootstrap import Bootstrap\n",
    "\n",
    "app = Flask(__name__)\n",
    "bootstrap = Bootstrap(app)"
   ]
  },
  {
   "cell_type": "code",
   "execution_count": 29,
   "metadata": {},
   "outputs": [
    {
     "name": "stdout",
     "output_type": "stream",
     "text": [
      "Overwriting templates/b_user.html\n"
     ]
    }
   ],
   "source": [
    "%%writefile templates/b_user.html\n",
    "\n",
    "{% extends \"bootstrap/base.html\" %}\n",
    "\n",
    "{% block title %}Flasky{% endblock %}\n",
    "\n",
    "{% block navbar %}\n",
    "<div class=\"navbar navbar-inverse\" role=\"navigation\">\n",
    "    <div class=\"container\">\n",
    "        <div class=\"navbar-header\">\n",
    "            <button type=\"button\" class=\"navbar-toggle\" data-toggle=\"collapse\" data-target=\".navbar-collapse\">\n",
    "                <span class=\"sr-only\">Toggle navigation</span>\n",
    "                <span class=\"icon-bar\"></span>\n",
    "                <span class=\"icon-bar\"></span>\n",
    "                <span class=\"icon-bar\"></span>\n",
    "            </button>\n",
    "            <a class=\"navbar-brand\" href=\"/\">Flasky</a>\n",
    "        </div>\n",
    "        <div class=\"navbar-collapse collapse\">\n",
    "            <ul class=\"nav navbar-nav\">\n",
    "                <li><a href=\"/\">Home</a></li>\n",
    "            </ul>\n",
    "        </div>\n",
    "    </div>\n",
    "</div>\n",
    "{% endblock %}\n",
    "\n",
    "{% block content %}\n",
    "<div class=\"container\">\n",
    "    <div class=\"page-header\">\n",
    "        <h1>Hello, {{ name }}!</h1>\n",
    "    </div>\n",
    "</div>\n",
    "{% endblock %}"
   ]
  },
  {
   "cell_type": "code",
   "execution_count": 30,
   "metadata": {
    "collapsed": true
   },
   "outputs": [],
   "source": [
    "@app.route('/b_user/<name>')\n",
    "def b_user(name):\n",
    "    o = render_template('b_user.html', name=name); show(o)\n",
    "    return o"
   ]
  },
  {
   "cell_type": "code",
   "execution_count": 31,
   "metadata": {
    "collapsed": true
   },
   "outputs": [],
   "source": [
    "app_ctx = app.app_context()\n",
    "app_ctx.push()"
   ]
  },
  {
   "cell_type": "code",
   "execution_count": 32,
   "metadata": {
    "scrolled": true
   },
   "outputs": [
    {
     "data": {
      "text/html": [
       "\n",
       "<!DOCTYPE html>\n",
       "<html>\n",
       "  <head>\n",
       "    <title>Flasky</title>\n",
       "    <meta name=\"viewport\" content=\"width=device-width, initial-scale=1.0\">\n",
       "    <!-- Bootstrap -->\n",
       "    <link href=\"//cdnjs.cloudflare.com/ajax/libs/twitter-bootstrap/3.3.7/css/bootstrap.min.css\" rel=\"stylesheet\">\n",
       "  </head>\n",
       "  <body>\n",
       "    \n",
       "<div class=\"navbar navbar-inverse\" role=\"navigation\">\n",
       "    <div class=\"container\">\n",
       "        <div class=\"navbar-header\">\n",
       "            <button type=\"button\" class=\"navbar-toggle\" data-toggle=\"collapse\" data-target=\".navbar-collapse\">\n",
       "                <span class=\"sr-only\">Toggle navigation</span>\n",
       "                <span class=\"icon-bar\"></span>\n",
       "                <span class=\"icon-bar\"></span>\n",
       "                <span class=\"icon-bar\"></span>\n",
       "            </button>\n",
       "            <a class=\"navbar-brand\" href=\"/\">Flasky</a>\n",
       "        </div>\n",
       "        <div class=\"navbar-collapse collapse\">\n",
       "            <ul class=\"nav navbar-nav\">\n",
       "                <li><a href=\"/\">Home</a></li>\n",
       "            </ul>\n",
       "        </div>\n",
       "    </div>\n",
       "</div>\n",
       "\n",
       "    \n",
       "<div class=\"container\">\n",
       "    <div class=\"page-header\">\n",
       "        <h1>Hello, Floyd!</h1>\n",
       "    </div>\n",
       "</div>\n",
       "\n",
       "\n",
       "    \n",
       "    <script src=\"//cdnjs.cloudflare.com/ajax/libs/jquery/1.12.4/jquery.min.js\"></script>\n",
       "    <script src=\"//cdnjs.cloudflare.com/ajax/libs/twitter-bootstrap/3.3.7/js/bootstrap.min.js\"></script>\n",
       "  </body>\n",
       "</html>\n"
      ],
      "text/plain": [
       "<IPython.core.display.HTML object>"
      ]
     },
     "metadata": {},
     "output_type": "display_data"
    },
    {
     "data": {
      "text/plain": [
       "'\\n<!DOCTYPE html>\\n<html>\\n  <head>\\n    <title>Flasky</title>\\n    <meta name=\"viewport\" content=\"width=device-width, initial-scale=1.0\">\\n    <!-- Bootstrap -->\\n    <link href=\"//cdnjs.cloudflare.com/ajax/libs/twitter-bootstrap/3.3.7/css/bootstrap.min.css\" rel=\"stylesheet\">\\n  </head>\\n  <body>\\n    \\n<div class=\"navbar navbar-inverse\" role=\"navigation\">\\n    <div class=\"container\">\\n        <div class=\"navbar-header\">\\n            <button type=\"button\" class=\"navbar-toggle\" data-toggle=\"collapse\" data-target=\".navbar-collapse\">\\n                <span class=\"sr-only\">Toggle navigation</span>\\n                <span class=\"icon-bar\"></span>\\n                <span class=\"icon-bar\"></span>\\n                <span class=\"icon-bar\"></span>\\n            </button>\\n            <a class=\"navbar-brand\" href=\"/\">Flasky</a>\\n        </div>\\n        <div class=\"navbar-collapse collapse\">\\n            <ul class=\"nav navbar-nav\">\\n                <li><a href=\"/\">Home</a></li>\\n            </ul>\\n        </div>\\n    </div>\\n</div>\\n\\n    \\n<div class=\"container\">\\n    <div class=\"page-header\">\\n        <h1>Hello, Floyd!</h1>\\n    </div>\\n</div>\\n\\n\\n    \\n    <script src=\"//cdnjs.cloudflare.com/ajax/libs/jquery/1.12.4/jquery.min.js\"></script>\\n    <script src=\"//cdnjs.cloudflare.com/ajax/libs/twitter-bootstrap/3.3.7/js/bootstrap.min.js\"></script>\\n  </body>\\n</html>\\n'"
      ]
     },
     "execution_count": 32,
     "metadata": {},
     "output_type": "execute_result"
    }
   ],
   "source": [
    "b_user('Floyd')"
   ]
  },
  {
   "cell_type": "markdown",
   "metadata": {},
   "source": [
    "# c. Custom Error Page"
   ]
  },
  {
   "cell_type": "code",
   "execution_count": 33,
   "metadata": {},
   "outputs": [
    {
     "name": "stdout",
     "output_type": "stream",
     "text": [
      "Overwriting templates/c_base.html\n"
     ]
    }
   ],
   "source": [
    "%%writefile templates/c_base.html\n",
    "{% extends \"bootstrap/base.html\" %}\n",
    "\n",
    "{% block title %}Flasky{% endblock %}\n",
    "\n",
    "{% block navbar %}\n",
    "<div class=\"navbar navbar-inverse\" role=\"navigation\">\n",
    "    <div class=\"container\">\n",
    "        <div class=\"navbar-header\">\n",
    "            <button type=\"button\" class=\"navbar-toggle\"\n",
    "             data-toggle=\"collapse\" data-target=\".navbar-collapse\">\n",
    "                <span class=\"sr-only\">Toggle navigation</span>\n",
    "                <span class=\"icon-bar\"></span>\n",
    "                <span class=\"icon-bar\"></span>\n",
    "                <span class=\"icon-bar\"></span>\n",
    "            </button>\n",
    "            <a class=\"navbar-brand\" href=\"/\">Flasky</a>\n",
    "        </div>\n",
    "        <div class=\"navbar-collapse collapse\">\n",
    "            <ul class=\"nav navbar-nav\">\n",
    "                <li><a href=\"/\">Home</a></li>\n",
    "            </ul>\n",
    "        </div>\n",
    "    </div>\n",
    "</div>\n",
    "{% endblock %}\n",
    "\n",
    "{% block content %}\n",
    "<div class=\"container\">\n",
    "    {% block page_content %}{% endblock %}\n",
    "</div>\n",
    "{% endblock %}"
   ]
  },
  {
   "cell_type": "code",
   "execution_count": 34,
   "metadata": {},
   "outputs": [
    {
     "name": "stdout",
     "output_type": "stream",
     "text": [
      "Overwriting templates/c_404.html\n"
     ]
    }
   ],
   "source": [
    "%%writefile templates/c_404.html\n",
    "{% extends \"c_base.html\" %}\n",
    "\n",
    "{% block title %}Flasky - Page Not Found{% endblock %}\n",
    "\n",
    "{% block page_content %}\n",
    "<div class=\"page-header\">\n",
    "    <h1>Not Found</h1>\n",
    "</div>\n",
    "{% endblock %}\n"
   ]
  },
  {
   "cell_type": "code",
   "execution_count": 35,
   "metadata": {},
   "outputs": [
    {
     "name": "stdout",
     "output_type": "stream",
     "text": [
      "Overwriting templates/c_500.html\n"
     ]
    }
   ],
   "source": [
    "%%writefile templates/c_500.html\n",
    "{% extends \"c_base.html\" %}\n",
    "\n",
    "{% block title %}Flasky - Internal Server Error{% endblock %}\n",
    "\n",
    "{% block page_content %}\n",
    "<div class=\"page-header\">\n",
    "    <h1>Internal Server Error</h1>\n",
    "</div>\n",
    "{% endblock %}\n"
   ]
  },
  {
   "cell_type": "code",
   "execution_count": 36,
   "metadata": {
    "collapsed": true
   },
   "outputs": [],
   "source": [
    "@app.errorhandler(404)\n",
    "def page_not_found(e):\n",
    "    o = render_template('c_404.html'); show(o)\n",
    "    return o, 404\n",
    "\n",
    "@app.errorhandler(500)\n",
    "def internal_server_error(e):\n",
    "    o = render_template('c_500.html'); show(o)\n",
    "    return o, 500"
   ]
  },
  {
   "cell_type": "code",
   "execution_count": 37,
   "metadata": {
    "scrolled": true
   },
   "outputs": [
    {
     "data": {
      "text/html": [
       "<!DOCTYPE html>\n",
       "<html>\n",
       "  <head>\n",
       "    <title>Flasky - Page Not Found</title>\n",
       "    <meta name=\"viewport\" content=\"width=device-width, initial-scale=1.0\">\n",
       "    <!-- Bootstrap -->\n",
       "    <link href=\"//cdnjs.cloudflare.com/ajax/libs/twitter-bootstrap/3.3.7/css/bootstrap.min.css\" rel=\"stylesheet\">\n",
       "  </head>\n",
       "  <body>\n",
       "    \n",
       "<div class=\"navbar navbar-inverse\" role=\"navigation\">\n",
       "    <div class=\"container\">\n",
       "        <div class=\"navbar-header\">\n",
       "            <button type=\"button\" class=\"navbar-toggle\"\n",
       "             data-toggle=\"collapse\" data-target=\".navbar-collapse\">\n",
       "                <span class=\"sr-only\">Toggle navigation</span>\n",
       "                <span class=\"icon-bar\"></span>\n",
       "                <span class=\"icon-bar\"></span>\n",
       "                <span class=\"icon-bar\"></span>\n",
       "            </button>\n",
       "            <a class=\"navbar-brand\" href=\"/\">Flasky</a>\n",
       "        </div>\n",
       "        <div class=\"navbar-collapse collapse\">\n",
       "            <ul class=\"nav navbar-nav\">\n",
       "                <li><a href=\"/\">Home</a></li>\n",
       "            </ul>\n",
       "        </div>\n",
       "    </div>\n",
       "</div>\n",
       "\n",
       "    \n",
       "<div class=\"container\">\n",
       "    \n",
       "<div class=\"page-header\">\n",
       "    <h1>Not Found</h1>\n",
       "</div>\n",
       "\n",
       "</div>\n",
       "\n",
       "\n",
       "    \n",
       "    <script src=\"//cdnjs.cloudflare.com/ajax/libs/jquery/1.12.4/jquery.min.js\"></script>\n",
       "    <script src=\"//cdnjs.cloudflare.com/ajax/libs/twitter-bootstrap/3.3.7/js/bootstrap.min.js\"></script>\n",
       "  </body>\n",
       "</html>\n"
      ],
      "text/plain": [
       "<IPython.core.display.HTML object>"
      ]
     },
     "metadata": {},
     "output_type": "display_data"
    },
    {
     "data": {
      "text/plain": [
       "('<!DOCTYPE html>\\n<html>\\n  <head>\\n    <title>Flasky - Page Not Found</title>\\n    <meta name=\"viewport\" content=\"width=device-width, initial-scale=1.0\">\\n    <!-- Bootstrap -->\\n    <link href=\"//cdnjs.cloudflare.com/ajax/libs/twitter-bootstrap/3.3.7/css/bootstrap.min.css\" rel=\"stylesheet\">\\n  </head>\\n  <body>\\n    \\n<div class=\"navbar navbar-inverse\" role=\"navigation\">\\n    <div class=\"container\">\\n        <div class=\"navbar-header\">\\n            <button type=\"button\" class=\"navbar-toggle\"\\n             data-toggle=\"collapse\" data-target=\".navbar-collapse\">\\n                <span class=\"sr-only\">Toggle navigation</span>\\n                <span class=\"icon-bar\"></span>\\n                <span class=\"icon-bar\"></span>\\n                <span class=\"icon-bar\"></span>\\n            </button>\\n            <a class=\"navbar-brand\" href=\"/\">Flasky</a>\\n        </div>\\n        <div class=\"navbar-collapse collapse\">\\n            <ul class=\"nav navbar-nav\">\\n                <li><a href=\"/\">Home</a></li>\\n            </ul>\\n        </div>\\n    </div>\\n</div>\\n\\n    \\n<div class=\"container\">\\n    \\n<div class=\"page-header\">\\n    <h1>Not Found</h1>\\n</div>\\n\\n</div>\\n\\n\\n    \\n    <script src=\"//cdnjs.cloudflare.com/ajax/libs/jquery/1.12.4/jquery.min.js\"></script>\\n    <script src=\"//cdnjs.cloudflare.com/ajax/libs/twitter-bootstrap/3.3.7/js/bootstrap.min.js\"></script>\\n  </body>\\n</html>\\n',\n",
       " 404)"
      ]
     },
     "execution_count": 37,
     "metadata": {},
     "output_type": "execute_result"
    }
   ],
   "source": [
    "page_not_found('e')"
   ]
  },
  {
   "cell_type": "code",
   "execution_count": 38,
   "metadata": {
    "scrolled": true
   },
   "outputs": [
    {
     "data": {
      "text/html": [
       "<!DOCTYPE html>\n",
       "<html>\n",
       "  <head>\n",
       "    <title>Flasky - Internal Server Error</title>\n",
       "    <meta name=\"viewport\" content=\"width=device-width, initial-scale=1.0\">\n",
       "    <!-- Bootstrap -->\n",
       "    <link href=\"//cdnjs.cloudflare.com/ajax/libs/twitter-bootstrap/3.3.7/css/bootstrap.min.css\" rel=\"stylesheet\">\n",
       "  </head>\n",
       "  <body>\n",
       "    \n",
       "<div class=\"navbar navbar-inverse\" role=\"navigation\">\n",
       "    <div class=\"container\">\n",
       "        <div class=\"navbar-header\">\n",
       "            <button type=\"button\" class=\"navbar-toggle\"\n",
       "             data-toggle=\"collapse\" data-target=\".navbar-collapse\">\n",
       "                <span class=\"sr-only\">Toggle navigation</span>\n",
       "                <span class=\"icon-bar\"></span>\n",
       "                <span class=\"icon-bar\"></span>\n",
       "                <span class=\"icon-bar\"></span>\n",
       "            </button>\n",
       "            <a class=\"navbar-brand\" href=\"/\">Flasky</a>\n",
       "        </div>\n",
       "        <div class=\"navbar-collapse collapse\">\n",
       "            <ul class=\"nav navbar-nav\">\n",
       "                <li><a href=\"/\">Home</a></li>\n",
       "            </ul>\n",
       "        </div>\n",
       "    </div>\n",
       "</div>\n",
       "\n",
       "    \n",
       "<div class=\"container\">\n",
       "    \n",
       "<div class=\"page-header\">\n",
       "    <h1>Internal Server Error</h1>\n",
       "</div>\n",
       "\n",
       "</div>\n",
       "\n",
       "\n",
       "    \n",
       "    <script src=\"//cdnjs.cloudflare.com/ajax/libs/jquery/1.12.4/jquery.min.js\"></script>\n",
       "    <script src=\"//cdnjs.cloudflare.com/ajax/libs/twitter-bootstrap/3.3.7/js/bootstrap.min.js\"></script>\n",
       "  </body>\n",
       "</html>\n"
      ],
      "text/plain": [
       "<IPython.core.display.HTML object>"
      ]
     },
     "metadata": {},
     "output_type": "display_data"
    },
    {
     "data": {
      "text/plain": [
       "('<!DOCTYPE html>\\n<html>\\n  <head>\\n    <title>Flasky - Internal Server Error</title>\\n    <meta name=\"viewport\" content=\"width=device-width, initial-scale=1.0\">\\n    <!-- Bootstrap -->\\n    <link href=\"//cdnjs.cloudflare.com/ajax/libs/twitter-bootstrap/3.3.7/css/bootstrap.min.css\" rel=\"stylesheet\">\\n  </head>\\n  <body>\\n    \\n<div class=\"navbar navbar-inverse\" role=\"navigation\">\\n    <div class=\"container\">\\n        <div class=\"navbar-header\">\\n            <button type=\"button\" class=\"navbar-toggle\"\\n             data-toggle=\"collapse\" data-target=\".navbar-collapse\">\\n                <span class=\"sr-only\">Toggle navigation</span>\\n                <span class=\"icon-bar\"></span>\\n                <span class=\"icon-bar\"></span>\\n                <span class=\"icon-bar\"></span>\\n            </button>\\n            <a class=\"navbar-brand\" href=\"/\">Flasky</a>\\n        </div>\\n        <div class=\"navbar-collapse collapse\">\\n            <ul class=\"nav navbar-nav\">\\n                <li><a href=\"/\">Home</a></li>\\n            </ul>\\n        </div>\\n    </div>\\n</div>\\n\\n    \\n<div class=\"container\">\\n    \\n<div class=\"page-header\">\\n    <h1>Internal Server Error</h1>\\n</div>\\n\\n</div>\\n\\n\\n    \\n    <script src=\"//cdnjs.cloudflare.com/ajax/libs/jquery/1.12.4/jquery.min.js\"></script>\\n    <script src=\"//cdnjs.cloudflare.com/ajax/libs/twitter-bootstrap/3.3.7/js/bootstrap.min.js\"></script>\\n  </body>\\n</html>\\n',\n",
       " 500)"
      ]
     },
     "execution_count": 38,
     "metadata": {},
     "output_type": "execute_result"
    }
   ],
   "source": [
    "internal_server_error('e')"
   ]
  },
  {
   "cell_type": "markdown",
   "metadata": {},
   "source": [
    "# d. Links\n",
    "\n",
    "\n",
    "`url_for`"
   ]
  },
  {
   "cell_type": "code",
   "execution_count": 39,
   "metadata": {
    "collapsed": true
   },
   "outputs": [],
   "source": [
    "app.config['SERVER_NAME'] = 'floydjjluo.me'"
   ]
  },
  {
   "cell_type": "code",
   "execution_count": 40,
   "metadata": {},
   "outputs": [
    {
     "data": {
      "text/plain": [
       "'http://floydjjluo.me/b_user/Floyd'"
      ]
     },
     "execution_count": 40,
     "metadata": {},
     "output_type": "execute_result"
    }
   ],
   "source": [
    "from flask import url_for\n",
    "\n",
    "\n",
    "app_ctx = app.app_context()\n",
    "app_ctx.push()\n",
    "\n",
    "\n",
    "url_for('b_user', name = 'Floyd')"
   ]
  },
  {
   "cell_type": "markdown",
   "metadata": {},
   "source": [
    "# e. Static Files"
   ]
  },
  {
   "cell_type": "markdown",
   "metadata": {},
   "source": [
    "Get the icon.\n",
    "\n",
    "\n",
    "![](static/favicon.ico)"
   ]
  },
  {
   "cell_type": "code",
   "execution_count": 41,
   "metadata": {},
   "outputs": [
    {
     "data": {
      "text/plain": [
       "'http://floydjjluo.me/static/favicon.ico'"
      ]
     },
     "execution_count": 41,
     "metadata": {},
     "output_type": "execute_result"
    }
   ],
   "source": [
    "url_for('static', filename='favicon.ico')"
   ]
  },
  {
   "cell_type": "code",
   "execution_count": 42,
   "metadata": {},
   "outputs": [
    {
     "name": "stdout",
     "output_type": "stream",
     "text": [
      "Overwriting templates/e_base.html\n"
     ]
    }
   ],
   "source": [
    "%%writefile templates/e_base.html\n",
    "{% extends \"bootstrap/base.html\" %}\n",
    "\n",
    "{% block title %}Flasky{% endblock %}\n",
    "\n",
    "{% block head %}\n",
    "{{ super() }}\n",
    "<link rel=\"shortcut icon\" href=\"{{ url_for('static', filename='favicon.ico') }}\"\n",
    "    type=\"image/x-icon\">\n",
    "<link rel=\"icon\" href=\"{{ url_for('static', filename='favicon.ico') }}\"\n",
    "    type=\"image/x-icon\">\n",
    "{% endblock %} \n",
    "\n",
    "\n",
    "{% block navbar %}\n",
    "<div class=\"navbar navbar-inverse\" role=\"navigation\">\n",
    "    <div class=\"container\">\n",
    "        <div class=\"navbar-header\">\n",
    "            <button type=\"button\" class=\"navbar-toggle\"\n",
    "             data-toggle=\"collapse\" data-target=\".navbar-collapse\">\n",
    "                <span class=\"sr-only\">Toggle navigation</span>\n",
    "                <span class=\"icon-bar\"></span>\n",
    "                <span class=\"icon-bar\"></span>\n",
    "                <span class=\"icon-bar\"></span>\n",
    "            </button>\n",
    "            <a class=\"navbar-brand\" href=\"/\">Flasky</a>\n",
    "        </div>\n",
    "        <div class=\"navbar-collapse collapse\">\n",
    "            <ul class=\"nav navbar-nav\">\n",
    "                <li><a href=\"/\">Home</a></li>\n",
    "            </ul>\n",
    "        </div>\n",
    "    </div>\n",
    "</div>\n",
    "{% endblock %}\n",
    "\n",
    "\n",
    "{% block content %}\n",
    "<div class=\"container\">\n",
    "    {% block page_content %}{% endblock %}\n",
    "</div>\n",
    "{% endblock %}"
   ]
  },
  {
   "cell_type": "code",
   "execution_count": 43,
   "metadata": {},
   "outputs": [
    {
     "name": "stdout",
     "output_type": "stream",
     "text": [
      "Overwriting templates/e_user.html\n"
     ]
    }
   ],
   "source": [
    "%%writefile templates/e_user.html\n",
    "\n",
    "{% extends \"e_base.html\" %}\n",
    "\n",
    "{% block title %}Flasky{% endblock %}\n",
    "\n",
    "{% block page_content %}\n",
    "<div class=\"page-header\">\n",
    "    <h1>Hello, {{ name }}!</h1>\n",
    "</div>\n",
    "{% endblock %}\n"
   ]
  },
  {
   "cell_type": "code",
   "execution_count": 44,
   "metadata": {},
   "outputs": [],
   "source": [
    "@app.route('/e_user/<name>')\n",
    "def e_user(name):\n",
    "    o = render_template('e_user.html', name=name); show(o)\n",
    "    return o"
   ]
  },
  {
   "cell_type": "code",
   "execution_count": 45,
   "metadata": {
    "scrolled": true
   },
   "outputs": [
    {
     "data": {
      "text/html": [
       "\n",
       "<!DOCTYPE html>\n",
       "<html>\n",
       "  <head>\n",
       "\n",
       "    <title>Flasky</title>\n",
       "    <meta name=\"viewport\" content=\"width=device-width, initial-scale=1.0\">\n",
       "    <!-- Bootstrap -->\n",
       "    <link href=\"//cdnjs.cloudflare.com/ajax/libs/twitter-bootstrap/3.3.7/css/bootstrap.min.css\" rel=\"stylesheet\">\n",
       "<link rel=\"shortcut icon\" href=\"http://floydjjluo.me/static/favicon.ico\"\n",
       "    type=\"image/x-icon\">\n",
       "<link rel=\"icon\" href=\"http://floydjjluo.me/static/favicon.ico\"\n",
       "    type=\"image/x-icon\">\n",
       "\n",
       "  </head>\n",
       "  <body>\n",
       "    \n",
       "<div class=\"navbar navbar-inverse\" role=\"navigation\">\n",
       "    <div class=\"container\">\n",
       "        <div class=\"navbar-header\">\n",
       "            <button type=\"button\" class=\"navbar-toggle\"\n",
       "             data-toggle=\"collapse\" data-target=\".navbar-collapse\">\n",
       "                <span class=\"sr-only\">Toggle navigation</span>\n",
       "                <span class=\"icon-bar\"></span>\n",
       "                <span class=\"icon-bar\"></span>\n",
       "                <span class=\"icon-bar\"></span>\n",
       "            </button>\n",
       "            <a class=\"navbar-brand\" href=\"/\">Flasky</a>\n",
       "        </div>\n",
       "        <div class=\"navbar-collapse collapse\">\n",
       "            <ul class=\"nav navbar-nav\">\n",
       "                <li><a href=\"/\">Home</a></li>\n",
       "            </ul>\n",
       "        </div>\n",
       "    </div>\n",
       "</div>\n",
       "\n",
       "    \n",
       "<div class=\"container\">\n",
       "    \n",
       "<div class=\"page-header\">\n",
       "    <h1>Hello, Floyd!</h1>\n",
       "</div>\n",
       "\n",
       "</div>\n",
       "\n",
       "\n",
       "    \n",
       "    <script src=\"//cdnjs.cloudflare.com/ajax/libs/jquery/1.12.4/jquery.min.js\"></script>\n",
       "    <script src=\"//cdnjs.cloudflare.com/ajax/libs/twitter-bootstrap/3.3.7/js/bootstrap.min.js\"></script>\n",
       "  </body>\n",
       "</html>\n"
      ],
      "text/plain": [
       "<IPython.core.display.HTML object>"
      ]
     },
     "metadata": {},
     "output_type": "display_data"
    },
    {
     "data": {
      "text/plain": [
       "'\\n<!DOCTYPE html>\\n<html>\\n  <head>\\n\\n    <title>Flasky</title>\\n    <meta name=\"viewport\" content=\"width=device-width, initial-scale=1.0\">\\n    <!-- Bootstrap -->\\n    <link href=\"//cdnjs.cloudflare.com/ajax/libs/twitter-bootstrap/3.3.7/css/bootstrap.min.css\" rel=\"stylesheet\">\\n<link rel=\"shortcut icon\" href=\"http://floydjjluo.me/static/favicon.ico\"\\n    type=\"image/x-icon\">\\n<link rel=\"icon\" href=\"http://floydjjluo.me/static/favicon.ico\"\\n    type=\"image/x-icon\">\\n\\n  </head>\\n  <body>\\n    \\n<div class=\"navbar navbar-inverse\" role=\"navigation\">\\n    <div class=\"container\">\\n        <div class=\"navbar-header\">\\n            <button type=\"button\" class=\"navbar-toggle\"\\n             data-toggle=\"collapse\" data-target=\".navbar-collapse\">\\n                <span class=\"sr-only\">Toggle navigation</span>\\n                <span class=\"icon-bar\"></span>\\n                <span class=\"icon-bar\"></span>\\n                <span class=\"icon-bar\"></span>\\n            </button>\\n            <a class=\"navbar-brand\" href=\"/\">Flasky</a>\\n        </div>\\n        <div class=\"navbar-collapse collapse\">\\n            <ul class=\"nav navbar-nav\">\\n                <li><a href=\"/\">Home</a></li>\\n            </ul>\\n        </div>\\n    </div>\\n</div>\\n\\n    \\n<div class=\"container\">\\n    \\n<div class=\"page-header\">\\n    <h1>Hello, Floyd!</h1>\\n</div>\\n\\n</div>\\n\\n\\n    \\n    <script src=\"//cdnjs.cloudflare.com/ajax/libs/jquery/1.12.4/jquery.min.js\"></script>\\n    <script src=\"//cdnjs.cloudflare.com/ajax/libs/twitter-bootstrap/3.3.7/js/bootstrap.min.js\"></script>\\n  </body>\\n</html>\\n'"
      ]
     },
     "execution_count": 45,
     "metadata": {},
     "output_type": "execute_result"
    }
   ],
   "source": [
    "e_user('Floyd')"
   ]
  },
  {
   "cell_type": "code",
   "execution_count": 46,
   "metadata": {
    "collapsed": true
   },
   "outputs": [],
   "source": [
    "app_ctx.pop()"
   ]
  },
  {
   "cell_type": "markdown",
   "metadata": {},
   "source": [
    "# f. Localization of Dates and Times with Flask-Moment"
   ]
  },
  {
   "cell_type": "code",
   "execution_count": 1,
   "metadata": {
    "collapsed": true
   },
   "outputs": [],
   "source": [
    "from IPython.core.display import display, HTML\n",
    "\n",
    "def show(string):\n",
    "    display(HTML(string))"
   ]
  },
  {
   "cell_type": "code",
   "execution_count": 2,
   "metadata": {},
   "outputs": [
    {
     "data": {
      "text/plain": [
       "<flask_moment.Moment at 0x10bf23cf8>"
      ]
     },
     "execution_count": 2,
     "metadata": {},
     "output_type": "execute_result"
    }
   ],
   "source": [
    "from flask import Flask, render_template\n",
    "from flask_bootstrap import Bootstrap\n",
    "from flask_moment import Moment\n",
    "\n",
    "app = Flask(__name__)\n",
    "bootstrap = Bootstrap(app)\n",
    "moment = Moment(app)\n",
    "moment"
   ]
  },
  {
   "cell_type": "code",
   "execution_count": 3,
   "metadata": {},
   "outputs": [
    {
     "name": "stdout",
     "output_type": "stream",
     "text": [
      "Overwriting templates/f_base.html\n"
     ]
    }
   ],
   "source": [
    "%%writefile templates/f_base.html\n",
    "{% extends \"bootstrap/base.html\" %}\n",
    "\n",
    "{% block title %}Flasky{% endblock %}\n",
    "\n",
    "{% block head %}\n",
    "{{ super() }}\n",
    "<link rel=\"shortcut icon\" href=\"{{ url_for('static', filename='favicon.ico') }}\" type=\"image/x-icon\">\n",
    "<link rel=\"icon\" href=\"{{ url_for('static', filename='favicon.ico') }}\" type=\"image/x-icon\">\n",
    "{% endblock %}\n",
    "\n",
    "{% block navbar %}\n",
    "<div class=\"navbar navbar-inverse\" role=\"navigation\">\n",
    "    <div class=\"container\">\n",
    "        <div class=\"navbar-header\">\n",
    "            <button type=\"button\" class=\"navbar-toggle\" data-toggle=\"collapse\" data-target=\".navbar-collapse\">\n",
    "                <span class=\"sr-only\">Toggle navigation</span>\n",
    "                <span class=\"icon-bar\"></span>\n",
    "                <span class=\"icon-bar\"></span>\n",
    "                <span class=\"icon-bar\"></span>\n",
    "            </button>\n",
    "            <a class=\"navbar-brand\" href=\"/\">Flasky</a>\n",
    "        </div>\n",
    "        <div class=\"navbar-collapse collapse\">\n",
    "            <ul class=\"nav navbar-nav\">\n",
    "                <li><a href=\"/\">Home</a></li>\n",
    "            </ul>\n",
    "        </div>\n",
    "    </div>\n",
    "</div>\n",
    "{% endblock %}\n",
    "\n",
    "{% block content %}\n",
    "<div class=\"container\">\n",
    "    {% block page_content %}{% endblock %}\n",
    "</div>\n",
    "{% endblock %}\n",
    "\n",
    "<! -- New --- >\n",
    "{% block scripts %}\n",
    "{{ super() }}\n",
    "{{ moment.include_moment() }}\n",
    "{% endblock %}\n"
   ]
  },
  {
   "cell_type": "code",
   "execution_count": 4,
   "metadata": {},
   "outputs": [
    {
     "data": {
      "text/plain": [
       "datetime.datetime(2018, 5, 26, 13, 8, 29, 971614)"
      ]
     },
     "execution_count": 4,
     "metadata": {},
     "output_type": "execute_result"
    }
   ],
   "source": [
    "from datetime import datetime\n",
    "\n",
    "current_time = datetime.now()\n",
    "current_time"
   ]
  },
  {
   "cell_type": "code",
   "execution_count": 5,
   "metadata": {},
   "outputs": [
    {
     "name": "stdout",
     "output_type": "stream",
     "text": [
      "Overwriting templates/f_index.html\n"
     ]
    }
   ],
   "source": [
    "%%writefile templates/f_index.html\n",
    "\n",
    "{% extends \"f_base.html\" %}\n",
    "\n",
    "{% block title %}Flasky{% endblock %}\n",
    "\n",
    "{% block page_content %}\n",
    "<div class=\"page-header\">\n",
    "    <h1>Hello World!</h1>\n",
    "</div>\n",
    "\n",
    "<p>The local date and time is {{ moment(current_time).format('LLL') }}.</p>\n",
    "\n",
    "<p>That was {{ moment(current_time).fromNow(refresh=True) }}.</p>\n",
    "{% endblock %}\n"
   ]
  },
  {
   "cell_type": "code",
   "execution_count": 6,
   "metadata": {},
   "outputs": [],
   "source": [
    "@app.route('/f_index/')\n",
    "def f_index():\n",
    "    o = render_template('f_index.html', current_time=datetime.utcnow()); show(o)\n",
    "    return o"
   ]
  },
  {
   "cell_type": "code",
   "execution_count": 8,
   "metadata": {},
   "outputs": [
    {
     "data": {
      "text/html": [
       "\n",
       "<!DOCTYPE html>\n",
       "<html>\n",
       "  <head>\n",
       "\n",
       "    <title>Flasky</title>\n",
       "    <meta name=\"viewport\" content=\"width=device-width, initial-scale=1.0\">\n",
       "    <!-- Bootstrap -->\n",
       "    <link href=\"//cdnjs.cloudflare.com/ajax/libs/twitter-bootstrap/3.3.7/css/bootstrap.min.css\" rel=\"stylesheet\">\n",
       "<link rel=\"shortcut icon\" href=\"http://floydjjluo.me/static/favicon.ico\" type=\"image/x-icon\">\n",
       "<link rel=\"icon\" href=\"http://floydjjluo.me/static/favicon.ico\" type=\"image/x-icon\">\n",
       "\n",
       "  </head>\n",
       "  <body>\n",
       "    \n",
       "<div class=\"navbar navbar-inverse\" role=\"navigation\">\n",
       "    <div class=\"container\">\n",
       "        <div class=\"navbar-header\">\n",
       "            <button type=\"button\" class=\"navbar-toggle\" data-toggle=\"collapse\" data-target=\".navbar-collapse\">\n",
       "                <span class=\"sr-only\">Toggle navigation</span>\n",
       "                <span class=\"icon-bar\"></span>\n",
       "                <span class=\"icon-bar\"></span>\n",
       "                <span class=\"icon-bar\"></span>\n",
       "            </button>\n",
       "            <a class=\"navbar-brand\" href=\"/\">Flasky</a>\n",
       "        </div>\n",
       "        <div class=\"navbar-collapse collapse\">\n",
       "            <ul class=\"nav navbar-nav\">\n",
       "                <li><a href=\"/\">Home</a></li>\n",
       "            </ul>\n",
       "        </div>\n",
       "    </div>\n",
       "</div>\n",
       "\n",
       "    \n",
       "<div class=\"container\">\n",
       "    \n",
       "<div class=\"page-header\">\n",
       "    <h1>Hello World!</h1>\n",
       "</div>\n",
       "\n",
       "<p>The local date and time is <span class=\"flask-moment\" data-timestamp=\"2018-05-26T05:08:42Z\" data-format=\"format('LLL')\" data-refresh=\"0\" style=\"display: none\">2018-05-26T05:08:42Z</span>.</p>\n",
       "\n",
       "<p>That was <span class=\"flask-moment\" data-timestamp=\"2018-05-26T05:08:42Z\" data-format=\"fromNow(0)\" data-refresh=\"60000\" style=\"display: none\">2018-05-26T05:08:42Z</span>.</p>\n",
       "\n",
       "</div>\n",
       "\n",
       "\n",
       "    \n",
       "\n",
       "    <script src=\"//cdnjs.cloudflare.com/ajax/libs/jquery/1.12.4/jquery.min.js\"></script>\n",
       "    <script src=\"//cdnjs.cloudflare.com/ajax/libs/twitter-bootstrap/3.3.7/js/bootstrap.min.js\"></script>\n",
       "<script src=\"//cdnjs.cloudflare.com/ajax/libs/moment.js/2.18.1/moment-with-locales.min.js\"></script>\n",
       "<script>\n",
       "moment.locale(\"en\");\n",
       "function flask_moment_render(elem) {\n",
       "    $(elem).text(eval('moment(\"' + $(elem).data('timestamp') + '\").' + $(elem).data('format') + ';'));\n",
       "    $(elem).removeClass('flask-moment').show();\n",
       "}\n",
       "function flask_moment_render_all() {\n",
       "    $('.flask-moment').each(function() {\n",
       "        flask_moment_render(this);\n",
       "        if ($(this).data('refresh')) {\n",
       "            (function(elem, interval) { setInterval(function() { flask_moment_render(elem) }, interval); })(this, $(this).data('refresh'));\n",
       "        }\n",
       "    })\n",
       "}\n",
       "$(document).ready(function() {\n",
       "    flask_moment_render_all();\n",
       "});\n",
       "</script>\n",
       "\n",
       "  </body>\n",
       "</html>\n"
      ],
      "text/plain": [
       "<IPython.core.display.HTML object>"
      ]
     },
     "metadata": {},
     "output_type": "display_data"
    },
    {
     "data": {
      "text/plain": [
       "'\\n<!DOCTYPE html>\\n<html>\\n  <head>\\n\\n    <title>Flasky</title>\\n    <meta name=\"viewport\" content=\"width=device-width, initial-scale=1.0\">\\n    <!-- Bootstrap -->\\n    <link href=\"//cdnjs.cloudflare.com/ajax/libs/twitter-bootstrap/3.3.7/css/bootstrap.min.css\" rel=\"stylesheet\">\\n<link rel=\"shortcut icon\" href=\"http://floydjjluo.me/static/favicon.ico\" type=\"image/x-icon\">\\n<link rel=\"icon\" href=\"http://floydjjluo.me/static/favicon.ico\" type=\"image/x-icon\">\\n\\n  </head>\\n  <body>\\n    \\n<div class=\"navbar navbar-inverse\" role=\"navigation\">\\n    <div class=\"container\">\\n        <div class=\"navbar-header\">\\n            <button type=\"button\" class=\"navbar-toggle\" data-toggle=\"collapse\" data-target=\".navbar-collapse\">\\n                <span class=\"sr-only\">Toggle navigation</span>\\n                <span class=\"icon-bar\"></span>\\n                <span class=\"icon-bar\"></span>\\n                <span class=\"icon-bar\"></span>\\n            </button>\\n            <a class=\"navbar-brand\" href=\"/\">Flasky</a>\\n        </div>\\n        <div class=\"navbar-collapse collapse\">\\n            <ul class=\"nav navbar-nav\">\\n                <li><a href=\"/\">Home</a></li>\\n            </ul>\\n        </div>\\n    </div>\\n</div>\\n\\n    \\n<div class=\"container\">\\n    \\n<div class=\"page-header\">\\n    <h1>Hello World!</h1>\\n</div>\\n\\n<p>The local date and time is <span class=\"flask-moment\" data-timestamp=\"2018-05-26T05:08:42Z\" data-format=\"format(\\'LLL\\')\" data-refresh=\"0\" style=\"display: none\">2018-05-26T05:08:42Z</span>.</p>\\n\\n<p>That was <span class=\"flask-moment\" data-timestamp=\"2018-05-26T05:08:42Z\" data-format=\"fromNow(0)\" data-refresh=\"60000\" style=\"display: none\">2018-05-26T05:08:42Z</span>.</p>\\n\\n</div>\\n\\n\\n    \\n\\n    <script src=\"//cdnjs.cloudflare.com/ajax/libs/jquery/1.12.4/jquery.min.js\"></script>\\n    <script src=\"//cdnjs.cloudflare.com/ajax/libs/twitter-bootstrap/3.3.7/js/bootstrap.min.js\"></script>\\n<script src=\"//cdnjs.cloudflare.com/ajax/libs/moment.js/2.18.1/moment-with-locales.min.js\"></script>\\n<script>\\nmoment.locale(\"en\");\\nfunction flask_moment_render(elem) {\\n    $(elem).text(eval(\\'moment(\"\\' + $(elem).data(\\'timestamp\\') + \\'\").\\' + $(elem).data(\\'format\\') + \\';\\'));\\n    $(elem).removeClass(\\'flask-moment\\').show();\\n}\\nfunction flask_moment_render_all() {\\n    $(\\'.flask-moment\\').each(function() {\\n        flask_moment_render(this);\\n        if ($(this).data(\\'refresh\\')) {\\n            (function(elem, interval) { setInterval(function() { flask_moment_render(elem) }, interval); })(this, $(this).data(\\'refresh\\'));\\n        }\\n    })\\n}\\n$(document).ready(function() {\\n    flask_moment_render_all();\\n});\\n</script>\\n\\n  </body>\\n</html>\\n'"
      ]
     },
     "execution_count": 8,
     "metadata": {},
     "output_type": "execute_result"
    }
   ],
   "source": [
    "app.config['SERVER_NAME'] = 'floydjjluo.me'\n",
    "app_ctx = app.app_context()\n",
    "app_ctx.push()\n",
    "\n",
    "f_index()"
   ]
  }
 ],
 "metadata": {
  "kernelspec": {
   "display_name": "Flasky",
   "language": "python",
   "name": "flasky"
  },
  "language_info": {
   "codemirror_mode": {
    "name": "ipython",
    "version": 3
   },
   "file_extension": ".py",
   "mimetype": "text/x-python",
   "name": "python",
   "nbconvert_exporter": "python",
   "pygments_lexer": "ipython3",
   "version": "3.6.5"
  }
 },
 "nbformat": 4,
 "nbformat_minor": 2
}
