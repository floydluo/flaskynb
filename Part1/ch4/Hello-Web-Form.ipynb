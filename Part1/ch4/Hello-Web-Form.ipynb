{
 "cells": [
  {
   "cell_type": "markdown",
   "metadata": {},
   "source": [
    "```shell\n",
    "pip install flask-wtf\n",
    "```"
   ]
  },
  {
   "cell_type": "code",
   "execution_count": 1,
   "metadata": {
    "collapsed": true
   },
   "outputs": [],
   "source": [
    "from IPython.core.display import display, HTML\n",
    "\n",
    "def show(string):\n",
    "    display(HTML(string))"
   ]
  },
  {
   "cell_type": "markdown",
   "metadata": {},
   "source": [
    "# a. Configuration"
   ]
  },
  {
   "cell_type": "code",
   "execution_count": 2,
   "metadata": {
    "collapsed": true
   },
   "outputs": [],
   "source": [
    "from flask import Flask, render_template\n",
    "from flask_bootstrap import Bootstrap\n",
    "from flask_moment import Moment\n",
    "\n",
    "app = Flask(__name__)\n",
    "bootstrap = Bootstrap(app)\n",
    "moment = Moment(app)\n",
    "\n",
    "\n",
    "\n",
    "app.config['SECRET_KEY'] = 'hard to guess string'\n",
    "\n",
    "app.config['SERVER_NAME'] = 'floydjjluo.me'\n",
    "#app.config['SERVER_NAME'] = ''\n",
    "app.config['WTF_CSRF_ENABLED'] = False"
   ]
  },
  {
   "cell_type": "markdown",
   "metadata": {},
   "source": [
    "# b. Form Classes"
   ]
  },
  {
   "cell_type": "code",
   "execution_count": 3,
   "metadata": {
    "collapsed": true
   },
   "outputs": [],
   "source": [
    "from flask import Flask, render_template, session, redirect, url_for, flash\n",
    "from flask_bootstrap import Bootstrap\n",
    "from flask_moment import Moment\n",
    "\n",
    "# new\n",
    "from flask_wtf import FlaskForm\n",
    "from wtforms import StringField, SubmitField\n",
    "from wtforms.validators import DataRequired"
   ]
  },
  {
   "cell_type": "code",
   "execution_count": 4,
   "metadata": {},
   "outputs": [
    {
     "data": {
      "text/plain": [
       "flask_wtf.form.FlaskForm"
      ]
     },
     "execution_count": 4,
     "metadata": {},
     "output_type": "execute_result"
    }
   ],
   "source": [
    "FlaskForm"
   ]
  },
  {
   "cell_type": "code",
   "execution_count": 5,
   "metadata": {},
   "outputs": [
    {
     "data": {
      "text/plain": [
       "<UnboundField(StringField, ('What is your name?',), {'validators': [<wtforms.validators.DataRequired object at 0x10bd4d0f0>]})>"
      ]
     },
     "execution_count": 5,
     "metadata": {},
     "output_type": "execute_result"
    }
   ],
   "source": [
    "class NameForm(FlaskForm):\n",
    "    name = StringField('What is your name?', validators=[DataRequired()])\n",
    "    submit = SubmitField('Submit')\n",
    "\n",
    "NameForm.name"
   ]
  },
  {
   "cell_type": "markdown",
   "metadata": {},
   "source": [
    "# c. HTML Rendering of Forms"
   ]
  },
  {
   "cell_type": "code",
   "execution_count": 6,
   "metadata": {},
   "outputs": [
    {
     "name": "stdout",
     "output_type": "stream",
     "text": [
      "Overwriting templates/c_forms.html\n"
     ]
    }
   ],
   "source": [
    "%%writefile templates/c_forms.html\n",
    "\n",
    "<form method=\"POST\">\n",
    "    {{ form.hidden_tag() }}\n",
    "    {{ form.name.label }} {{ form.name() }}\n",
    "    {{ form.submit() }}\n",
    "</form>\n",
    "\n",
    "\n",
    "<form method=\"POST\">\n",
    "    {{ form.hidden_tag() }}\n",
    "    {{ form.name.label }} {{ form.name(id = 'my-text-filed') }}\n",
    "    {{ form.submit() }}\n",
    "</form>\n",
    "\n",
    "<p>Hello, your name is {{name}}</p>\n",
    "\n"
   ]
  },
  {
   "cell_type": "code",
   "execution_count": 7,
   "metadata": {},
   "outputs": [],
   "source": [
    "@app.route('/c_forms', methods=['GET', 'POST'])\n",
    "def c_forms():\n",
    "    name = None\n",
    "    form = NameForm()\n",
    "    if form.validate_on_submit():\n",
    "        name = form.name.data\n",
    "        form.name.data = ''\n",
    "    o = render_template('c_forms.html', form=form, name=name); show(o)\n",
    "    return o"
   ]
  },
  {
   "cell_type": "markdown",
   "metadata": {},
   "source": [
    "---\n",
    "\n",
    "** The problem can be resolved by Testing **\n",
    "\n",
    "\n",
    "The FLAKS TEST CLIENT\n",
    "\n",
    "\n",
    "---"
   ]
  },
  {
   "cell_type": "code",
   "execution_count": 8,
   "metadata": {},
   "outputs": [],
   "source": [
    "app.config['WTF_CSRF_ENABLED'] = False"
   ]
  },
  {
   "cell_type": "code",
   "execution_count": 9,
   "metadata": {
    "scrolled": true
   },
   "outputs": [],
   "source": [
    "app_ctx = app.app_context()\n",
    "app_ctx.push()\n",
    "client = app.test_client(use_cookies=True)"
   ]
  },
  {
   "cell_type": "code",
   "execution_count": 10,
   "metadata": {},
   "outputs": [
    {
     "data": {
      "text/html": [
       "\n",
       "<form method=\"POST\">\n",
       "    \n",
       "    <label for=\"name\">What is your name?</label> <input id=\"name\" name=\"name\" type=\"text\" value=\"\">\n",
       "    <input id=\"submit\" name=\"submit\" type=\"submit\" value=\"Submit\">\n",
       "</form>\n",
       "\n",
       "\n",
       "<form method=\"POST\">\n",
       "    \n",
       "    <label for=\"name\">What is your name?</label> <input id=\"my-text-filed\" name=\"name\" type=\"text\" value=\"\">\n",
       "    <input id=\"submit\" name=\"submit\" type=\"submit\" value=\"Submit\">\n",
       "</form>\n",
       "\n",
       "<p>Hello, your name is None</p>"
      ],
      "text/plain": [
       "<IPython.core.display.HTML object>"
      ]
     },
     "metadata": {},
     "output_type": "display_data"
    }
   ],
   "source": [
    "resp = client.get('/c_forms')"
   ]
  },
  {
   "cell_type": "code",
   "execution_count": 11,
   "metadata": {},
   "outputs": [
    {
     "data": {
      "text/html": [
       "\n",
       "<form method=\"POST\">\n",
       "    \n",
       "    <label for=\"name\">What is your name?</label> <input id=\"name\" name=\"name\" type=\"text\" value=\"\">\n",
       "    <input id=\"submit\" name=\"submit\" type=\"submit\" value=\"Submit\">\n",
       "</form>\n",
       "\n",
       "\n",
       "<form method=\"POST\">\n",
       "    \n",
       "    <label for=\"name\">What is your name?</label> <input id=\"my-text-filed\" name=\"name\" type=\"text\" value=\"\">\n",
       "    <input id=\"submit\" name=\"submit\" type=\"submit\" value=\"Submit\">\n",
       "</form>\n",
       "\n",
       "<p>Hello, your name is Floyd</p>"
      ],
      "text/plain": [
       "<IPython.core.display.HTML object>"
      ]
     },
     "metadata": {},
     "output_type": "display_data"
    }
   ],
   "source": [
    "resp = client.post('/c_forms', data = {'name': 'Floyd'} )"
   ]
  },
  {
   "cell_type": "code",
   "execution_count": 12,
   "metadata": {},
   "outputs": [
    {
     "data": {
      "text/plain": [
       "'\\n<form method=\"POST\">\\n    \\n    <label for=\"name\">What is your name?</label> <input id=\"name\" name=\"name\" type=\"text\" value=\"\">\\n    <input id=\"submit\" name=\"submit\" type=\"submit\" value=\"Submit\">\\n</form>\\n\\n\\n<form method=\"POST\">\\n    \\n    <label for=\"name\">What is your name?</label> <input id=\"my-text-filed\" name=\"name\" type=\"text\" value=\"\">\\n    <input id=\"submit\" name=\"submit\" type=\"submit\" value=\"Submit\">\\n</form>\\n\\n<p>Hello, your name is Floyd</p>'"
      ]
     },
     "execution_count": 12,
     "metadata": {},
     "output_type": "execute_result"
    }
   ],
   "source": [
    "resp.get_data(as_text = True)"
   ]
  },
  {
   "cell_type": "code",
   "execution_count": 13,
   "metadata": {
    "collapsed": true
   },
   "outputs": [],
   "source": [
    "app_ctx.pop()"
   ]
  },
  {
   "cell_type": "markdown",
   "metadata": {},
   "source": [
    "# d. Form Handling in View Functions"
   ]
  },
  {
   "cell_type": "code",
   "execution_count": 14,
   "metadata": {},
   "outputs": [
    {
     "name": "stdout",
     "output_type": "stream",
     "text": [
      "Overwriting templates/d_index.html\n"
     ]
    }
   ],
   "source": [
    "%%writefile templates/d_index.html\n",
    "\n",
    "{% extends \"base.html\" %}\n",
    "{% import \"bootstrap/wtf.html\" as wtf %}\n",
    "\n",
    "{% block title %}Flasky{% endblock %}\n",
    "\n",
    "{% block page_content %}\n",
    "<div class=\"page-header\">\n",
    "    <h1>Hello, {% if name %}{{ name }}{% else %}Stranger{% endif %}!</h1>\n",
    "</div>\n",
    "{{ wtf.quick_form(form) }}\n",
    "{% endblock %}\n",
    "\n"
   ]
  },
  {
   "cell_type": "code",
   "execution_count": 15,
   "metadata": {
    "collapsed": true
   },
   "outputs": [],
   "source": [
    "@app.route('/d_index', methods=['GET', 'POST'])\n",
    "def d_index():\n",
    "    name = None\n",
    "    form = NameForm()\n",
    "    if form.validate_on_submit():\n",
    "        name = form.name.data\n",
    "        form.name.data = ''\n",
    "    o = render_template('index.html', form=form, name=name); show(o)\n",
    "    return o\n"
   ]
  },
  {
   "cell_type": "code",
   "execution_count": 16,
   "metadata": {},
   "outputs": [],
   "source": [
    "app_ctx = app.app_context()\n",
    "app_ctx.push()\n",
    "client = app.test_client(use_cookies=True)"
   ]
  },
  {
   "cell_type": "code",
   "execution_count": 17,
   "metadata": {},
   "outputs": [
    {
     "data": {
      "text/html": [
       "<!DOCTYPE html>\n",
       "<html>\n",
       "  <head>\n",
       "\n",
       "    <title>Flasky</title>\n",
       "    <meta name=\"viewport\" content=\"width=device-width, initial-scale=1.0\">\n",
       "    <!-- Bootstrap -->\n",
       "    <link href=\"//cdnjs.cloudflare.com/ajax/libs/twitter-bootstrap/3.3.7/css/bootstrap.min.css\" rel=\"stylesheet\">\n",
       "<link rel=\"shortcut icon\" href=\"/static/favicon.ico\" type=\"image/x-icon\">\n",
       "<link rel=\"icon\" href=\"/static/favicon.ico\" type=\"image/x-icon\">\n",
       "\n",
       "  </head>\n",
       "  <body>\n",
       "    \n",
       "<div class=\"navbar navbar-inverse\" role=\"navigation\">\n",
       "    <div class=\"container\">\n",
       "        <div class=\"navbar-header\">\n",
       "            <button type=\"button\" class=\"navbar-toggle\" data-toggle=\"collapse\" data-target=\".navbar-collapse\">\n",
       "                <span class=\"sr-only\">Toggle navigation</span>\n",
       "                <span class=\"icon-bar\"></span>\n",
       "                <span class=\"icon-bar\"></span>\n",
       "                <span class=\"icon-bar\"></span>\n",
       "            </button>\n",
       "            <a class=\"navbar-brand\" href=\"/\">Flasky</a>\n",
       "        </div>\n",
       "        <div class=\"navbar-collapse collapse\">\n",
       "            <ul class=\"nav navbar-nav\">\n",
       "                <li><a href=\"/\">Home</a></li>\n",
       "            </ul>\n",
       "        </div>\n",
       "    </div>\n",
       "</div>\n",
       "\n",
       "    \n",
       "<div class=\"container\">\n",
       "    \n",
       "\n",
       "    \n",
       "<div class=\"page-header\">\n",
       "    <h1>Hello, Stranger!</h1>\n",
       "</div>\n",
       "\n",
       "<form action=\"\" method=\"post\"\n",
       "  class=\"form\" role=\"form\">\n",
       "  \n",
       "  \n",
       "    \n",
       "\n",
       "\n",
       "\n",
       "\n",
       "\n",
       "\n",
       "<div class=\"form-group  required\"><label class=\"control-label\" for=\"name\">What is your name?</label>\n",
       "        \n",
       "          <input class=\"form-control\" id=\"name\" name=\"name\" required type=\"text\" value=\"\">\n",
       "        \n",
       "  </div>\n",
       "\n",
       "\n",
       "    \n",
       "\n",
       "\n",
       "\n",
       "\n",
       "\n",
       "  \n",
       "\n",
       "  \n",
       "  \n",
       "\n",
       "\n",
       "    <input class=\"btn btn-default\" id=\"submit\" name=\"submit\" type=\"submit\" value=\"Submit\">\n",
       "  \n",
       "\n",
       "\n",
       "\n",
       "\n",
       "\n",
       "</form>\n",
       "\n",
       "</div>\n",
       "\n",
       "\n",
       "    \n",
       "\n",
       "    <script src=\"//cdnjs.cloudflare.com/ajax/libs/jquery/1.12.4/jquery.min.js\"></script>\n",
       "    <script src=\"//cdnjs.cloudflare.com/ajax/libs/twitter-bootstrap/3.3.7/js/bootstrap.min.js\"></script>\n",
       "<script src=\"//cdnjs.cloudflare.com/ajax/libs/moment.js/2.18.1/moment-with-locales.min.js\"></script>\n",
       "<script>\n",
       "moment.locale(\"en\");\n",
       "function flask_moment_render(elem) {\n",
       "    $(elem).text(eval('moment(\"' + $(elem).data('timestamp') + '\").' + $(elem).data('format') + ';'));\n",
       "    $(elem).removeClass('flask-moment').show();\n",
       "}\n",
       "function flask_moment_render_all() {\n",
       "    $('.flask-moment').each(function() {\n",
       "        flask_moment_render(this);\n",
       "        if ($(this).data('refresh')) {\n",
       "            (function(elem, interval) { setInterval(function() { flask_moment_render(elem) }, interval); })(this, $(this).data('refresh'));\n",
       "        }\n",
       "    })\n",
       "}\n",
       "$(document).ready(function() {\n",
       "    flask_moment_render_all();\n",
       "});\n",
       "</script>\n",
       "\n",
       "  </body>\n",
       "</html>\n"
      ],
      "text/plain": [
       "<IPython.core.display.HTML object>"
      ]
     },
     "metadata": {},
     "output_type": "display_data"
    }
   ],
   "source": [
    "resp = client.get('/d_index')"
   ]
  },
  {
   "cell_type": "code",
   "execution_count": 18,
   "metadata": {},
   "outputs": [
    {
     "data": {
      "text/html": [
       "<!DOCTYPE html>\n",
       "<html>\n",
       "  <head>\n",
       "\n",
       "    <title>Flasky</title>\n",
       "    <meta name=\"viewport\" content=\"width=device-width, initial-scale=1.0\">\n",
       "    <!-- Bootstrap -->\n",
       "    <link href=\"//cdnjs.cloudflare.com/ajax/libs/twitter-bootstrap/3.3.7/css/bootstrap.min.css\" rel=\"stylesheet\">\n",
       "<link rel=\"shortcut icon\" href=\"/static/favicon.ico\" type=\"image/x-icon\">\n",
       "<link rel=\"icon\" href=\"/static/favicon.ico\" type=\"image/x-icon\">\n",
       "\n",
       "  </head>\n",
       "  <body>\n",
       "    \n",
       "<div class=\"navbar navbar-inverse\" role=\"navigation\">\n",
       "    <div class=\"container\">\n",
       "        <div class=\"navbar-header\">\n",
       "            <button type=\"button\" class=\"navbar-toggle\" data-toggle=\"collapse\" data-target=\".navbar-collapse\">\n",
       "                <span class=\"sr-only\">Toggle navigation</span>\n",
       "                <span class=\"icon-bar\"></span>\n",
       "                <span class=\"icon-bar\"></span>\n",
       "                <span class=\"icon-bar\"></span>\n",
       "            </button>\n",
       "            <a class=\"navbar-brand\" href=\"/\">Flasky</a>\n",
       "        </div>\n",
       "        <div class=\"navbar-collapse collapse\">\n",
       "            <ul class=\"nav navbar-nav\">\n",
       "                <li><a href=\"/\">Home</a></li>\n",
       "            </ul>\n",
       "        </div>\n",
       "    </div>\n",
       "</div>\n",
       "\n",
       "    \n",
       "<div class=\"container\">\n",
       "    \n",
       "\n",
       "    \n",
       "<div class=\"page-header\">\n",
       "    <h1>Hello, Floyd!</h1>\n",
       "</div>\n",
       "\n",
       "<form action=\"\" method=\"post\"\n",
       "  class=\"form\" role=\"form\">\n",
       "  \n",
       "  \n",
       "    \n",
       "\n",
       "\n",
       "\n",
       "\n",
       "\n",
       "\n",
       "<div class=\"form-group  required\"><label class=\"control-label\" for=\"name\">What is your name?</label>\n",
       "        \n",
       "          <input class=\"form-control\" id=\"name\" name=\"name\" required type=\"text\" value=\"\">\n",
       "        \n",
       "  </div>\n",
       "\n",
       "\n",
       "    \n",
       "\n",
       "\n",
       "\n",
       "\n",
       "\n",
       "  \n",
       "\n",
       "  \n",
       "  \n",
       "\n",
       "\n",
       "    <input class=\"btn btn-default\" id=\"submit\" name=\"submit\" type=\"submit\" value=\"Submit\">\n",
       "  \n",
       "\n",
       "\n",
       "\n",
       "\n",
       "\n",
       "</form>\n",
       "\n",
       "</div>\n",
       "\n",
       "\n",
       "    \n",
       "\n",
       "    <script src=\"//cdnjs.cloudflare.com/ajax/libs/jquery/1.12.4/jquery.min.js\"></script>\n",
       "    <script src=\"//cdnjs.cloudflare.com/ajax/libs/twitter-bootstrap/3.3.7/js/bootstrap.min.js\"></script>\n",
       "<script src=\"//cdnjs.cloudflare.com/ajax/libs/moment.js/2.18.1/moment-with-locales.min.js\"></script>\n",
       "<script>\n",
       "moment.locale(\"en\");\n",
       "function flask_moment_render(elem) {\n",
       "    $(elem).text(eval('moment(\"' + $(elem).data('timestamp') + '\").' + $(elem).data('format') + ';'));\n",
       "    $(elem).removeClass('flask-moment').show();\n",
       "}\n",
       "function flask_moment_render_all() {\n",
       "    $('.flask-moment').each(function() {\n",
       "        flask_moment_render(this);\n",
       "        if ($(this).data('refresh')) {\n",
       "            (function(elem, interval) { setInterval(function() { flask_moment_render(elem) }, interval); })(this, $(this).data('refresh'));\n",
       "        }\n",
       "    })\n",
       "}\n",
       "$(document).ready(function() {\n",
       "    flask_moment_render_all();\n",
       "});\n",
       "</script>\n",
       "\n",
       "  </body>\n",
       "</html>\n"
      ],
      "text/plain": [
       "<IPython.core.display.HTML object>"
      ]
     },
     "metadata": {},
     "output_type": "display_data"
    }
   ],
   "source": [
    "resp = client.post('/d_index', data ={'name' : 'Floyd'})"
   ]
  },
  {
   "cell_type": "markdown",
   "metadata": {},
   "source": [
    "# e. Redirects and User Sessions"
   ]
  },
  {
   "cell_type": "code",
   "execution_count": 19,
   "metadata": {
    "collapsed": true
   },
   "outputs": [],
   "source": [
    "app_ctx = app.app_context()\n",
    "app_ctx.push()\n",
    "client = app.test_client(use_cookies=True)"
   ]
  },
  {
   "cell_type": "code",
   "execution_count": 20,
   "metadata": {},
   "outputs": [],
   "source": [
    "from flask import Flask, render_template, session, redirect, url_for\n",
    "\n",
    "@app.route('/e_index', methods=['GET', 'POST'])\n",
    "def e_index():\n",
    "    form = NameForm()\n",
    "    if form.validate_on_submit():\n",
    "        session['name'] = form.name.data\n",
    "        # return redirect(url_for('e_index'))\n",
    "        return e_index()\n",
    "    o = render_template('index.html', form=form, name=session.get('name')); show(o)\n",
    "    return o\n"
   ]
  },
  {
   "cell_type": "code",
   "execution_count": 21,
   "metadata": {},
   "outputs": [
    {
     "data": {
      "text/plain": [
       "'http://floydjjluo.me/e_index'"
      ]
     },
     "execution_count": 21,
     "metadata": {},
     "output_type": "execute_result"
    }
   ],
   "source": [
    "url_for('e_index')"
   ]
  },
  {
   "cell_type": "code",
   "execution_count": 22,
   "metadata": {},
   "outputs": [
    {
     "data": {
      "text/plain": [
       "<Response 263 bytes [302 FOUND]>"
      ]
     },
     "execution_count": 22,
     "metadata": {},
     "output_type": "execute_result"
    }
   ],
   "source": [
    "redirect('http://floydjjluo.me/e_index')"
   ]
  },
  {
   "cell_type": "code",
   "execution_count": 23,
   "metadata": {},
   "outputs": [
    {
     "data": {
      "text/html": [
       "<!DOCTYPE html>\n",
       "<html>\n",
       "  <head>\n",
       "\n",
       "    <title>Flasky</title>\n",
       "    <meta name=\"viewport\" content=\"width=device-width, initial-scale=1.0\">\n",
       "    <!-- Bootstrap -->\n",
       "    <link href=\"//cdnjs.cloudflare.com/ajax/libs/twitter-bootstrap/3.3.7/css/bootstrap.min.css\" rel=\"stylesheet\">\n",
       "<link rel=\"shortcut icon\" href=\"/static/favicon.ico\" type=\"image/x-icon\">\n",
       "<link rel=\"icon\" href=\"/static/favicon.ico\" type=\"image/x-icon\">\n",
       "\n",
       "  </head>\n",
       "  <body>\n",
       "    \n",
       "<div class=\"navbar navbar-inverse\" role=\"navigation\">\n",
       "    <div class=\"container\">\n",
       "        <div class=\"navbar-header\">\n",
       "            <button type=\"button\" class=\"navbar-toggle\" data-toggle=\"collapse\" data-target=\".navbar-collapse\">\n",
       "                <span class=\"sr-only\">Toggle navigation</span>\n",
       "                <span class=\"icon-bar\"></span>\n",
       "                <span class=\"icon-bar\"></span>\n",
       "                <span class=\"icon-bar\"></span>\n",
       "            </button>\n",
       "            <a class=\"navbar-brand\" href=\"/\">Flasky</a>\n",
       "        </div>\n",
       "        <div class=\"navbar-collapse collapse\">\n",
       "            <ul class=\"nav navbar-nav\">\n",
       "                <li><a href=\"/\">Home</a></li>\n",
       "            </ul>\n",
       "        </div>\n",
       "    </div>\n",
       "</div>\n",
       "\n",
       "    \n",
       "<div class=\"container\">\n",
       "    \n",
       "\n",
       "    \n",
       "<div class=\"page-header\">\n",
       "    <h1>Hello, Stranger!</h1>\n",
       "</div>\n",
       "\n",
       "<form action=\"\" method=\"post\"\n",
       "  class=\"form\" role=\"form\">\n",
       "  \n",
       "  \n",
       "    \n",
       "\n",
       "\n",
       "\n",
       "\n",
       "\n",
       "\n",
       "<div class=\"form-group  required\"><label class=\"control-label\" for=\"name\">What is your name?</label>\n",
       "        \n",
       "          <input class=\"form-control\" id=\"name\" name=\"name\" required type=\"text\" value=\"\">\n",
       "        \n",
       "  </div>\n",
       "\n",
       "\n",
       "    \n",
       "\n",
       "\n",
       "\n",
       "\n",
       "\n",
       "  \n",
       "\n",
       "  \n",
       "  \n",
       "\n",
       "\n",
       "    <input class=\"btn btn-default\" id=\"submit\" name=\"submit\" type=\"submit\" value=\"Submit\">\n",
       "  \n",
       "\n",
       "\n",
       "\n",
       "\n",
       "\n",
       "</form>\n",
       "\n",
       "</div>\n",
       "\n",
       "\n",
       "    \n",
       "\n",
       "    <script src=\"//cdnjs.cloudflare.com/ajax/libs/jquery/1.12.4/jquery.min.js\"></script>\n",
       "    <script src=\"//cdnjs.cloudflare.com/ajax/libs/twitter-bootstrap/3.3.7/js/bootstrap.min.js\"></script>\n",
       "<script src=\"//cdnjs.cloudflare.com/ajax/libs/moment.js/2.18.1/moment-with-locales.min.js\"></script>\n",
       "<script>\n",
       "moment.locale(\"en\");\n",
       "function flask_moment_render(elem) {\n",
       "    $(elem).text(eval('moment(\"' + $(elem).data('timestamp') + '\").' + $(elem).data('format') + ';'));\n",
       "    $(elem).removeClass('flask-moment').show();\n",
       "}\n",
       "function flask_moment_render_all() {\n",
       "    $('.flask-moment').each(function() {\n",
       "        flask_moment_render(this);\n",
       "        if ($(this).data('refresh')) {\n",
       "            (function(elem, interval) { setInterval(function() { flask_moment_render(elem) }, interval); })(this, $(this).data('refresh'));\n",
       "        }\n",
       "    })\n",
       "}\n",
       "$(document).ready(function() {\n",
       "    flask_moment_render_all();\n",
       "});\n",
       "</script>\n",
       "\n",
       "  </body>\n",
       "</html>\n"
      ],
      "text/plain": [
       "<IPython.core.display.HTML object>"
      ]
     },
     "metadata": {},
     "output_type": "display_data"
    },
    {
     "data": {
      "text/plain": [
       "<Response streamed [200 OK]>"
      ]
     },
     "execution_count": 23,
     "metadata": {},
     "output_type": "execute_result"
    }
   ],
   "source": [
    "client.get('/e_index')"
   ]
  },
  {
   "cell_type": "code",
   "execution_count": 24,
   "metadata": {},
   "outputs": [
    {
     "data": {
      "text/html": [
       "<!DOCTYPE html>\n",
       "<html>\n",
       "  <head>\n",
       "\n",
       "    <title>Flasky</title>\n",
       "    <meta name=\"viewport\" content=\"width=device-width, initial-scale=1.0\">\n",
       "    <!-- Bootstrap -->\n",
       "    <link href=\"//cdnjs.cloudflare.com/ajax/libs/twitter-bootstrap/3.3.7/css/bootstrap.min.css\" rel=\"stylesheet\">\n",
       "<link rel=\"shortcut icon\" href=\"/static/favicon.ico\" type=\"image/x-icon\">\n",
       "<link rel=\"icon\" href=\"/static/favicon.ico\" type=\"image/x-icon\">\n",
       "\n",
       "  </head>\n",
       "  <body>\n",
       "    \n",
       "<div class=\"navbar navbar-inverse\" role=\"navigation\">\n",
       "    <div class=\"container\">\n",
       "        <div class=\"navbar-header\">\n",
       "            <button type=\"button\" class=\"navbar-toggle\" data-toggle=\"collapse\" data-target=\".navbar-collapse\">\n",
       "                <span class=\"sr-only\">Toggle navigation</span>\n",
       "                <span class=\"icon-bar\"></span>\n",
       "                <span class=\"icon-bar\"></span>\n",
       "                <span class=\"icon-bar\"></span>\n",
       "            </button>\n",
       "            <a class=\"navbar-brand\" href=\"/\">Flasky</a>\n",
       "        </div>\n",
       "        <div class=\"navbar-collapse collapse\">\n",
       "            <ul class=\"nav navbar-nav\">\n",
       "                <li><a href=\"/\">Home</a></li>\n",
       "            </ul>\n",
       "        </div>\n",
       "    </div>\n",
       "</div>\n",
       "\n",
       "    \n",
       "<div class=\"container\">\n",
       "    \n",
       "\n",
       "    \n",
       "<div class=\"page-header\">\n",
       "    <h1>Hello, Stranger!</h1>\n",
       "</div>\n",
       "\n",
       "<form action=\"\" method=\"post\"\n",
       "  class=\"form\" role=\"form\">\n",
       "  \n",
       "  \n",
       "    \n",
       "\n",
       "\n",
       "\n",
       "\n",
       "\n",
       "\n",
       "<div class=\"form-group  has-error required\"><label class=\"control-label\" for=\"name\">What is your name?</label>\n",
       "        \n",
       "          <input class=\"form-control\" id=\"name\" name=\"name\" required type=\"text\" value=\"\">\n",
       "        \n",
       "            <p class=\"help-block\">This field is required.</p>\n",
       "  </div>\n",
       "\n",
       "\n",
       "    \n",
       "\n",
       "\n",
       "\n",
       "\n",
       "\n",
       "  \n",
       "\n",
       "  \n",
       "  \n",
       "\n",
       "\n",
       "    <input class=\"btn btn-default\" id=\"submit\" name=\"submit\" type=\"submit\" value=\"Submit\">\n",
       "  \n",
       "\n",
       "\n",
       "\n",
       "\n",
       "\n",
       "</form>\n",
       "\n",
       "</div>\n",
       "\n",
       "\n",
       "    \n",
       "\n",
       "    <script src=\"//cdnjs.cloudflare.com/ajax/libs/jquery/1.12.4/jquery.min.js\"></script>\n",
       "    <script src=\"//cdnjs.cloudflare.com/ajax/libs/twitter-bootstrap/3.3.7/js/bootstrap.min.js\"></script>\n",
       "<script src=\"//cdnjs.cloudflare.com/ajax/libs/moment.js/2.18.1/moment-with-locales.min.js\"></script>\n",
       "<script>\n",
       "moment.locale(\"en\");\n",
       "function flask_moment_render(elem) {\n",
       "    $(elem).text(eval('moment(\"' + $(elem).data('timestamp') + '\").' + $(elem).data('format') + ';'));\n",
       "    $(elem).removeClass('flask-moment').show();\n",
       "}\n",
       "function flask_moment_render_all() {\n",
       "    $('.flask-moment').each(function() {\n",
       "        flask_moment_render(this);\n",
       "        if ($(this).data('refresh')) {\n",
       "            (function(elem, interval) { setInterval(function() { flask_moment_render(elem) }, interval); })(this, $(this).data('refresh'));\n",
       "        }\n",
       "    })\n",
       "}\n",
       "$(document).ready(function() {\n",
       "    flask_moment_render_all();\n",
       "});\n",
       "</script>\n",
       "\n",
       "  </body>\n",
       "</html>\n"
      ],
      "text/plain": [
       "<IPython.core.display.HTML object>"
      ]
     },
     "metadata": {},
     "output_type": "display_data"
    },
    {
     "data": {
      "text/plain": [
       "<Response streamed [200 OK]>"
      ]
     },
     "execution_count": 24,
     "metadata": {},
     "output_type": "execute_result"
    }
   ],
   "source": [
    "client.post('/e_index')"
   ]
  },
  {
   "cell_type": "code",
   "execution_count": 25,
   "metadata": {},
   "outputs": [
    {
     "data": {
      "text/html": [
       "<!DOCTYPE html>\n",
       "<html>\n",
       "  <head>\n",
       "\n",
       "    <title>Flasky</title>\n",
       "    <meta name=\"viewport\" content=\"width=device-width, initial-scale=1.0\">\n",
       "    <!-- Bootstrap -->\n",
       "    <link href=\"//cdnjs.cloudflare.com/ajax/libs/twitter-bootstrap/3.3.7/css/bootstrap.min.css\" rel=\"stylesheet\">\n",
       "<link rel=\"shortcut icon\" href=\"/static/favicon.ico\" type=\"image/x-icon\">\n",
       "<link rel=\"icon\" href=\"/static/favicon.ico\" type=\"image/x-icon\">\n",
       "\n",
       "  </head>\n",
       "  <body>\n",
       "    \n",
       "<div class=\"navbar navbar-inverse\" role=\"navigation\">\n",
       "    <div class=\"container\">\n",
       "        <div class=\"navbar-header\">\n",
       "            <button type=\"button\" class=\"navbar-toggle\" data-toggle=\"collapse\" data-target=\".navbar-collapse\">\n",
       "                <span class=\"sr-only\">Toggle navigation</span>\n",
       "                <span class=\"icon-bar\"></span>\n",
       "                <span class=\"icon-bar\"></span>\n",
       "                <span class=\"icon-bar\"></span>\n",
       "            </button>\n",
       "            <a class=\"navbar-brand\" href=\"/\">Flasky</a>\n",
       "        </div>\n",
       "        <div class=\"navbar-collapse collapse\">\n",
       "            <ul class=\"nav navbar-nav\">\n",
       "                <li><a href=\"/\">Home</a></li>\n",
       "            </ul>\n",
       "        </div>\n",
       "    </div>\n",
       "</div>\n",
       "\n",
       "    \n",
       "<div class=\"container\">\n",
       "    \n",
       "\n",
       "    \n",
       "<div class=\"page-header\">\n",
       "    <h1>Hello, Floyd!</h1>\n",
       "</div>\n",
       "\n",
       "<form action=\"\" method=\"post\"\n",
       "  class=\"form\" role=\"form\">\n",
       "  \n",
       "  \n",
       "    \n",
       "\n",
       "\n",
       "\n",
       "\n",
       "\n",
       "\n",
       "<div class=\"form-group  has-error required\"><label class=\"control-label\" for=\"name\">What is your name?</label>\n",
       "        \n",
       "          <input class=\"form-control\" id=\"name\" name=\"name\" required type=\"text\" value=\"\">\n",
       "        \n",
       "            <p class=\"help-block\">This field is required.</p>\n",
       "  </div>\n",
       "\n",
       "\n",
       "    \n",
       "\n",
       "\n",
       "\n",
       "\n",
       "\n",
       "  \n",
       "\n",
       "  \n",
       "  \n",
       "\n",
       "\n",
       "    <input class=\"btn btn-default\" id=\"submit\" name=\"submit\" type=\"submit\" value=\"Submit\">\n",
       "  \n",
       "\n",
       "\n",
       "\n",
       "\n",
       "\n",
       "</form>\n",
       "\n",
       "</div>\n",
       "\n",
       "\n",
       "    \n",
       "\n",
       "    <script src=\"//cdnjs.cloudflare.com/ajax/libs/jquery/1.12.4/jquery.min.js\"></script>\n",
       "    <script src=\"//cdnjs.cloudflare.com/ajax/libs/twitter-bootstrap/3.3.7/js/bootstrap.min.js\"></script>\n",
       "<script src=\"//cdnjs.cloudflare.com/ajax/libs/moment.js/2.18.1/moment-with-locales.min.js\"></script>\n",
       "<script>\n",
       "moment.locale(\"en\");\n",
       "function flask_moment_render(elem) {\n",
       "    $(elem).text(eval('moment(\"' + $(elem).data('timestamp') + '\").' + $(elem).data('format') + ';'));\n",
       "    $(elem).removeClass('flask-moment').show();\n",
       "}\n",
       "function flask_moment_render_all() {\n",
       "    $('.flask-moment').each(function() {\n",
       "        flask_moment_render(this);\n",
       "        if ($(this).data('refresh')) {\n",
       "            (function(elem, interval) { setInterval(function() { flask_moment_render(elem) }, interval); })(this, $(this).data('refresh'));\n",
       "        }\n",
       "    })\n",
       "}\n",
       "$(document).ready(function() {\n",
       "    flask_moment_render_all();\n",
       "});\n",
       "</script>\n",
       "\n",
       "  </body>\n",
       "</html>\n"
      ],
      "text/plain": [
       "<IPython.core.display.HTML object>"
      ]
     },
     "metadata": {},
     "output_type": "display_data"
    },
    {
     "data": {
      "text/plain": [
       "<Response streamed [200 OK]>"
      ]
     },
     "execution_count": 25,
     "metadata": {},
     "output_type": "execute_result"
    }
   ],
   "source": [
    "client.post('/e_index', data = {'name': 'Floyd'})\n",
    "# please kindly note that the form is in red"
   ]
  },
  {
   "cell_type": "code",
   "execution_count": 26,
   "metadata": {},
   "outputs": [
    {
     "data": {
      "text/html": [
       "<!DOCTYPE html>\n",
       "<html>\n",
       "  <head>\n",
       "\n",
       "    <title>Flasky</title>\n",
       "    <meta name=\"viewport\" content=\"width=device-width, initial-scale=1.0\">\n",
       "    <!-- Bootstrap -->\n",
       "    <link href=\"//cdnjs.cloudflare.com/ajax/libs/twitter-bootstrap/3.3.7/css/bootstrap.min.css\" rel=\"stylesheet\">\n",
       "<link rel=\"shortcut icon\" href=\"/static/favicon.ico\" type=\"image/x-icon\">\n",
       "<link rel=\"icon\" href=\"/static/favicon.ico\" type=\"image/x-icon\">\n",
       "\n",
       "  </head>\n",
       "  <body>\n",
       "    \n",
       "<div class=\"navbar navbar-inverse\" role=\"navigation\">\n",
       "    <div class=\"container\">\n",
       "        <div class=\"navbar-header\">\n",
       "            <button type=\"button\" class=\"navbar-toggle\" data-toggle=\"collapse\" data-target=\".navbar-collapse\">\n",
       "                <span class=\"sr-only\">Toggle navigation</span>\n",
       "                <span class=\"icon-bar\"></span>\n",
       "                <span class=\"icon-bar\"></span>\n",
       "                <span class=\"icon-bar\"></span>\n",
       "            </button>\n",
       "            <a class=\"navbar-brand\" href=\"/\">Flasky</a>\n",
       "        </div>\n",
       "        <div class=\"navbar-collapse collapse\">\n",
       "            <ul class=\"nav navbar-nav\">\n",
       "                <li><a href=\"/\">Home</a></li>\n",
       "            </ul>\n",
       "        </div>\n",
       "    </div>\n",
       "</div>\n",
       "\n",
       "    \n",
       "<div class=\"container\">\n",
       "    \n",
       "\n",
       "    \n",
       "<div class=\"page-header\">\n",
       "    <h1>Hello, Floyd!</h1>\n",
       "</div>\n",
       "\n",
       "<form action=\"\" method=\"post\"\n",
       "  class=\"form\" role=\"form\">\n",
       "  \n",
       "  \n",
       "    \n",
       "\n",
       "\n",
       "\n",
       "\n",
       "\n",
       "\n",
       "<div class=\"form-group  required\"><label class=\"control-label\" for=\"name\">What is your name?</label>\n",
       "        \n",
       "          <input class=\"form-control\" id=\"name\" name=\"name\" required type=\"text\" value=\"\">\n",
       "        \n",
       "  </div>\n",
       "\n",
       "\n",
       "    \n",
       "\n",
       "\n",
       "\n",
       "\n",
       "\n",
       "  \n",
       "\n",
       "  \n",
       "  \n",
       "\n",
       "\n",
       "    <input class=\"btn btn-default\" id=\"submit\" name=\"submit\" type=\"submit\" value=\"Submit\">\n",
       "  \n",
       "\n",
       "\n",
       "\n",
       "\n",
       "\n",
       "</form>\n",
       "\n",
       "</div>\n",
       "\n",
       "\n",
       "    \n",
       "\n",
       "    <script src=\"//cdnjs.cloudflare.com/ajax/libs/jquery/1.12.4/jquery.min.js\"></script>\n",
       "    <script src=\"//cdnjs.cloudflare.com/ajax/libs/twitter-bootstrap/3.3.7/js/bootstrap.min.js\"></script>\n",
       "<script src=\"//cdnjs.cloudflare.com/ajax/libs/moment.js/2.18.1/moment-with-locales.min.js\"></script>\n",
       "<script>\n",
       "moment.locale(\"en\");\n",
       "function flask_moment_render(elem) {\n",
       "    $(elem).text(eval('moment(\"' + $(elem).data('timestamp') + '\").' + $(elem).data('format') + ';'));\n",
       "    $(elem).removeClass('flask-moment').show();\n",
       "}\n",
       "function flask_moment_render_all() {\n",
       "    $('.flask-moment').each(function() {\n",
       "        flask_moment_render(this);\n",
       "        if ($(this).data('refresh')) {\n",
       "            (function(elem, interval) { setInterval(function() { flask_moment_render(elem) }, interval); })(this, $(this).data('refresh'));\n",
       "        }\n",
       "    })\n",
       "}\n",
       "$(document).ready(function() {\n",
       "    flask_moment_render_all();\n",
       "});\n",
       "</script>\n",
       "\n",
       "  </body>\n",
       "</html>\n"
      ],
      "text/plain": [
       "<IPython.core.display.HTML object>"
      ]
     },
     "metadata": {},
     "output_type": "display_data"
    },
    {
     "data": {
      "text/plain": [
       "<Response streamed [200 OK]>"
      ]
     },
     "execution_count": 26,
     "metadata": {},
     "output_type": "execute_result"
    }
   ],
   "source": [
    "client.get('/e_index') # session remembered me"
   ]
  },
  {
   "cell_type": "markdown",
   "metadata": {},
   "source": [
    "# f. Message Flashing"
   ]
  },
  {
   "cell_type": "code",
   "execution_count": 27,
   "metadata": {
    "collapsed": true
   },
   "outputs": [],
   "source": [
    "app_ctx = app.app_context()\n",
    "app_ctx.push()\n",
    "client = app.test_client(use_cookies=True)"
   ]
  },
  {
   "cell_type": "code",
   "execution_count": 28,
   "metadata": {},
   "outputs": [
    {
     "name": "stdout",
     "output_type": "stream",
     "text": [
      "Overwriting templates/f_base_flashing.html\n"
     ]
    }
   ],
   "source": [
    "%%writefile templates/f_base_flashing.html\n",
    "\n",
    "{% extends \"bootstrap/base.html\" %}\n",
    "\n",
    "{% block title %}Flasky{% endblock %}\n",
    "\n",
    "{% block head %}\n",
    "{{ super() }}\n",
    "<link rel=\"shortcut icon\" href=\"{{ url_for('static', filename='favicon.ico') }}\" type=\"image/x-icon\">\n",
    "<link rel=\"icon\" href=\"{{ url_for('static', filename='favicon.ico') }}\" type=\"image/x-icon\">\n",
    "{% endblock %}\n",
    "\n",
    "{% block navbar %}\n",
    "<div class=\"navbar navbar-inverse\" role=\"navigation\">\n",
    "    <div class=\"container\">\n",
    "        <div class=\"navbar-header\">\n",
    "            <button type=\"button\" class=\"navbar-toggle\" data-toggle=\"collapse\" data-target=\".navbar-collapse\">\n",
    "                <span class=\"sr-only\">Toggle navigation</span>\n",
    "                <span class=\"icon-bar\"></span>\n",
    "                <span class=\"icon-bar\"></span>\n",
    "                <span class=\"icon-bar\"></span>\n",
    "            </button>\n",
    "            <a class=\"navbar-brand\" href=\"/\">Flasky</a>\n",
    "        </div>\n",
    "        <div class=\"navbar-collapse collapse\">\n",
    "            <ul class=\"nav navbar-nav\">\n",
    "                <li><a href=\"/\">Home</a></li>\n",
    "            </ul>\n",
    "        </div>\n",
    "    </div>\n",
    "</div>\n",
    "{% endblock %}\n",
    "\n",
    "<!-----------------NEW------------------------>\n",
    "{% block content %}\n",
    "<div class=\"container\">\n",
    "    {% for message in get_flashed_messages() %}\n",
    "    <div class=\"alert alert-warning\">\n",
    "        <button type=\"button\" class=\"close\" data-dismiss=\"alert\">&times;</button>\n",
    "        {{ message }}\n",
    "    </div>\n",
    "    {% endfor %}\n",
    "\n",
    "    {% block page_content %}{% endblock %}\n",
    "</div>\n",
    "{% endblock %}\n",
    "<!-----------------NEW------------------------>\n",
    "\n",
    "\n",
    "\n",
    "{% block scripts %}\n",
    "{{ super() }}\n",
    "{{ moment.include_moment() }}\n",
    "{% endblock %}\n"
   ]
  },
  {
   "cell_type": "code",
   "execution_count": 29,
   "metadata": {},
   "outputs": [
    {
     "name": "stdout",
     "output_type": "stream",
     "text": [
      "Overwriting templates/f_flash.html\n"
     ]
    }
   ],
   "source": [
    "%%writefile templates/f_flash.html\n",
    "\n",
    "{% extends \"f_base_flashing.html\" %}\n",
    "{% import \"bootstrap/wtf.html\" as wtf %}\n",
    "\n",
    "{% block title %}Flasky{% endblock %}\n",
    "\n",
    "{% block page_content %}\n",
    "<div class=\"page-header\">\n",
    "    <h1>Hello, {% if name %}{{ name }}{% else %}Stranger{% endif %} !</h1>\n",
    "</div>\n",
    "{{ wtf.quick_form(form) }}\n",
    "{% endblock %}\n"
   ]
  },
  {
   "cell_type": "code",
   "execution_count": 30,
   "metadata": {},
   "outputs": [],
   "source": [
    "from flask import Flask, render_template, session, redirect, url_for, flash\n",
    "\n",
    "@app.route('/f_flash', methods=['GET', 'POST'])\n",
    "def f_flash():\n",
    "    \n",
    "    form = NameForm()\n",
    "    \n",
    "    if form.validate_on_submit():\n",
    "        old_name = session.get('name')\n",
    "        if old_name and old_name != form.name.data:\n",
    "            flash('This is a flashing, which appears if you change the name!')\n",
    "        session['name'] = form.name.data\n",
    "        # return redirect(url_for('f_flash'))\n",
    "        return f_flash()\n",
    "    \n",
    "    o = render_template('f_flash.html', \n",
    "                         form = form, \n",
    "                         name = session.get('name')); show(o)\n",
    "    return o\n",
    "\n"
   ]
  },
  {
   "cell_type": "code",
   "execution_count": 31,
   "metadata": {},
   "outputs": [
    {
     "data": {
      "text/html": [
       "\n",
       "\n",
       "<!DOCTYPE html>\n",
       "<html>\n",
       "  <head>\n",
       "\n",
       "    <title>Flasky</title>\n",
       "    <meta name=\"viewport\" content=\"width=device-width, initial-scale=1.0\">\n",
       "    <!-- Bootstrap -->\n",
       "    <link href=\"//cdnjs.cloudflare.com/ajax/libs/twitter-bootstrap/3.3.7/css/bootstrap.min.css\" rel=\"stylesheet\">\n",
       "<link rel=\"shortcut icon\" href=\"/static/favicon.ico\" type=\"image/x-icon\">\n",
       "<link rel=\"icon\" href=\"/static/favicon.ico\" type=\"image/x-icon\">\n",
       "\n",
       "  </head>\n",
       "  <body>\n",
       "    \n",
       "<div class=\"navbar navbar-inverse\" role=\"navigation\">\n",
       "    <div class=\"container\">\n",
       "        <div class=\"navbar-header\">\n",
       "            <button type=\"button\" class=\"navbar-toggle\" data-toggle=\"collapse\" data-target=\".navbar-collapse\">\n",
       "                <span class=\"sr-only\">Toggle navigation</span>\n",
       "                <span class=\"icon-bar\"></span>\n",
       "                <span class=\"icon-bar\"></span>\n",
       "                <span class=\"icon-bar\"></span>\n",
       "            </button>\n",
       "            <a class=\"navbar-brand\" href=\"/\">Flasky</a>\n",
       "        </div>\n",
       "        <div class=\"navbar-collapse collapse\">\n",
       "            <ul class=\"nav navbar-nav\">\n",
       "                <li><a href=\"/\">Home</a></li>\n",
       "            </ul>\n",
       "        </div>\n",
       "    </div>\n",
       "</div>\n",
       "\n",
       "    \n",
       "<div class=\"container\">\n",
       "    \n",
       "\n",
       "    \n",
       "<div class=\"page-header\">\n",
       "    <h1>Hello, Stranger!</h1>\n",
       "</div>\n",
       "\n",
       "<form action=\"\" method=\"post\"\n",
       "  class=\"form\" role=\"form\">\n",
       "  \n",
       "  \n",
       "    \n",
       "\n",
       "\n",
       "\n",
       "\n",
       "\n",
       "\n",
       "<div class=\"form-group  required\"><label class=\"control-label\" for=\"name\">What is your name?</label>\n",
       "        \n",
       "          <input class=\"form-control\" id=\"name\" name=\"name\" required type=\"text\" value=\"\">\n",
       "        \n",
       "  </div>\n",
       "\n",
       "\n",
       "    \n",
       "\n",
       "\n",
       "\n",
       "\n",
       "\n",
       "  \n",
       "\n",
       "  \n",
       "  \n",
       "\n",
       "\n",
       "    <input class=\"btn btn-default\" id=\"submit\" name=\"submit\" type=\"submit\" value=\"Submit\">\n",
       "  \n",
       "\n",
       "\n",
       "\n",
       "\n",
       "\n",
       "</form>\n",
       "\n",
       "</div>\n",
       "\n",
       "\n",
       "    \n",
       "\n",
       "    <script src=\"//cdnjs.cloudflare.com/ajax/libs/jquery/1.12.4/jquery.min.js\"></script>\n",
       "    <script src=\"//cdnjs.cloudflare.com/ajax/libs/twitter-bootstrap/3.3.7/js/bootstrap.min.js\"></script>\n",
       "<script src=\"//cdnjs.cloudflare.com/ajax/libs/moment.js/2.18.1/moment-with-locales.min.js\"></script>\n",
       "<script>\n",
       "moment.locale(\"en\");\n",
       "function flask_moment_render(elem) {\n",
       "    $(elem).text(eval('moment(\"' + $(elem).data('timestamp') + '\").' + $(elem).data('format') + ';'));\n",
       "    $(elem).removeClass('flask-moment').show();\n",
       "}\n",
       "function flask_moment_render_all() {\n",
       "    $('.flask-moment').each(function() {\n",
       "        flask_moment_render(this);\n",
       "        if ($(this).data('refresh')) {\n",
       "            (function(elem, interval) { setInterval(function() { flask_moment_render(elem) }, interval); })(this, $(this).data('refresh'));\n",
       "        }\n",
       "    })\n",
       "}\n",
       "$(document).ready(function() {\n",
       "    flask_moment_render_all();\n",
       "});\n",
       "</script>\n",
       "\n",
       "  </body>\n",
       "</html>\n"
      ],
      "text/plain": [
       "<IPython.core.display.HTML object>"
      ]
     },
     "metadata": {},
     "output_type": "display_data"
    },
    {
     "data": {
      "text/plain": [
       "<Response streamed [200 OK]>"
      ]
     },
     "execution_count": 31,
     "metadata": {},
     "output_type": "execute_result"
    }
   ],
   "source": [
    "client.get('/f_flash')"
   ]
  },
  {
   "cell_type": "code",
   "execution_count": 32,
   "metadata": {},
   "outputs": [
    {
     "data": {
      "text/html": [
       "\n",
       "\n",
       "<!DOCTYPE html>\n",
       "<html>\n",
       "  <head>\n",
       "\n",
       "    <title>Flasky</title>\n",
       "    <meta name=\"viewport\" content=\"width=device-width, initial-scale=1.0\">\n",
       "    <!-- Bootstrap -->\n",
       "    <link href=\"//cdnjs.cloudflare.com/ajax/libs/twitter-bootstrap/3.3.7/css/bootstrap.min.css\" rel=\"stylesheet\">\n",
       "<link rel=\"shortcut icon\" href=\"/static/favicon.ico\" type=\"image/x-icon\">\n",
       "<link rel=\"icon\" href=\"/static/favicon.ico\" type=\"image/x-icon\">\n",
       "\n",
       "  </head>\n",
       "  <body>\n",
       "    \n",
       "<div class=\"navbar navbar-inverse\" role=\"navigation\">\n",
       "    <div class=\"container\">\n",
       "        <div class=\"navbar-header\">\n",
       "            <button type=\"button\" class=\"navbar-toggle\" data-toggle=\"collapse\" data-target=\".navbar-collapse\">\n",
       "                <span class=\"sr-only\">Toggle navigation</span>\n",
       "                <span class=\"icon-bar\"></span>\n",
       "                <span class=\"icon-bar\"></span>\n",
       "                <span class=\"icon-bar\"></span>\n",
       "            </button>\n",
       "            <a class=\"navbar-brand\" href=\"/\">Flasky</a>\n",
       "        </div>\n",
       "        <div class=\"navbar-collapse collapse\">\n",
       "            <ul class=\"nav navbar-nav\">\n",
       "                <li><a href=\"/\">Home</a></li>\n",
       "            </ul>\n",
       "        </div>\n",
       "    </div>\n",
       "</div>\n",
       "\n",
       "    \n",
       "<div class=\"container\">\n",
       "    \n",
       "\n",
       "    \n",
       "<div class=\"page-header\">\n",
       "    <h1>Hello, Stranger!</h1>\n",
       "</div>\n",
       "\n",
       "<form action=\"\" method=\"post\"\n",
       "  class=\"form\" role=\"form\">\n",
       "  \n",
       "  \n",
       "    \n",
       "\n",
       "\n",
       "\n",
       "\n",
       "\n",
       "\n",
       "<div class=\"form-group  has-error required\"><label class=\"control-label\" for=\"name\">What is your name?</label>\n",
       "        \n",
       "          <input class=\"form-control\" id=\"name\" name=\"name\" required type=\"text\" value=\"\">\n",
       "        \n",
       "            <p class=\"help-block\">This field is required.</p>\n",
       "  </div>\n",
       "\n",
       "\n",
       "    \n",
       "\n",
       "\n",
       "\n",
       "\n",
       "\n",
       "  \n",
       "\n",
       "  \n",
       "  \n",
       "\n",
       "\n",
       "    <input class=\"btn btn-default\" id=\"submit\" name=\"submit\" type=\"submit\" value=\"Submit\">\n",
       "  \n",
       "\n",
       "\n",
       "\n",
       "\n",
       "\n",
       "</form>\n",
       "\n",
       "</div>\n",
       "\n",
       "\n",
       "    \n",
       "\n",
       "    <script src=\"//cdnjs.cloudflare.com/ajax/libs/jquery/1.12.4/jquery.min.js\"></script>\n",
       "    <script src=\"//cdnjs.cloudflare.com/ajax/libs/twitter-bootstrap/3.3.7/js/bootstrap.min.js\"></script>\n",
       "<script src=\"//cdnjs.cloudflare.com/ajax/libs/moment.js/2.18.1/moment-with-locales.min.js\"></script>\n",
       "<script>\n",
       "moment.locale(\"en\");\n",
       "function flask_moment_render(elem) {\n",
       "    $(elem).text(eval('moment(\"' + $(elem).data('timestamp') + '\").' + $(elem).data('format') + ';'));\n",
       "    $(elem).removeClass('flask-moment').show();\n",
       "}\n",
       "function flask_moment_render_all() {\n",
       "    $('.flask-moment').each(function() {\n",
       "        flask_moment_render(this);\n",
       "        if ($(this).data('refresh')) {\n",
       "            (function(elem, interval) { setInterval(function() { flask_moment_render(elem) }, interval); })(this, $(this).data('refresh'));\n",
       "        }\n",
       "    })\n",
       "}\n",
       "$(document).ready(function() {\n",
       "    flask_moment_render_all();\n",
       "});\n",
       "</script>\n",
       "\n",
       "  </body>\n",
       "</html>\n"
      ],
      "text/plain": [
       "<IPython.core.display.HTML object>"
      ]
     },
     "metadata": {},
     "output_type": "display_data"
    },
    {
     "data": {
      "text/plain": [
       "<Response streamed [200 OK]>"
      ]
     },
     "execution_count": 32,
     "metadata": {},
     "output_type": "execute_result"
    }
   ],
   "source": [
    "client.post('/f_flash')"
   ]
  },
  {
   "cell_type": "code",
   "execution_count": 34,
   "metadata": {},
   "outputs": [
    {
     "data": {
      "text/html": [
       "\n",
       "\n",
       "<!DOCTYPE html>\n",
       "<html>\n",
       "  <head>\n",
       "\n",
       "    <title>Flasky</title>\n",
       "    <meta name=\"viewport\" content=\"width=device-width, initial-scale=1.0\">\n",
       "    <!-- Bootstrap -->\n",
       "    <link href=\"//cdnjs.cloudflare.com/ajax/libs/twitter-bootstrap/3.3.7/css/bootstrap.min.css\" rel=\"stylesheet\">\n",
       "<link rel=\"shortcut icon\" href=\"/static/favicon.ico\" type=\"image/x-icon\">\n",
       "<link rel=\"icon\" href=\"/static/favicon.ico\" type=\"image/x-icon\">\n",
       "\n",
       "  </head>\n",
       "  <body>\n",
       "    \n",
       "<div class=\"navbar navbar-inverse\" role=\"navigation\">\n",
       "    <div class=\"container\">\n",
       "        <div class=\"navbar-header\">\n",
       "            <button type=\"button\" class=\"navbar-toggle\" data-toggle=\"collapse\" data-target=\".navbar-collapse\">\n",
       "                <span class=\"sr-only\">Toggle navigation</span>\n",
       "                <span class=\"icon-bar\"></span>\n",
       "                <span class=\"icon-bar\"></span>\n",
       "                <span class=\"icon-bar\"></span>\n",
       "            </button>\n",
       "            <a class=\"navbar-brand\" href=\"/\">Flasky</a>\n",
       "        </div>\n",
       "        <div class=\"navbar-collapse collapse\">\n",
       "            <ul class=\"nav navbar-nav\">\n",
       "                <li><a href=\"/\">Home</a></li>\n",
       "            </ul>\n",
       "        </div>\n",
       "    </div>\n",
       "</div>\n",
       "\n",
       "    \n",
       "<div class=\"container\">\n",
       "    \n",
       "\n",
       "    \n",
       "<div class=\"page-header\">\n",
       "    <h1>Hello, Floyd!</h1>\n",
       "</div>\n",
       "\n",
       "<form action=\"\" method=\"post\"\n",
       "  class=\"form\" role=\"form\">\n",
       "  \n",
       "  \n",
       "    \n",
       "\n",
       "\n",
       "\n",
       "\n",
       "\n",
       "\n",
       "<div class=\"form-group  has-error required\"><label class=\"control-label\" for=\"name\">What is your name?</label>\n",
       "        \n",
       "          <input class=\"form-control\" id=\"name\" name=\"name\" required type=\"text\" value=\"\">\n",
       "        \n",
       "            <p class=\"help-block\">This field is required.</p>\n",
       "  </div>\n",
       "\n",
       "\n",
       "    \n",
       "\n",
       "\n",
       "\n",
       "\n",
       "\n",
       "  \n",
       "\n",
       "  \n",
       "  \n",
       "\n",
       "\n",
       "    <input class=\"btn btn-default\" id=\"submit\" name=\"submit\" type=\"submit\" value=\"Submit\">\n",
       "  \n",
       "\n",
       "\n",
       "\n",
       "\n",
       "\n",
       "</form>\n",
       "\n",
       "</div>\n",
       "\n",
       "\n",
       "    \n",
       "\n",
       "    <script src=\"//cdnjs.cloudflare.com/ajax/libs/jquery/1.12.4/jquery.min.js\"></script>\n",
       "    <script src=\"//cdnjs.cloudflare.com/ajax/libs/twitter-bootstrap/3.3.7/js/bootstrap.min.js\"></script>\n",
       "<script src=\"//cdnjs.cloudflare.com/ajax/libs/moment.js/2.18.1/moment-with-locales.min.js\"></script>\n",
       "<script>\n",
       "moment.locale(\"en\");\n",
       "function flask_moment_render(elem) {\n",
       "    $(elem).text(eval('moment(\"' + $(elem).data('timestamp') + '\").' + $(elem).data('format') + ';'));\n",
       "    $(elem).removeClass('flask-moment').show();\n",
       "}\n",
       "function flask_moment_render_all() {\n",
       "    $('.flask-moment').each(function() {\n",
       "        flask_moment_render(this);\n",
       "        if ($(this).data('refresh')) {\n",
       "            (function(elem, interval) { setInterval(function() { flask_moment_render(elem) }, interval); })(this, $(this).data('refresh'));\n",
       "        }\n",
       "    })\n",
       "}\n",
       "$(document).ready(function() {\n",
       "    flask_moment_render_all();\n",
       "});\n",
       "</script>\n",
       "\n",
       "  </body>\n",
       "</html>\n"
      ],
      "text/plain": [
       "<IPython.core.display.HTML object>"
      ]
     },
     "metadata": {},
     "output_type": "display_data"
    },
    {
     "data": {
      "text/plain": [
       "<Response streamed [200 OK]>"
      ]
     },
     "execution_count": 34,
     "metadata": {},
     "output_type": "execute_result"
    }
   ],
   "source": [
    "client.post('/f_flash', data = {'name': 'Floyd'}) # note the red rectangular"
   ]
  },
  {
   "cell_type": "code",
   "execution_count": 36,
   "metadata": {},
   "outputs": [
    {
     "data": {
      "text/html": [
       "\n",
       "\n",
       "<!DOCTYPE html>\n",
       "<html>\n",
       "  <head>\n",
       "\n",
       "    <title>Flasky</title>\n",
       "    <meta name=\"viewport\" content=\"width=device-width, initial-scale=1.0\">\n",
       "    <!-- Bootstrap -->\n",
       "    <link href=\"//cdnjs.cloudflare.com/ajax/libs/twitter-bootstrap/3.3.7/css/bootstrap.min.css\" rel=\"stylesheet\">\n",
       "<link rel=\"shortcut icon\" href=\"/static/favicon.ico\" type=\"image/x-icon\">\n",
       "<link rel=\"icon\" href=\"/static/favicon.ico\" type=\"image/x-icon\">\n",
       "\n",
       "  </head>\n",
       "  <body>\n",
       "    \n",
       "<div class=\"navbar navbar-inverse\" role=\"navigation\">\n",
       "    <div class=\"container\">\n",
       "        <div class=\"navbar-header\">\n",
       "            <button type=\"button\" class=\"navbar-toggle\" data-toggle=\"collapse\" data-target=\".navbar-collapse\">\n",
       "                <span class=\"sr-only\">Toggle navigation</span>\n",
       "                <span class=\"icon-bar\"></span>\n",
       "                <span class=\"icon-bar\"></span>\n",
       "                <span class=\"icon-bar\"></span>\n",
       "            </button>\n",
       "            <a class=\"navbar-brand\" href=\"/\">Flasky</a>\n",
       "        </div>\n",
       "        <div class=\"navbar-collapse collapse\">\n",
       "            <ul class=\"nav navbar-nav\">\n",
       "                <li><a href=\"/\">Home</a></li>\n",
       "            </ul>\n",
       "        </div>\n",
       "    </div>\n",
       "</div>\n",
       "\n",
       "    \n",
       "<div class=\"container\">\n",
       "    \n",
       "\n",
       "    \n",
       "<div class=\"page-header\">\n",
       "    <h1>Hello, Floyd!</h1>\n",
       "</div>\n",
       "\n",
       "<form action=\"\" method=\"post\"\n",
       "  class=\"form\" role=\"form\">\n",
       "  \n",
       "  \n",
       "    \n",
       "\n",
       "\n",
       "\n",
       "\n",
       "\n",
       "\n",
       "<div class=\"form-group  required\"><label class=\"control-label\" for=\"name\">What is your name?</label>\n",
       "        \n",
       "          <input class=\"form-control\" id=\"name\" name=\"name\" required type=\"text\" value=\"\">\n",
       "        \n",
       "  </div>\n",
       "\n",
       "\n",
       "    \n",
       "\n",
       "\n",
       "\n",
       "\n",
       "\n",
       "  \n",
       "\n",
       "  \n",
       "  \n",
       "\n",
       "\n",
       "    <input class=\"btn btn-default\" id=\"submit\" name=\"submit\" type=\"submit\" value=\"Submit\">\n",
       "  \n",
       "\n",
       "\n",
       "\n",
       "\n",
       "\n",
       "</form>\n",
       "\n",
       "</div>\n",
       "\n",
       "\n",
       "    \n",
       "\n",
       "    <script src=\"//cdnjs.cloudflare.com/ajax/libs/jquery/1.12.4/jquery.min.js\"></script>\n",
       "    <script src=\"//cdnjs.cloudflare.com/ajax/libs/twitter-bootstrap/3.3.7/js/bootstrap.min.js\"></script>\n",
       "<script src=\"//cdnjs.cloudflare.com/ajax/libs/moment.js/2.18.1/moment-with-locales.min.js\"></script>\n",
       "<script>\n",
       "moment.locale(\"en\");\n",
       "function flask_moment_render(elem) {\n",
       "    $(elem).text(eval('moment(\"' + $(elem).data('timestamp') + '\").' + $(elem).data('format') + ';'));\n",
       "    $(elem).removeClass('flask-moment').show();\n",
       "}\n",
       "function flask_moment_render_all() {\n",
       "    $('.flask-moment').each(function() {\n",
       "        flask_moment_render(this);\n",
       "        if ($(this).data('refresh')) {\n",
       "            (function(elem, interval) { setInterval(function() { flask_moment_render(elem) }, interval); })(this, $(this).data('refresh'));\n",
       "        }\n",
       "    })\n",
       "}\n",
       "$(document).ready(function() {\n",
       "    flask_moment_render_all();\n",
       "});\n",
       "</script>\n",
       "\n",
       "  </body>\n",
       "</html>\n"
      ],
      "text/plain": [
       "<IPython.core.display.HTML object>"
      ]
     },
     "metadata": {},
     "output_type": "display_data"
    },
    {
     "data": {
      "text/plain": [
       "<Response streamed [200 OK]>"
      ]
     },
     "execution_count": 36,
     "metadata": {},
     "output_type": "execute_result"
    }
   ],
   "source": [
    "client.get('/f_flash') "
   ]
  },
  {
   "cell_type": "code",
   "execution_count": 37,
   "metadata": {},
   "outputs": [
    {
     "data": {
      "text/html": [
       "\n",
       "\n",
       "<!DOCTYPE html>\n",
       "<html>\n",
       "  <head>\n",
       "\n",
       "    <title>Flasky</title>\n",
       "    <meta name=\"viewport\" content=\"width=device-width, initial-scale=1.0\">\n",
       "    <!-- Bootstrap -->\n",
       "    <link href=\"//cdnjs.cloudflare.com/ajax/libs/twitter-bootstrap/3.3.7/css/bootstrap.min.css\" rel=\"stylesheet\">\n",
       "<link rel=\"shortcut icon\" href=\"/static/favicon.ico\" type=\"image/x-icon\">\n",
       "<link rel=\"icon\" href=\"/static/favicon.ico\" type=\"image/x-icon\">\n",
       "\n",
       "  </head>\n",
       "  <body>\n",
       "    \n",
       "<div class=\"navbar navbar-inverse\" role=\"navigation\">\n",
       "    <div class=\"container\">\n",
       "        <div class=\"navbar-header\">\n",
       "            <button type=\"button\" class=\"navbar-toggle\" data-toggle=\"collapse\" data-target=\".navbar-collapse\">\n",
       "                <span class=\"sr-only\">Toggle navigation</span>\n",
       "                <span class=\"icon-bar\"></span>\n",
       "                <span class=\"icon-bar\"></span>\n",
       "                <span class=\"icon-bar\"></span>\n",
       "            </button>\n",
       "            <a class=\"navbar-brand\" href=\"/\">Flasky</a>\n",
       "        </div>\n",
       "        <div class=\"navbar-collapse collapse\">\n",
       "            <ul class=\"nav navbar-nav\">\n",
       "                <li><a href=\"/\">Home</a></li>\n",
       "            </ul>\n",
       "        </div>\n",
       "    </div>\n",
       "</div>\n",
       "\n",
       "    \n",
       "<div class=\"container\">\n",
       "    \n",
       "    <div class=\"alert alert-warning\">\n",
       "        <button type=\"button\" class=\"close\" data-dismiss=\"alert\">&times;</button>\n",
       "        This is a flashing, which appears if you change the name!\n",
       "    </div>\n",
       "    \n",
       "\n",
       "    \n",
       "<div class=\"page-header\">\n",
       "    <h1>Hello, JieJieJie!</h1>\n",
       "</div>\n",
       "\n",
       "<form action=\"\" method=\"post\"\n",
       "  class=\"form\" role=\"form\">\n",
       "  \n",
       "  \n",
       "    \n",
       "\n",
       "\n",
       "\n",
       "\n",
       "\n",
       "\n",
       "<div class=\"form-group  has-error required\"><label class=\"control-label\" for=\"name\">What is your name?</label>\n",
       "        \n",
       "          <input class=\"form-control\" id=\"name\" name=\"name\" required type=\"text\" value=\"\">\n",
       "        \n",
       "            <p class=\"help-block\">This field is required.</p>\n",
       "  </div>\n",
       "\n",
       "\n",
       "    \n",
       "\n",
       "\n",
       "\n",
       "\n",
       "\n",
       "  \n",
       "\n",
       "  \n",
       "  \n",
       "\n",
       "\n",
       "    <input class=\"btn btn-default\" id=\"submit\" name=\"submit\" type=\"submit\" value=\"Submit\">\n",
       "  \n",
       "\n",
       "\n",
       "\n",
       "\n",
       "\n",
       "</form>\n",
       "\n",
       "</div>\n",
       "\n",
       "\n",
       "    \n",
       "\n",
       "    <script src=\"//cdnjs.cloudflare.com/ajax/libs/jquery/1.12.4/jquery.min.js\"></script>\n",
       "    <script src=\"//cdnjs.cloudflare.com/ajax/libs/twitter-bootstrap/3.3.7/js/bootstrap.min.js\"></script>\n",
       "<script src=\"//cdnjs.cloudflare.com/ajax/libs/moment.js/2.18.1/moment-with-locales.min.js\"></script>\n",
       "<script>\n",
       "moment.locale(\"en\");\n",
       "function flask_moment_render(elem) {\n",
       "    $(elem).text(eval('moment(\"' + $(elem).data('timestamp') + '\").' + $(elem).data('format') + ';'));\n",
       "    $(elem).removeClass('flask-moment').show();\n",
       "}\n",
       "function flask_moment_render_all() {\n",
       "    $('.flask-moment').each(function() {\n",
       "        flask_moment_render(this);\n",
       "        if ($(this).data('refresh')) {\n",
       "            (function(elem, interval) { setInterval(function() { flask_moment_render(elem) }, interval); })(this, $(this).data('refresh'));\n",
       "        }\n",
       "    })\n",
       "}\n",
       "$(document).ready(function() {\n",
       "    flask_moment_render_all();\n",
       "});\n",
       "</script>\n",
       "\n",
       "  </body>\n",
       "</html>\n"
      ],
      "text/plain": [
       "<IPython.core.display.HTML object>"
      ]
     },
     "metadata": {},
     "output_type": "display_data"
    },
    {
     "data": {
      "text/plain": [
       "<Response streamed [200 OK]>"
      ]
     },
     "execution_count": 37,
     "metadata": {},
     "output_type": "execute_result"
    }
   ],
   "source": [
    "client.post('/f_flash', data = {'name': 'JieJieJie'}) "
   ]
  },
  {
   "cell_type": "code",
   "execution_count": 38,
   "metadata": {},
   "outputs": [
    {
     "data": {
      "text/html": [
       "\n",
       "\n",
       "<!DOCTYPE html>\n",
       "<html>\n",
       "  <head>\n",
       "\n",
       "    <title>Flasky</title>\n",
       "    <meta name=\"viewport\" content=\"width=device-width, initial-scale=1.0\">\n",
       "    <!-- Bootstrap -->\n",
       "    <link href=\"//cdnjs.cloudflare.com/ajax/libs/twitter-bootstrap/3.3.7/css/bootstrap.min.css\" rel=\"stylesheet\">\n",
       "<link rel=\"shortcut icon\" href=\"/static/favicon.ico\" type=\"image/x-icon\">\n",
       "<link rel=\"icon\" href=\"/static/favicon.ico\" type=\"image/x-icon\">\n",
       "\n",
       "  </head>\n",
       "  <body>\n",
       "    \n",
       "<div class=\"navbar navbar-inverse\" role=\"navigation\">\n",
       "    <div class=\"container\">\n",
       "        <div class=\"navbar-header\">\n",
       "            <button type=\"button\" class=\"navbar-toggle\" data-toggle=\"collapse\" data-target=\".navbar-collapse\">\n",
       "                <span class=\"sr-only\">Toggle navigation</span>\n",
       "                <span class=\"icon-bar\"></span>\n",
       "                <span class=\"icon-bar\"></span>\n",
       "                <span class=\"icon-bar\"></span>\n",
       "            </button>\n",
       "            <a class=\"navbar-brand\" href=\"/\">Flasky</a>\n",
       "        </div>\n",
       "        <div class=\"navbar-collapse collapse\">\n",
       "            <ul class=\"nav navbar-nav\">\n",
       "                <li><a href=\"/\">Home</a></li>\n",
       "            </ul>\n",
       "        </div>\n",
       "    </div>\n",
       "</div>\n",
       "\n",
       "    \n",
       "<div class=\"container\">\n",
       "    \n",
       "\n",
       "    \n",
       "<div class=\"page-header\">\n",
       "    <h1>Hello, JieJieJie!</h1>\n",
       "</div>\n",
       "\n",
       "<form action=\"\" method=\"post\"\n",
       "  class=\"form\" role=\"form\">\n",
       "  \n",
       "  \n",
       "    \n",
       "\n",
       "\n",
       "\n",
       "\n",
       "\n",
       "\n",
       "<div class=\"form-group  required\"><label class=\"control-label\" for=\"name\">What is your name?</label>\n",
       "        \n",
       "          <input class=\"form-control\" id=\"name\" name=\"name\" required type=\"text\" value=\"\">\n",
       "        \n",
       "  </div>\n",
       "\n",
       "\n",
       "    \n",
       "\n",
       "\n",
       "\n",
       "\n",
       "\n",
       "  \n",
       "\n",
       "  \n",
       "  \n",
       "\n",
       "\n",
       "    <input class=\"btn btn-default\" id=\"submit\" name=\"submit\" type=\"submit\" value=\"Submit\">\n",
       "  \n",
       "\n",
       "\n",
       "\n",
       "\n",
       "\n",
       "</form>\n",
       "\n",
       "</div>\n",
       "\n",
       "\n",
       "    \n",
       "\n",
       "    <script src=\"//cdnjs.cloudflare.com/ajax/libs/jquery/1.12.4/jquery.min.js\"></script>\n",
       "    <script src=\"//cdnjs.cloudflare.com/ajax/libs/twitter-bootstrap/3.3.7/js/bootstrap.min.js\"></script>\n",
       "<script src=\"//cdnjs.cloudflare.com/ajax/libs/moment.js/2.18.1/moment-with-locales.min.js\"></script>\n",
       "<script>\n",
       "moment.locale(\"en\");\n",
       "function flask_moment_render(elem) {\n",
       "    $(elem).text(eval('moment(\"' + $(elem).data('timestamp') + '\").' + $(elem).data('format') + ';'));\n",
       "    $(elem).removeClass('flask-moment').show();\n",
       "}\n",
       "function flask_moment_render_all() {\n",
       "    $('.flask-moment').each(function() {\n",
       "        flask_moment_render(this);\n",
       "        if ($(this).data('refresh')) {\n",
       "            (function(elem, interval) { setInterval(function() { flask_moment_render(elem) }, interval); })(this, $(this).data('refresh'));\n",
       "        }\n",
       "    })\n",
       "}\n",
       "$(document).ready(function() {\n",
       "    flask_moment_render_all();\n",
       "});\n",
       "</script>\n",
       "\n",
       "  </body>\n",
       "</html>\n"
      ],
      "text/plain": [
       "<IPython.core.display.HTML object>"
      ]
     },
     "metadata": {},
     "output_type": "display_data"
    },
    {
     "data": {
      "text/plain": [
       "<Response streamed [200 OK]>"
      ]
     },
     "execution_count": 38,
     "metadata": {},
     "output_type": "execute_result"
    }
   ],
   "source": [
    "client.get('/f_flash') "
   ]
  }
 ],
 "metadata": {
  "kernelspec": {
   "display_name": "Flasky",
   "language": "python",
   "name": "flasky"
  },
  "language_info": {
   "codemirror_mode": {
    "name": "ipython",
    "version": 3
   },
   "file_extension": ".py",
   "mimetype": "text/x-python",
   "name": "python",
   "nbconvert_exporter": "python",
   "pygments_lexer": "ipython3",
   "version": "3.6.5"
  }
 },
 "nbformat": 4,
 "nbformat_minor": 2
}
